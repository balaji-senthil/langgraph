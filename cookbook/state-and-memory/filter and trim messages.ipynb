{
 "cells": [
  {
   "cell_type": "markdown",
   "id": "7c2febc4",
   "metadata": {},
   "source": [
    "# LangGraph Filter and Trim Messages - Python Cookbook"
   ]
  },
  {
   "cell_type": "markdown",
   "id": "fedddeb7",
   "metadata": {},
   "source": [
    "### llm"
   ]
  },
  {
   "cell_type": "code",
   "execution_count": 49,
   "id": "6a0ae2cc",
   "metadata": {},
   "outputs": [],
   "source": [
    "from dotenv import load_dotenv\n",
    "from langchain_google_genai import ChatGoogleGenerativeAI\n",
    "load_dotenv()\n",
    "\n",
    "llm = ChatGoogleGenerativeAI(model='gemini-2.5-flash',temperature=0)\n"
   ]
  },
  {
   "cell_type": "markdown",
   "id": "a67d368c",
   "metadata": {},
   "source": [
    "### State - Message from Langchain"
   ]
  },
  {
   "cell_type": "code",
   "execution_count": 50,
   "id": "15e78631",
   "metadata": {},
   "outputs": [
    {
     "name": "stdout",
     "output_type": "stream",
     "text": [
      "==================================\u001b[1m Ai Message \u001b[0m==================================\n",
      "Name: Gemini\n",
      "\n",
      "Did you watch the game on 2024 IPL Final?\n",
      "================================\u001b[1m Human Message \u001b[0m=================================\n",
      "Name: Alice\n",
      "\n",
      "Not ringing a bell. Can you tell me what happened?\n"
     ]
    }
   ],
   "source": [
    "\n",
    "from langchain_core.messages import AnyMessage, HumanMessage, AIMessage, trim_messages\n",
    "\n",
    "from langgraph.graph.message import add_messages, RemoveMessage\n",
    "\n",
    "messages = [AIMessage(f\"Did you watch the game on 2024 IPL Final?\", name=\"Gemini\")]\n",
    "messages.append(HumanMessage(f\"Not ringing a bell. Can you tell me what happened?\", name=\"Alice\"))\n",
    "\n",
    "for m in messages:\n",
    "    m.pretty_print()"
   ]
  },
  {
   "cell_type": "code",
   "execution_count": 51,
   "id": "3a51592e",
   "metadata": {},
   "outputs": [
    {
     "data": {
      "text/plain": [
       "AIMessage(content=\"Ah, the 2024 IPL Final! It was a pretty one-sided affair, largely dominated by **Kolkata Knight Riders (KKR)**.\\n\\nHere's a quick rundown:\\n\\n*   **Teams:** Kolkata Knight Riders (KKR) vs. Sunrisers Hyderabad (SRH)\\n*   **Venue:** M. A. Chidambaram Stadium, Chennai\\n*   **Date:** May 26, 2024\\n\\n**What happened:**\\n\\n1.  **SRH Batting Collapse:** KKR won the toss and elected to bowl first. SRH, known for their aggressive batting throughout the season, had a disastrous start. Their dangerous openers, Travis Head and Abhishek Sharma, fell very early.\\n2.  **Starc's Brilliance:** Mitchell Starc, KKR's big-money signing, delivered a sensational opening spell, picking up crucial wickets and setting the tone. He was later named **Man of the Match**.\\n3.  **Lowest Final Score:** SRH were bundled out for a mere **113 runs** in just 18.3 overs, which was the lowest total ever in an IPL final.\\n4.  **KKR's Easy Chase:** Chasing a paltry target, KKR's batsmen made short work of it. Venkatesh Iyer led the charge with a blistering half-century (52* off 26 balls).\\n5.  **KKR Wins Convincingly:** KKR reached the target in just 10.3 overs, winning by **8 wickets**.\\n\\n**In essence:** KKR put on a dominant performance, especially with the ball, to completely dismantle SRH and secure their **third IPL title**, their first since 2014. It was a fitting end to a season where KKR had been consistently strong.\", additional_kwargs={}, response_metadata={'prompt_feedback': {'block_reason': 0, 'safety_ratings': []}, 'finish_reason': 'STOP', 'model_name': 'gemini-2.5-flash', 'safety_ratings': []}, id='run--0277c4bb-ea6f-4ccf-ada0-3a7f435ac103-0', usage_metadata={'input_tokens': 28, 'output_tokens': 1629, 'total_tokens': 1657, 'input_token_details': {'cache_read': 0}, 'output_token_details': {'reasoning': 1241}})"
      ]
     },
     "execution_count": 51,
     "metadata": {},
     "output_type": "execute_result"
    }
   ],
   "source": [
    "llm.invoke(messages)"
   ]
  },
  {
   "cell_type": "markdown",
   "id": "ef81284e",
   "metadata": {},
   "source": [
    "### Node"
   ]
  },
  {
   "cell_type": "code",
   "execution_count": 52,
   "id": "a7a8dce4",
   "metadata": {},
   "outputs": [],
   "source": [
    "from langgraph.graph import MessagesState\n",
    "\n",
    "def chat_model_node(state: MessagesState):\n",
    "    return {\"messages\": llm.invoke(state[\"messages\"])}"
   ]
  },
  {
   "cell_type": "markdown",
   "id": "1d6bc472",
   "metadata": {},
   "source": [
    "### Lets build a graph"
   ]
  },
  {
   "cell_type": "code",
   "execution_count": 53,
   "id": "a3663774",
   "metadata": {},
   "outputs": [
    {
     "data": {
      "image/png": "[encoded data removed]",
      "text/plain": [
       "<IPython.core.display.Image object>"
      ]
     },
     "metadata": {},
     "output_type": "display_data"
    }
   ],
   "source": [
    "from IPython.display import Image, display\n",
    "from langgraph.graph import StateGraph, START, END\n",
    "\n",
    "# Build graph\n",
    "builder = StateGraph(MessagesState)\n",
    "builder.add_node(\"chat_model\", chat_model_node)\n",
    "builder.add_edge(START, \"chat_model\")\n",
    "builder.add_edge(\"chat_model\", END)\n",
    "graph = builder.compile()\n",
    "\n",
    "# View\n",
    "display(Image(graph.get_graph().draw_mermaid_png()))"
   ]
  },
  {
   "cell_type": "code",
   "execution_count": 54,
   "id": "143a0792",
   "metadata": {},
   "outputs": [
    {
     "name": "stdout",
     "output_type": "stream",
     "text": [
      "==================================\u001b[1m Ai Message \u001b[0m==================================\n",
      "Name: Gemini\n",
      "\n",
      "Did you watch the game on 2024 IPL Final?\n",
      "================================\u001b[1m Human Message \u001b[0m=================================\n",
      "Name: Alice\n",
      "\n",
      "Not ringing a bell. Can you tell me what happened?\n",
      "==================================\u001b[1m Ai Message \u001b[0m==================================\n",
      "\n",
      "Ah, the 2024 IPL Final! It was a pretty one-sided affair, largely dominated by **Kolkata Knight Riders (KKR)**.\n",
      "\n",
      "Here's a quick rundown:\n",
      "\n",
      "*   **Teams:** Kolkata Knight Riders (KKR) vs. Sunrisers Hyderabad (SRH)\n",
      "*   **Venue:** M. A. Chidambaram Stadium, Chennai\n",
      "*   **Date:** May 26, 2024\n",
      "\n",
      "**What happened:**\n",
      "\n",
      "1.  **SRH Batting Collapse:** KKR won the toss and elected to bowl first. SRH, known for their aggressive batting throughout the season, had a disastrous start. Their dangerous openers, Travis Head and Abhishek Sharma, fell very early.\n",
      "2.  **Starc's Brilliance:** Mitchell Starc, KKR's big-money signing, delivered a sensational opening spell, picking up crucial wickets and setting the tone. He was later named **Man of the Match**.\n",
      "3.  **Lowest Final Score:** SRH were bundled out for a mere **113 runs** in just 18.3 overs, which was the lowest total ever in an IPL final.\n",
      "4.  **KKR's Easy Chase:** Chasing a paltry target, KKR's batsmen made short work of it. Venkatesh Iyer led the charge with a blistering half-century (52* off 26 balls).\n",
      "5.  **KKR Wins Convincingly:** KKR reached the target in just 10.3 overs, winning by **8 wickets**.\n",
      "\n",
      "**In essence:** KKR put on a dominant performance, especially with the ball, to completely dismantle SRH and secure their **third IPL title**, their first since 2014. It was a fitting end to a season where KKR had been consistently strong.\n"
     ]
    }
   ],
   "source": [
    "# simple invoke with all messages\n",
    "\n",
    "out = graph.invoke({\"messages\": messages})\n",
    "for msg in out[\"messages\"]:\n",
    "\t\tmsg.pretty_print()"
   ]
  },
  {
   "cell_type": "markdown",
   "id": "8bb9d866",
   "metadata": {},
   "source": [
    "### adding reducers\n",
    "\n",
    "#### 1. Filter Message"
   ]
  },
  {
   "cell_type": "code",
   "execution_count": 55,
   "id": "f287346b",
   "metadata": {},
   "outputs": [],
   "source": [
    "def filter_messages(state: MessagesState):\n",
    "  delete_messages = [RemoveMessage(id=m.id) for m in state['messages'][:-2]]\n",
    "  return {\"messages\": delete_messages}"
   ]
  },
  {
   "cell_type": "markdown",
   "id": "0e0a4462",
   "metadata": {},
   "source": [
    "### rebuild the graph"
   ]
  },
  {
   "cell_type": "code",
   "execution_count": 56,
   "id": "25fd508c",
   "metadata": {},
   "outputs": [
    {
     "data": {
      "image/png": "[encoded data removed]",
      "text/plain": [
       "<IPython.core.display.Image object>"
      ]
     },
     "metadata": {},
     "output_type": "display_data"
    }
   ],
   "source": [
    "builder = StateGraph(MessagesState)\n",
    "builder.add_node(\"filter\", filter_messages)\n",
    "builder.add_node(\"chat_model\", chat_model_node)\n",
    "builder.add_edge(START, \"filter\")\n",
    "builder.add_edge(\"filter\", \"chat_model\")\n",
    "builder.add_edge(\"chat_model\", END)\n",
    "graph = builder.compile()\n",
    "\n",
    "display(Image(graph.get_graph().draw_mermaid_png()))"
   ]
  },
  {
   "cell_type": "code",
   "execution_count": 92,
   "id": "8e43dd9c",
   "metadata": {},
   "outputs": [
    {
     "name": "stdout",
     "output_type": "stream",
     "text": [
      "==================================\u001b[1m Ai Message \u001b[0m==================================\n",
      "Name: Gemini\n",
      "\n",
      "Hi.\n",
      "================================\u001b[1m Human Message \u001b[0m=================================\n",
      "Name: Alice\n",
      "\n",
      "Hi.\n",
      "==================================\u001b[1m Ai Message \u001b[0m==================================\n",
      "Name: Gemini\n",
      "\n",
      "How are you?\n",
      "================================\u001b[1m Human Message \u001b[0m=================================\n",
      "Name: Alice\n",
      "\n",
      "I am good, can we talk about IPL 2024 final.\n",
      "==================================\u001b[1m Ai Message \u001b[0m==================================\n",
      "\n",
      "Absolutely! The IPL 2024 final was quite a memorable one, especially for KKR fans.\n",
      "\n",
      "What would you like to discuss about it? Are you curious about the match highlights, specific player performances, or the overall outcome?\n"
     ]
    }
   ],
   "source": [
    "messages = [AIMessage(\"Hi.\", name=\"Gemini\", id=\"1\")]\n",
    "messages.append(HumanMessage(\"Hi.\", name=\"Alice\", id=\"2\"))\n",
    "messages.append(AIMessage(\"How are you?\", name=\"Gemini\", id=\"3\"))\n",
    "messages.append(HumanMessage(\"I am good, can we talk about IPL 2024 final.\", name=\"Alice\", id=\"4\"))\n",
    "out = graph.invoke({\"messages\": messages})\n",
    "for msg in out[\"messages\"]:\n",
    "\t\tmsg.pretty_print()"
   ]
  },
  {
   "cell_type": "markdown",
   "id": "0d21e26e",
   "metadata": {},
   "source": [
    "#### 2. Trim Messages\n",
    "- this is based on tokens primarily"
   ]
  },
  {
   "cell_type": "code",
   "execution_count": 96,
   "id": "4ebaf79f",
   "metadata": {},
   "outputs": [
    {
     "data": {
      "image/png": "[encoded data removed]",
      "text/plain": [
       "<IPython.core.display.Image object>"
      ]
     },
     "metadata": {},
     "output_type": "display_data"
    }
   ],
   "source": [
    "from langchain_core.messages.utils import count_tokens_approximately\n",
    "def chat_model_node(state: MessagesState):\n",
    "\t\tmessages = trim_messages(\n",
    "\t\t\tmessages=state[\"messages\"], \n",
    "\t\t\tmax_tokens=50, \n",
    "\t\t\tstrategy='last', \n",
    "\t\t\ttoken_counter=ChatGoogleGenerativeAI(model='gemini-2.5-flash')\n",
    "\t\t)\n",
    "\t\treturn {\"messages\": [llm.invoke(messages)]}\n",
    "\n",
    "builder = StateGraph(MessagesState)\n",
    "builder.add_node(\"chat_model\", chat_model_node)\n",
    "builder.add_edge(START, \"chat_model\")\n",
    "builder.add_edge(\"chat_model\", END)\n",
    "graph = builder.compile()\n",
    "display(Image(graph.get_graph().draw_mermaid_png()))"
   ]
  },
  {
   "cell_type": "code",
   "execution_count": null,
   "id": "36171a65",
   "metadata": {},
   "outputs": [
    {
     "data": {
      "text/plain": [
       "[AIMessage(content='Hi.', additional_kwargs={}, response_metadata={}, name='Gemini', id='1'),\n",
       " HumanMessage(content='Hi.', additional_kwargs={}, response_metadata={}, name='Alice', id='2'),\n",
       " AIMessage(content='How are you?', additional_kwargs={}, response_metadata={}, name='Gemini', id='3'),\n",
       " HumanMessage(content='I am good, can we talk about IPL 2024 final.', additional_kwargs={}, response_metadata={}, name='Alice', id='4'),\n",
       " AIMessage(content='Hi.', additional_kwargs={}, response_metadata={}, name='Gemini', id='1'),\n",
       " HumanMessage(content='Hi.', additional_kwargs={}, response_metadata={}, name='Alice', id='2'),\n",
       " AIMessage(content='How are you?', additional_kwargs={}, response_metadata={}, name='Gemini', id='3'),\n",
       " HumanMessage(content='I am good, can we talk about IPL 2024 final.', additional_kwargs={}, response_metadata={}, name='Alice', id='4'),\n",
       " AIMessage(content='Absolutely! The IPL 2024 final was quite a memorable one, especially for KKR fans.\\n\\nWhat would you like to discuss about it? Are you curious about the match highlights, specific player performances, or the overall outcome?', additional_kwargs={}, response_metadata={'prompt_feedback': {'block_reason': 0, 'safety_ratings': []}, 'finish_reason': 'STOP', 'model_name': 'gemini-2.5-flash', 'safety_ratings': []}, id='run--94226a5f-b04c-4340-83ec-d38087f57395-0', usage_metadata={'input_tokens': 28, 'output_tokens': 313, 'total_tokens': 341, 'input_token_details': {'cache_read': 0}, 'output_token_details': {'reasoning': 264}}),\n",
       " HumanMessage(content='Tell me where penguins live!', additional_kwargs={}, response_metadata={}, name='Alice', id='3af87e06-4229-438b-a690-a2b2f9fd036a'),\n",
       " AIMessage(content='Hi.', additional_kwargs={}, response_metadata={}, name='Gemini', id='1'),\n",
       " HumanMessage(content='Hi.', additional_kwargs={}, response_metadata={}, name='Alice', id='2'),\n",
       " AIMessage(content='How are you?', additional_kwargs={}, response_metadata={}, name='Gemini', id='3'),\n",
       " HumanMessage(content='I am good, can we talk about IPL 2024 final.', additional_kwargs={}, response_metadata={}, name='Alice', id='4'),\n",
       " AIMessage(content='Absolutely! The IPL 2024 final was quite a memorable one, especially for KKR fans.\\n\\nWhat would you like to discuss about it? Are you curious about the match highlights, specific player performances, or the overall outcome?', additional_kwargs={}, response_metadata={'prompt_feedback': {'block_reason': 0, 'safety_ratings': []}, 'finish_reason': 'STOP', 'model_name': 'gemini-2.5-flash', 'safety_ratings': []}, id='run--94226a5f-b04c-4340-83ec-d38087f57395-0', usage_metadata={'input_tokens': 28, 'output_tokens': 313, 'total_tokens': 341, 'input_token_details': {'cache_read': 0}, 'output_token_details': {'reasoning': 264}}),\n",
       " HumanMessage(content='Tell me where penguins live!', additional_kwargs={}, response_metadata={}, name='Alice')]"
      ]
     },
     "execution_count": 98,
     "metadata": {},
     "output_type": "execute_result"
    }
   ],
   "source": [
    "messages = [*messages, *out['messages']]\n",
    "messages.append(HumanMessage(f\"Tell me where penguins live!\", name=\"Alice\"))\n",
    "messages"
   ]
  },
  {
   "cell_type": "code",
   "execution_count": 60,
   "id": "1ecae806",
   "metadata": {},
   "outputs": [
    {
     "data": {
      "text/plain": [
       "[]"
      ]
     },
     "execution_count": 60,
     "metadata": {},
     "output_type": "execute_result"
    }
   ],
   "source": [
    "trim_messages(\n",
    "\t\t\tmessages=messages, \n",
    "\t\t\tmax_tokens=10, \n",
    "\t\t\tstrategy='last', \n",
    "\t\t\ttoken_counter=count_tokens_approximately\n",
    "\t\t)\n"
   ]
  },
  {
   "cell_type": "code",
   "execution_count": 99,
   "id": "23c0ed9c",
   "metadata": {},
   "outputs": [
    {
     "name": "stdout",
     "output_type": "stream",
     "text": [
      "==================================\u001b[1m Ai Message \u001b[0m==================================\n",
      "Name: Gemini\n",
      "\n",
      "Hi.\n",
      "================================\u001b[1m Human Message \u001b[0m=================================\n",
      "Name: Alice\n",
      "\n",
      "Hi.\n",
      "==================================\u001b[1m Ai Message \u001b[0m==================================\n",
      "Name: Gemini\n",
      "\n",
      "How are you?\n",
      "================================\u001b[1m Human Message \u001b[0m=================================\n",
      "Name: Alice\n",
      "\n",
      "I am good, can we talk about IPL 2024 final.\n",
      "==================================\u001b[1m Ai Message \u001b[0m==================================\n",
      "\n",
      "Absolutely! The IPL 2024 final was quite a memorable one, especially for KKR fans.\n",
      "\n",
      "What would you like to discuss about it? Are you curious about the match highlights, specific player performances, or the overall outcome?\n",
      "================================\u001b[1m Human Message \u001b[0m=================================\n",
      "Name: Alice\n",
      "\n",
      "Tell me where penguins live!\n",
      "================================\u001b[1m Human Message \u001b[0m=================================\n",
      "Name: Alice\n",
      "\n",
      "Tell me where penguins live!\n",
      "==================================\u001b[1m Ai Message \u001b[0m==================================\n",
      "\n",
      "Penguins live almost exclusively in the **Southern Hemisphere**!\n",
      "\n",
      "You'll find them in a variety of places, including:\n",
      "\n",
      "*   **Antarctica** (many species)\n",
      "*   **South America:** Coasts of Chile, Peru, Argentina, and the Falkland Islands.\n",
      "*   **Africa:** Along the coast of South Africa.\n",
      "*   **Australia:** Southern coasts.\n",
      "*   **New Zealand:** Various islands and coasts.\n",
      "*   **Galapagos Islands:** The Galapagos Penguin is the only species found north of the equator, but still primarily in the Southern Hemisphere.\n",
      "\n",
      "They are **not** found naturally in the Arctic or at the North Pole.\n"
     ]
    }
   ],
   "source": [
    "messages_out_trim = graph.invoke({'messages': messages})\n",
    "for msg in messages_out_trim['messages']:\n",
    "\t\tmsg.pretty_print()"
   ]
  }
 ],
 "metadata": {
  "kernelspec": {
   "display_name": "lc-academy-env",
   "language": "python",
   "name": "python3"
  },
  "language_info": {
   "codemirror_mode": {
    "name": "ipython",
    "version": 3
   },
   "file_extension": ".py",
   "mimetype": "text/x-python",
   "name": "python",
   "nbconvert_exporter": "python",
   "pygments_lexer": "ipython3",
   "version": "3.11.5"
  }
 },
 "nbformat": 4,
 "nbformat_minor": 5
}
