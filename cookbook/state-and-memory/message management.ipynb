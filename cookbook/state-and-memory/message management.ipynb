{
 "cells": [
  {
   "cell_type": "markdown",
   "id": "7c2febc4",
   "metadata": {},
   "source": [
    "# LangGraph Message Management: Filter and Trim Messages | Memory - In memory and local db - Python Cookbook"
   ]
  },
  {
   "cell_type": "markdown",
   "id": "fedddeb7",
   "metadata": {},
   "source": [
    "### llm"
   ]
  },
  {
   "cell_type": "code",
   "execution_count": 11,
   "id": "6a0ae2cc",
   "metadata": {},
   "outputs": [],
   "source": [
    "from dotenv import load_dotenv\n",
    "from langchain_google_genai import ChatGoogleGenerativeAI\n",
    "load_dotenv()\n",
    "\n",
    "llm = ChatGoogleGenerativeAI(model='gemini-2.0-flash',temperature=0)\n"
   ]
  },
  {
   "cell_type": "markdown",
   "id": "a67d368c",
   "metadata": {},
   "source": [
    "### State - Message from Langchain"
   ]
  },
  {
   "cell_type": "code",
   "execution_count": 12,
   "id": "15e78631",
   "metadata": {},
   "outputs": [
    {
     "name": "stdout",
     "output_type": "stream",
     "text": [
      "==================================\u001b[1m Ai Message \u001b[0m==================================\n",
      "Name: Gemini\n",
      "\n",
      "Did you watch the game on 2024 IPL Final?\n",
      "================================\u001b[1m Human Message \u001b[0m=================================\n",
      "Name: Alice\n",
      "\n",
      "Not ringing a bell. Can you tell me what happened?\n"
     ]
    }
   ],
   "source": [
    "\n",
    "from langchain_core.messages import AnyMessage, HumanMessage, AIMessage, trim_messages\n",
    "\n",
    "from langgraph.graph.message import add_messages, RemoveMessage\n",
    "\n",
    "messages = [AIMessage(f\"Did you watch the game on 2024 IPL Final?\", name=\"Gemini\")]\n",
    "messages.append(HumanMessage(f\"Not ringing a bell. Can you tell me what happened?\", name=\"Alice\"))\n",
    "\n",
    "for m in messages:\n",
    "\tm.pretty_print()"
   ]
  },
  {
   "cell_type": "code",
   "execution_count": 13,
   "id": "3a51592e",
   "metadata": {},
   "outputs": [
    {
     "data": {
      "text/plain": [
       "AIMessage(content='The Kolkata Knight Riders (KKR) won the 2024 IPL final, defeating the Sunrisers Hyderabad (SRH) quite convincingly. It was a dominant performance by KKR. They bowled SRH out for a very low score and then chased it down with ease.', additional_kwargs={}, response_metadata={'prompt_feedback': {'block_reason': 0, 'safety_ratings': []}, 'finish_reason': 'STOP', 'model_name': 'gemini-2.0-flash', 'safety_ratings': []}, id='run--63bdad29-7ab7-4a54-a11b-9d2a6dc39e1b-0', usage_metadata={'input_tokens': 26, 'output_tokens': 59, 'total_tokens': 85, 'input_token_details': {'cache_read': 0}})"
      ]
     },
     "execution_count": 13,
     "metadata": {},
     "output_type": "execute_result"
    }
   ],
   "source": [
    "llm.invoke(messages)"
   ]
  },
  {
   "cell_type": "markdown",
   "id": "ef81284e",
   "metadata": {},
   "source": [
    "### Node"
   ]
  },
  {
   "cell_type": "code",
   "execution_count": 14,
   "id": "a7a8dce4",
   "metadata": {},
   "outputs": [],
   "source": [
    "from langgraph.graph import MessagesState\n",
    "\n",
    "def chat_model_node(state: MessagesState):\n",
    "\treturn {\"messages\": llm.invoke(state[\"messages\"])}"
   ]
  },
  {
   "cell_type": "markdown",
   "id": "1d6bc472",
   "metadata": {},
   "source": [
    "### Lets build a graph"
   ]
  },
  {
   "cell_type": "code",
   "execution_count": 15,
   "id": "a3663774",
   "metadata": {},
   "outputs": [
    {
     "data": {
      "image/png": "[encoded data removed]",
      "text/plain": [
       "<IPython.core.display.Image object>"
      ]
     },
     "metadata": {},
     "output_type": "display_data"
    }
   ],
   "source": [
    "from IPython.display import Image, display\n",
    "from langgraph.graph import StateGraph, START, END\n",
    "\n",
    "# Build graph\n",
    "builder = StateGraph(MessagesState)\n",
    "builder.add_node(\"chat_model\", chat_model_node)\n",
    "builder.add_edge(START, \"chat_model\")\n",
    "builder.add_edge(\"chat_model\", END)\n",
    "graph = builder.compile()\n",
    "\n",
    "# View\n",
    "display(Image(graph.get_graph().draw_mermaid_png()))"
   ]
  },
  {
   "cell_type": "code",
   "execution_count": 16,
   "id": "143a0792",
   "metadata": {},
   "outputs": [
    {
     "name": "stdout",
     "output_type": "stream",
     "text": [
      "==================================\u001b[1m Ai Message \u001b[0m==================================\n",
      "Name: Gemini\n",
      "\n",
      "Did you watch the game on 2024 IPL Final?\n",
      "================================\u001b[1m Human Message \u001b[0m=================================\n",
      "Name: Alice\n",
      "\n",
      "Not ringing a bell. Can you tell me what happened?\n",
      "==================================\u001b[1m Ai Message \u001b[0m==================================\n",
      "\n",
      "The Kolkata Knight Riders (KKR) won the 2024 IPL final, defeating the Sunrisers Hyderabad (SRH) quite convincingly. KKR bowled SRH out for just 113 and then chased down the target with ease, winning by 8 wickets. It was a dominant performance by KKR.\n"
     ]
    }
   ],
   "source": [
    "# simple invoke with all messages\n",
    "\n",
    "out = graph.invoke({\"messages\": messages})\n",
    "for msg in out[\"messages\"]:\n",
    "\t\tmsg.pretty_print()"
   ]
  },
  {
   "cell_type": "markdown",
   "id": "8bb9d866",
   "metadata": {},
   "source": [
    "### adding reducers\n",
    "\n",
    "#### 1. Filter Message"
   ]
  },
  {
   "cell_type": "code",
   "execution_count": 17,
   "id": "f287346b",
   "metadata": {},
   "outputs": [],
   "source": [
    "def filter_messages(state: MessagesState):\n",
    "\tdelete_messages = [RemoveMessage(id=m.id) for m in state['messages'][:-2]]\n",
    "\treturn {\"messages\": delete_messages}"
   ]
  },
  {
   "cell_type": "markdown",
   "id": "0e0a4462",
   "metadata": {},
   "source": [
    "### rebuild the graph"
   ]
  },
  {
   "cell_type": "code",
   "execution_count": 18,
   "id": "25fd508c",
   "metadata": {},
   "outputs": [
    {
     "data": {
      "image/png": "[encoded data removed]",
      "text/plain": [
       "<IPython.core.display.Image object>"
      ]
     },
     "metadata": {},
     "output_type": "display_data"
    }
   ],
   "source": [
    "builder = StateGraph(MessagesState)\n",
    "builder.add_node(\"filter\", filter_messages)\n",
    "builder.add_node(\"chat_model\", chat_model_node)\n",
    "builder.add_edge(START, \"filter\")\n",
    "builder.add_edge(\"filter\", \"chat_model\")\n",
    "builder.add_edge(\"chat_model\", END)\n",
    "graph = builder.compile()\n",
    "\n",
    "display(Image(graph.get_graph().draw_mermaid_png()))"
   ]
  },
  {
   "cell_type": "code",
   "execution_count": 19,
   "id": "8e43dd9c",
   "metadata": {},
   "outputs": [
    {
     "name": "stdout",
     "output_type": "stream",
     "text": [
      "==================================\u001b[1m Ai Message \u001b[0m==================================\n",
      "Name: Gemini\n",
      "\n",
      "How are you?\n",
      "================================\u001b[1m Human Message \u001b[0m=================================\n",
      "Name: Alice\n",
      "\n",
      "I am good, can we talk about IPL 2024 final.\n",
      "==================================\u001b[1m Ai Message \u001b[0m==================================\n",
      "\n",
      "Great! I'm doing well too, and I'd love to talk about the IPL 2024 final. It was quite a match!\n",
      "\n",
      "To get us started, what specifically are you interested in discussing? For example, are you curious about:\n",
      "\n",
      "*   **The key moments of the match?**\n",
      "*   **The winning team's strategy?**\n",
      "*   **The performance of specific players?**\n",
      "*   **The overall atmosphere and fan experience?**\n",
      "*   **Controversies or talking points from the game?**\n",
      "*   **Predictions for next season based on the final?**\n",
      "\n",
      "Let me know what's on your mind, and I'll do my best to provide insights and information.\n"
     ]
    }
   ],
   "source": [
    "messages = [AIMessage(\"Hi.\", name=\"Gemini\", id=\"1\")]\n",
    "messages.append(HumanMessage(\"Hi.\", name=\"Alice\", id=\"2\"))\n",
    "messages.append(AIMessage(\"How are you?\", name=\"Gemini\", id=\"3\"))\n",
    "messages.append(HumanMessage(\"I am good, can we talk about IPL 2024 final.\", name=\"Alice\", id=\"4\"))\n",
    "out = graph.invoke({\"messages\": messages})\n",
    "for msg in out[\"messages\"]:\n",
    "\t\tmsg.pretty_print()"
   ]
  },
  {
   "cell_type": "markdown",
   "id": "0d21e26e",
   "metadata": {},
   "source": [
    "#### 2. Trim Messages\n",
    "- this is based on tokens primarily"
   ]
  },
  {
   "cell_type": "code",
   "execution_count": 20,
   "id": "4ebaf79f",
   "metadata": {},
   "outputs": [
    {
     "data": {
      "image/png": "[encoded data removed]",
      "text/plain": [
       "<IPython.core.display.Image object>"
      ]
     },
     "metadata": {},
     "output_type": "display_data"
    }
   ],
   "source": [
    "from langchain_core.messages.utils import count_tokens_approximately\n",
    "def chat_model_node(state: MessagesState):\n",
    "\t\tmessages = trim_messages(\n",
    "\t\t\tmessages=state[\"messages\"], \n",
    "\t\t\tmax_tokens=50, \n",
    "\t\t\tstrategy='last', \n",
    "\t\t\ttoken_counter=ChatGoogleGenerativeAI(model='gemini-2.5-flash')\n",
    "\t\t)\n",
    "\t\treturn {\"messages\": [llm.invoke(messages)]}\n",
    "\n",
    "builder = StateGraph(MessagesState)\n",
    "builder.add_node(\"chat_model\", chat_model_node)\n",
    "builder.add_edge(START, \"chat_model\")\n",
    "builder.add_edge(\"chat_model\", END)\n",
    "graph = builder.compile()\n",
    "display(Image(graph.get_graph().draw_mermaid_png()))"
   ]
  },
  {
   "cell_type": "code",
   "execution_count": 21,
   "id": "36171a65",
   "metadata": {},
   "outputs": [
    {
     "data": {
      "text/plain": [
       "[AIMessage(content='Hi.', additional_kwargs={}, response_metadata={}, name='Gemini', id='1'),\n",
       " HumanMessage(content='Hi.', additional_kwargs={}, response_metadata={}, name='Alice', id='2'),\n",
       " AIMessage(content='How are you?', additional_kwargs={}, response_metadata={}, name='Gemini', id='3'),\n",
       " HumanMessage(content='I am good, can we talk about IPL 2024 final.', additional_kwargs={}, response_metadata={}, name='Alice', id='4'),\n",
       " AIMessage(content='How are you?', additional_kwargs={}, response_metadata={}, name='Gemini', id='3'),\n",
       " HumanMessage(content='I am good, can we talk about IPL 2024 final.', additional_kwargs={}, response_metadata={}, name='Alice', id='4'),\n",
       " AIMessage(content=\"Great! I'm doing well too, and I'd love to talk about the IPL 2024 final. It was quite a match!\\n\\nTo get us started, what specifically are you interested in discussing? For example, are you curious about:\\n\\n*   **The key moments of the match?**\\n*   **The winning team's strategy?**\\n*   **The performance of specific players?**\\n*   **The overall atmosphere and fan experience?**\\n*   **Controversies or talking points from the game?**\\n*   **Predictions for next season based on the final?**\\n\\nLet me know what's on your mind, and I'll do my best to provide insights and information.\", additional_kwargs={}, response_metadata={'prompt_feedback': {'block_reason': 0, 'safety_ratings': []}, 'finish_reason': 'STOP', 'model_name': 'gemini-2.0-flash', 'safety_ratings': []}, id='run--fa5bbe7d-12f0-4ea7-9070-7115c8d45576-0', usage_metadata={'input_tokens': 20, 'output_tokens': 154, 'total_tokens': 174, 'input_token_details': {'cache_read': 0}}),\n",
       " HumanMessage(content='Tell me where penguins live!', additional_kwargs={}, response_metadata={}, name='Alice')]"
      ]
     },
     "execution_count": 21,
     "metadata": {},
     "output_type": "execute_result"
    }
   ],
   "source": [
    "messages = [*messages, *out['messages']]\n",
    "messages.append(HumanMessage(f\"Tell me where penguins live!\", name=\"Alice\"))\n",
    "messages"
   ]
  },
  {
   "cell_type": "code",
   "execution_count": 22,
   "id": "1ecae806",
   "metadata": {},
   "outputs": [
    {
     "data": {
      "text/plain": [
       "[]"
      ]
     },
     "execution_count": 22,
     "metadata": {},
     "output_type": "execute_result"
    }
   ],
   "source": [
    "trim_messages(\n",
    "\t\t\tmessages=messages, \n",
    "\t\t\tmax_tokens=10, \n",
    "\t\t\tstrategy='last', \n",
    "\t\t\ttoken_counter=count_tokens_approximately\n",
    "\t\t)\n"
   ]
  },
  {
   "cell_type": "code",
   "execution_count": 23,
   "id": "23c0ed9c",
   "metadata": {},
   "outputs": [
    {
     "name": "stdout",
     "output_type": "stream",
     "text": [
      "==================================\u001b[1m Ai Message \u001b[0m==================================\n",
      "Name: Gemini\n",
      "\n",
      "Hi.\n",
      "================================\u001b[1m Human Message \u001b[0m=================================\n",
      "Name: Alice\n",
      "\n",
      "Hi.\n",
      "==================================\u001b[1m Ai Message \u001b[0m==================================\n",
      "Name: Gemini\n",
      "\n",
      "How are you?\n",
      "================================\u001b[1m Human Message \u001b[0m=================================\n",
      "Name: Alice\n",
      "\n",
      "I am good, can we talk about IPL 2024 final.\n",
      "==================================\u001b[1m Ai Message \u001b[0m==================================\n",
      "\n",
      "Great! I'm doing well too, and I'd love to talk about the IPL 2024 final. It was quite a match!\n",
      "\n",
      "To get us started, what specifically are you interested in discussing? For example, are you curious about:\n",
      "\n",
      "*   **The key moments of the match?**\n",
      "*   **The winning team's strategy?**\n",
      "*   **The performance of specific players?**\n",
      "*   **The overall atmosphere and fan experience?**\n",
      "*   **Controversies or talking points from the game?**\n",
      "*   **Predictions for next season based on the final?**\n",
      "\n",
      "Let me know what's on your mind, and I'll do my best to provide insights and information.\n",
      "================================\u001b[1m Human Message \u001b[0m=================================\n",
      "Name: Alice\n",
      "\n",
      "Tell me where penguins live!\n",
      "==================================\u001b[1m Ai Message \u001b[0m==================================\n",
      "\n",
      "Penguins live almost exclusively in the Southern Hemisphere. Here's a breakdown:\n",
      "\n",
      "*   **Antarctica:** This is where the largest populations of penguins live, including Emperor and Adelie penguins.\n",
      "\n",
      "*   **Subantarctic Islands:** Many islands surrounding Antarctica, like South Georgia, the Falkland Islands, and Macquarie Island, are home to large penguin colonies.\n",
      "\n",
      "*   **Southern Coasts of Continents:** Penguins can be found along the southern coasts of:\n",
      "    *   **South America:** Especially Argentina, Chile, and the Falkland Islands.\n",
      "    *   **Africa:** The African penguin lives along the coast of South Africa and Namibia.\n",
      "    *   **Australia:** Several species live in southern Australia, including the Little Blue Penguin.\n",
      "    *   **New Zealand:** New Zealand is home to several penguin species, including the Yellow-eyed Penguin and the Fiordland Crested Penguin.\n",
      "\n",
      "*   **Galapagos Islands:** The Galapagos Penguin is the only penguin species that lives north of the equator.\n",
      "\n",
      "In summary, while most people associate penguins with ice and snow, they actually live in a variety of climates, from the frigid Antarctic to the warmer Galapagos Islands.\n"
     ]
    }
   ],
   "source": [
    "messages_out_trim = graph.invoke({'messages': messages})\n",
    "for msg in messages_out_trim['messages']:\n",
    "\t\tmsg.pretty_print()"
   ]
  },
  {
   "cell_type": "markdown",
   "id": "37341e98",
   "metadata": {},
   "source": [
    "### Memory management - Adding memory and managing context window - summarization"
   ]
  },
  {
   "cell_type": "code",
   "execution_count": 24,
   "id": "e2fa236f",
   "metadata": {},
   "outputs": [],
   "source": [
    "from typing import TypedDict\n",
    "from langchain_core.messages import AnyMessage, HumanMessage, AIMessage, SystemMessage\n",
    "\n",
    "from langgraph.graph import MessagesState\n",
    "class State(MessagesState):\n",
    "    summary: str"
   ]
  },
  {
   "cell_type": "code",
   "execution_count": 25,
   "id": "286bd64f",
   "metadata": {},
   "outputs": [],
   "source": [
    "from langchain_core.messages import SystemMessage, HumanMessage, RemoveMessage\n",
    "\n",
    "\n",
    "def chat_node(state: State):\n",
    "    summary = state.get(\"summary\", \"\")\n",
    "\n",
    "    if summary:\n",
    "        system_message = f\"Summary of our conversation earlier: {summary}\"\n",
    "        messages = [SystemMessage(content=system_message)] + state[\"messages\"]\n",
    "    \n",
    "    else:\n",
    "        messages = state[\"messages\"]\n",
    "    \n",
    "    response = llm.invoke(messages)\n",
    "    return {\"messages\": response}\n",
    "\n"
   ]
  },
  {
   "cell_type": "code",
   "execution_count": 26,
   "id": "85f463a1",
   "metadata": {},
   "outputs": [],
   "source": [
    "def summarize_conversation(state: State):\n",
    "    summary = state.get('summary', '')\n",
    "\n",
    "    if summary:\n",
    "        print(\"Updating summary\")\n",
    "        summary_msg = HumanMessage(\n",
    "            content=f\"This is the summary of our conversation: {summary}\"\n",
    "        )\n",
    "    else:\n",
    "        print(\"Creating summary\")\n",
    "        summary_msg = HumanMessage(\n",
    "            content=\"Create a summary of the above conversation: \"\n",
    "        )\n",
    "    all_msgs = state['messages']\n",
    "    messages = all_msgs + [summary_msg]\n",
    "    res = llm.invoke(messages)\n",
    "    return {\n",
    "        'summary': res.content,\n",
    "        'messages': [RemoveMessage(id=m.id) for m in all_msgs[:-2]]\n",
    "    }"
   ]
  },
  {
   "cell_type": "code",
   "execution_count": 27,
   "id": "a2ea7f20",
   "metadata": {},
   "outputs": [],
   "source": [
    "from langgraph.graph import END\n",
    "def should_continue(state: MessagesState):\n",
    "    \n",
    "    \"\"\"Return the next node to execute.\"\"\"\n",
    "    \n",
    "    messages = state[\"messages\"]\n",
    "    \n",
    "    # If there are more than six messages, then we summarize the conversation\n",
    "    if len(messages) > 4:\n",
    "        return \"summarize_conversation\"\n",
    "    \n",
    "    # Otherwise we can just end\n",
    "    return END"
   ]
  },
  {
   "cell_type": "markdown",
   "id": "67a6060d",
   "metadata": {},
   "source": [
    "#### adding db memory"
   ]
  },
  {
   "cell_type": "code",
   "execution_count": 28,
   "id": "2c5d503a",
   "metadata": {},
   "outputs": [],
   "source": [
    "import sqlite3\n",
    "\n",
    "!mkdir -p state_db && [ ! -f state_db/example.db ] && wget -P state_db https://github.com/langchain-ai/langchain-academy/raw/main/module-2/state_db/example.db\n",
    "\n",
    "db_path = \"state_db/example.db\"\n",
    "conn = sqlite3.connect(\":memory:\", check_same_thread = False)\n"
   ]
  },
  {
   "cell_type": "code",
   "execution_count": 29,
   "id": "a4f50d4a",
   "metadata": {},
   "outputs": [],
   "source": [
    "from langgraph.checkpoint.sqlite import SqliteSaver\n",
    "memory = SqliteSaver(conn)"
   ]
  },
  {
   "cell_type": "code",
   "execution_count": 30,
   "id": "5193dcee",
   "metadata": {},
   "outputs": [
    {
     "data": {
      "image/png": "[encoded data removed]",
      "text/plain": [
       "<IPython.core.display.Image object>"
      ]
     },
     "metadata": {},
     "output_type": "display_data"
    }
   ],
   "source": [
    "from IPython.display import Image, display\n",
    "from langgraph.checkpoint.memory import MemorySaver\n",
    "from langgraph.graph import StateGraph, START\n",
    "\n",
    "# Define a new graph\n",
    "workflow = StateGraph(State)\n",
    "workflow.add_node(\"chat_node\", chat_node)\n",
    "workflow.add_node(\"summarize_conversation\", summarize_conversation)\n",
    "\n",
    "# Set the entrypoint as conversation\n",
    "workflow.add_edge(START, \"chat_node\")\n",
    "workflow.add_conditional_edges(\"chat_node\", should_continue, {  # Use should_continue instead of summarize_conversation\n",
    "    \"summarize_conversation\": \"summarize_conversation\",\n",
    "    END: END\n",
    "})\n",
    "workflow.add_edge(\"summarize_conversation\", \"chat_node\")  # Add edge back to chat_node after summarizing\n",
    "\n",
    "# Compile\n",
    "memory = MemorySaver()\n",
    "graph = workflow.compile(checkpointer=memory)\n",
    "display(Image(graph.get_graph().draw_mermaid_png()))"
   ]
  },
  {
   "cell_type": "code",
   "execution_count": 31,
   "id": "463b4406",
   "metadata": {},
   "outputs": [
    {
     "name": "stdout",
     "output_type": "stream",
     "text": [
      "Creating summary\n",
      "================================\u001b[1m Human Message \u001b[0m=================================\n",
      "\n",
      "I'm looking for a laptop under $1000\n",
      "==================================\u001b[1m Ai Message \u001b[0m==================================\n",
      "\n",
      "Okay, a laptop under $1000 with good battery life and a good processor. That's definitely doable! To give you the best recommendations, I need a little more information.  Could you tell me about:\n",
      "\n",
      "*   **What will you primarily use the laptop for?** (e.g., schoolwork, work from home, gaming, video editing, general browsing, etc.)\n",
      "*   **What size screen are you looking for?** (e.g., 13-inch, 15-inch, 17-inch)\n",
      "*   **Do you have any preferred operating systems?** (Windows, macOS, ChromeOS)\n",
      "*   **Do you need a lot of storage space?** (e.g., for photos, videos, games)\n",
      "*   **Are there any specific brands you prefer or dislike?**\n",
      "\n",
      "Once I have this information, I can give you some tailored recommendations. In the meantime, here are a few general options that often come up in this category:\n",
      "\n",
      "*   **Acer Aspire Series:** Often a good value for the price, offering decent processors and battery life.\n",
      "*   **Lenovo IdeaPad Series:** Similar to Acer, provides a good balance of performance and affordability.\n",
      "*   **HP Pavilion Series:** Another popular choice with a variety of configurations.\n",
      "*   **MacBook Air (M1 or M2 chip):** If you're open to macOS, the base model MacBook Air often falls within this budget and offers excellent battery life and performance. (You might need to look for a refurbished or older model to stay under $1000.)\n",
      "\n",
      "Looking forward to hearing more about your needs!\n",
      "==================================\u001b[1m Ai Message \u001b[0m==================================\n"
     ]
    }
   ],
   "source": [
    "config = {\"configurable\": {\"thread_id\": \"1\"}}\n",
    "\n",
    "# add more messages so, we summarize the conversation\n",
    "\n",
    "sample_messages = [\n",
    "    HumanMessage(content=\"hi! I'm Alice\"),\n",
    "    AIMessage(content=\"Hi, Alice! How can I help you today?\"),\n",
    "    HumanMessage(content=\"I'm looking for a new laptop\"),\n",
    "    AIMessage(content=\"Sure, I can help you with that. What kind of laptop are you looking for?\"),\n",
    "    HumanMessage(content=\"I need a laptop with a good battery life and a good processor\"),\n",
    "    AIMessage(content=\"I understand. What's your budget?\"),\n",
    "    HumanMessage(content=\"I'm looking for a laptop under $1000\"),\n",
    "]\n",
    "\n",
    "# invoke the graph with the sample messages\n",
    "out = graph.invoke({\"messages\": sample_messages}, config)\n",
    "for m in out['messages']:\n",
    "    m.pretty_print()\n"
   ]
  },
  {
   "cell_type": "code",
   "execution_count": 32,
   "id": "5b7d12b4",
   "metadata": {},
   "outputs": [
    {
     "name": "stdout",
     "output_type": "stream",
     "text": [
      "Updating summary\n",
      "================================\u001b[1m Human Message \u001b[0m=================================\n",
      "\n",
      "hi! I'm Alice\n",
      "==================================\u001b[1m Ai Message \u001b[0m==================================\n",
      "\n",
      "Hi Alice! It's nice to meet you. I'm here to help you find the perfect laptop. I'll keep that in mind as we discuss your needs and preferences. Let's get you set up with a great new machine!\n",
      "==================================\u001b[1m Ai Message \u001b[0m==================================\n",
      "Updating summary\n",
      "================================\u001b[1m Human Message \u001b[0m=================================\n",
      "\n",
      "what's my name?\n",
      "==================================\u001b[1m Ai Message \u001b[0m==================================\n",
      "\n",
      "Your name is Alice!\n",
      "==================================\u001b[1m Ai Message \u001b[0m==================================\n",
      "Updating summary\n",
      "================================\u001b[1m Human Message \u001b[0m=================================\n",
      "\n",
      "i like the 49ers!\n",
      "==================================\u001b[1m Ai Message \u001b[0m==================================\n",
      "\n",
      "Okay, Alice! You like the 49ers. Got it! I'll keep that in mind as we move forward. Does your preference for the 49ers have any bearing on what you're looking for in a laptop? (e.g., needing to stream games on the go, wanting a laptop with a specific color scheme, etc.) Or is it just a fun fact? Let me know!\n",
      "==================================\u001b[1m Ai Message \u001b[0m==================================\n"
     ]
    }
   ],
   "source": [
    "out = graph.invoke({\"messages\": [HumanMessage(content=\"hi! I'm Alice\")]}, config) \n",
    "for m in out['messages']:\n",
    "    m.pretty_print()\n",
    "\n",
    "out = graph.invoke({\"messages\": [HumanMessage(content=\"what's my name?\")]}, config) \n",
    "for m in out['messages']:\n",
    "    m.pretty_print()\n",
    "\n",
    "out = graph.invoke({\"messages\": [HumanMessage(content=\"i like the 49ers!\")]}, config) \n",
    "for m in out['messages']:\n",
    "    m.pretty_print()"
   ]
  },
  {
   "cell_type": "code",
   "execution_count": 33,
   "id": "7be6ebc3",
   "metadata": {},
   "outputs": [
    {
     "data": {
      "text/plain": [
       "StateSnapshot(values={'messages': [HumanMessage(content='i like the 49ers!', additional_kwargs={}, response_metadata={}, id='6b5dad7c-f65e-478b-a918-5f1ab8166d76'), AIMessage(content=\"Okay, Alice! You like the 49ers. Got it! I'll keep that in mind as we move forward. Does your preference for the 49ers have any bearing on what you're looking for in a laptop? (e.g., needing to stream games on the go, wanting a laptop with a specific color scheme, etc.) Or is it just a fun fact? Let me know!\", additional_kwargs={}, response_metadata={'prompt_feedback': {'block_reason': 0, 'safety_ratings': []}, 'finish_reason': 'STOP', 'model_name': 'gemini-2.0-flash', 'safety_ratings': []}, id='run--4ee318ad-02b4-49a8-b59c-4cbd5c99a222-0', usage_metadata={'input_tokens': 98, 'output_tokens': 87, 'total_tokens': 185, 'input_token_details': {'cache_read': 0}}), AIMessage(content='', additional_kwargs={}, response_metadata={'prompt_feedback': {'block_reason': 0, 'safety_ratings': []}, 'finish_reason': 'STOP', 'model_name': 'gemini-2.0-flash', 'safety_ratings': []}, id='run--11f1e120-f4d6-4bcf-9017-278da48c62a5-0', usage_metadata={'input_tokens': 127, 'output_tokens': 0, 'total_tokens': 127, 'input_token_details': {'cache_read': 0}})], 'summary': \"That's a very accurate and concise summary! You've perfectly captured the current state of our conversation. Well done, Alice!\"}, next=(), config={'configurable': {'thread_id': '1', 'checkpoint_ns': '', 'checkpoint_id': '1f066a5e-e75b-66c8-8012-2cbc32b29a86'}}, metadata={'source': 'loop', 'step': 18, 'parents': {}}, created_at='2025-07-22T02:45:30.481395+00:00', parent_config={'configurable': {'thread_id': '1', 'checkpoint_ns': '', 'checkpoint_id': '1f066a5e-e2d9-6d48-8011-83d6eac35655'}}, tasks=(), interrupts=())"
      ]
     },
     "execution_count": 33,
     "metadata": {},
     "output_type": "execute_result"
    }
   ],
   "source": [
    "config = {\"configurable\": {\"thread_id\": \"1\"}}\n",
    "graph_state = graph.get_state(config)\n",
    "graph_state"
   ]
  }
 ],
 "metadata": {
  "kernelspec": {
   "display_name": "lc-academy-env",
   "language": "python",
   "name": "python3"
  },
  "language_info": {
   "codemirror_mode": {
    "name": "ipython",
    "version": 3
   },
   "file_extension": ".py",
   "mimetype": "text/x-python",
   "name": "python",
   "nbconvert_exporter": "python",
   "pygments_lexer": "ipython3",
   "version": "3.11.5"
  }
 },
 "nbformat": 4,
 "nbformat_minor": 5
}
