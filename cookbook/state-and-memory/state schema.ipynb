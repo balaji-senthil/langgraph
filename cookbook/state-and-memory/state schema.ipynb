{
 "cells": [
  {
   "cell_type": "markdown",
   "id": "7c2febc4",
   "metadata": {},
   "source": [
    "# LangGraph simple Graph - Python Cookbook"
   ]
  },
  {
   "cell_type": "markdown",
   "id": "dee8453e",
   "metadata": {},
   "source": [
    "## Terminology\n",
    "\n",
    "| Term  | Traditional Graph | LangGraph |\n",
    "|:-----------------------|:---------------------|:---------------------|\n",
    "| State | The current configuration of the graph. | Config/ state as a dict |\n",
    "| Node  | A fundamental part of the graph representing an entity. | A python function entitled to modify/ manage the state |\n",
    "| Edge  | A connection between two nodes in the graph. | Conditionals for connecting nodes |"
   ]
  },
  {
   "cell_type": "markdown",
   "id": "a67d368c",
   "metadata": {},
   "source": [
    "### State"
   ]
  },
  {
   "cell_type": "code",
   "execution_count": 18,
   "id": "06f57062",
   "metadata": {},
   "outputs": [],
   "source": [
    "from pydantic import BaseModel, field_validator, ValidationError, ValidationInfo\n",
    "from typing import Literal, TypeVar\n",
    "\n",
    "Unit = TypeVar('Unit', bound=Literal['C', 'F'])\n",
    "\n",
    "class WeatherState(BaseModel):\n",
    "\ttemperature: int\n",
    "\tunit: Unit | None = None\n",
    "\tweather_summary: str | None = None\n",
    "\n",
    "\t@field_validator('temperature')\n",
    "\t@classmethod\n",
    "\tdef validate_temperature(cls, value: int | None, values: ValidationInfo):\n",
    "\t\tunit = values.data.get('unit')\n",
    "\t\tif unit == 'C' and (value < -30 or value > 50):\n",
    "\t\t\traise ValidationError('Temperature in Celsius must be between -30 and 50')\n",
    "\t\telif unit == 'F' and (value < -22 or value > 122):\n",
    "\t\t\traise ValidationError('Temperature in Fahrenheit must be between -22 and 122')\n",
    "\t\treturn value\n",
    "\t\n",
    "\t@field_validator('unit')\n",
    "\t@classmethod\n",
    "\tdef validate_unit(cls, value: Unit | None):\n",
    "\t\tif value is not None and value not in ['C', 'F']:\n",
    "\t\t\traise ValidationError('Unit must be either C or F')\n",
    "\t\treturn value\n",
    "\t\n",
    "\n",
    "\t@field_validator('weather_summary')\n",
    "\t@classmethod\n",
    "\tdef validate_weather_summary(cls, value: str | None):\n",
    "\t\tif value is not None:\n",
    "\t\t\traise ValidationError('Weather summary must not be empty')\n",
    "\t\treturn value"
   ]
  },
  {
   "cell_type": "markdown",
   "id": "3860ee1a",
   "metadata": {},
   "source": [
    "### Nodes"
   ]
  },
  {
   "cell_type": "code",
   "execution_count": 19,
   "id": "15e78631",
   "metadata": {},
   "outputs": [],
   "source": [
    "def node1(state: WeatherState) -> WeatherState:\n",
    "\t\"\"\"Update the temperature according to the location.\"\"\"\n",
    "\t# For simplicity, let's assume the temperature is always 30 degrees. In a real application, this could be fetched from an API based on the location.\n",
    "\treturn state\n",
    "\n",
    "def node2(state: WeatherState) -> WeatherState:\n",
    "\t\"\"\"Update the temperature unit to Celsius if outside USA.\"\"\"\n",
    "\t#In a real application, this could be fetched from user preferences or settings.\n",
    "\tstate.unit = 'C'\n",
    "\tverdict = \"It's a hot day! 🥵\" if state.temperature > 30 else \"It's a pleasant day!🌞\"\n",
    "\tstate.weather_summary = f\"{state.temperature} degrees Celsius. {verdict}\"\n",
    "\treturn state\n",
    "\n",
    "def node3(state: WeatherState) -> WeatherState:\n",
    "\t\"\"\"Update the temperature unit to Fahrenheit if in USA.\"\"\"\n",
    "\t#In a real application, this could be fetched from user preferences or settings.\n",
    "\tstate.unit = 'F'\n",
    "\tverdict = \"It's a hot day! 🥵\" if state.temperature > 85 else \"It's a pleasant day!🌞\"\n",
    "\tstate.weather_summary = f\"{state.temperature} degrees Fahrenheit. {verdict}\"\n",
    "\treturn state"
   ]
  },
  {
   "cell_type": "markdown",
   "id": "2a2df6f5",
   "metadata": {},
   "source": [
    "### Edge"
   ]
  },
  {
   "cell_type": "code",
   "execution_count": 20,
   "id": "b2d881a4",
   "metadata": {},
   "outputs": [],
   "source": [
    "import random\n",
    "\n",
    "from typing import Literal\n",
    "\n",
    "def decide_weather_unit(state: WeatherState) -> Literal['node2', 'node3']:\n",
    "\t\"\"\"Decide the weather unit based on the location.\"\"\"\n",
    "\tunit = state.unit or random.choice(['C', 'F'])\n",
    "\t# For simplicity, let's assume a random decision. In a real application, this could be based on user preferences or settings.\n",
    "\treturn 'node2' if unit == 'C' else 'node3'\n",
    "\n"
   ]
  },
  {
   "cell_type": "markdown",
   "id": "22e6bdf5",
   "metadata": {},
   "source": [
    "### Build Graph"
   ]
  },
  {
   "cell_type": "code",
   "execution_count": 21,
   "id": "7335d55a",
   "metadata": {},
   "outputs": [
    {
     "data": {
      "image/png": "[encoded data removed]",
      "text/plain": [
       "<IPython.core.display.Image object>"
      ]
     },
     "metadata": {},
     "output_type": "display_data"
    }
   ],
   "source": [
    "from IPython.display import Image, display\n",
    "from langgraph.graph import StateGraph, START, END\n",
    "\n",
    "# Build graph\n",
    "builder = StateGraph(WeatherState)\n",
    "builder.add_node(\"node1\", node1)\n",
    "builder.add_node(\"node2\", node2)\n",
    "builder.add_node(\"node3\", node3)\n",
    "\n",
    "# Logic\n",
    "builder.add_edge(START, \"node1\")\n",
    "builder.add_conditional_edges(\"node1\", decide_weather_unit, {\n",
    "\t\t'node2': \"node2\",\n",
    "\t\t'node3': \"node3\"\n",
    "\t})\n",
    "builder.add_edge(\"node2\", END)\n",
    "builder.add_edge(\"node3\", END)\n",
    "\n",
    "# Add\n",
    "graph = builder.compile()\n",
    "\n",
    "# View\n",
    "display(Image(graph.get_graph().draw_mermaid_png()))"
   ]
  },
  {
   "cell_type": "markdown",
   "id": "15d4b86b",
   "metadata": {},
   "source": [
    "### Invoke Graph"
   ]
  },
  {
   "cell_type": "code",
   "execution_count": 29,
   "id": "9d005139",
   "metadata": {},
   "outputs": [
    {
     "data": {
      "text/plain": [
       "{'temperature': 90,\n",
       " 'unit': 'F',\n",
       " 'weather_summary': \"90 degrees Fahrenheit. It's a hot day! 🥵\"}"
      ]
     },
     "execution_count": 29,
     "metadata": {},
     "output_type": "execute_result"
    }
   ],
   "source": [
    "graph.invoke(WeatherState(\n",
    "\ttemperature=90,\n",
    "))"
   ]
  }
 ],
 "metadata": {
  "kernelspec": {
   "display_name": "Python 3 (ipykernel)",
   "language": "python",
   "name": "python3"
  },
  "language_info": {
   "codemirror_mode": {
    "name": "ipython",
    "version": 3
   },
   "file_extension": ".py",
   "mimetype": "text/x-python",
   "name": "python",
   "nbconvert_exporter": "python",
   "pygments_lexer": "ipython3",
   "version": "3.11.5"
  }
 },
 "nbformat": 4,
 "nbformat_minor": 5
}
