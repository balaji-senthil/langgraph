{
 "cells": [
  {
   "cell_type": "markdown",
   "id": "7c2febc4",
   "metadata": {},
   "source": [
    "# LangGraph State Reducer - Python Cookbook"
   ]
  },
  {
   "cell_type": "markdown",
   "id": "a67d368c",
   "metadata": {},
   "source": [
    "### State - Message from Langchain"
   ]
  },
  {
   "cell_type": "markdown",
   "id": "3860ee1a",
   "metadata": {},
   "source": [
    "### Reducers\n",
    "\n",
    "##### What? - Reducers are functions to apply updates from nodes to state"
   ]
  },
  {
   "cell_type": "code",
   "execution_count": 2,
   "id": "15e78631",
   "metadata": {},
   "outputs": [],
   "source": [
    "from typing import Annotated, TypedDict\n",
    "from langchain_core.messages import AnyMessage\n",
    "\n",
    "from langgraph.graph.message import add_messages # add_messages is the reducer to add messages to the state\n",
    "\n",
    "class MessagesState(TypedDict):\n",
    "    messages: Annotated[list[AnyMessage], add_messages]"
   ]
  },
  {
   "cell_type": "code",
   "execution_count": 23,
   "id": "c82902ca",
   "metadata": {},
   "outputs": [],
   "source": [
    "# BTS of add_messages - reference: https://github.com/langchain-ai/langchain-academy/blob/main/module-1/chain.ipynb \n",
    "from langchain_core.messages import AIMessage, HumanMessage\n",
    "\n",
    "initial_messages = [AIMessage(content=\"Hello! How can I assist you?\", name=\"Model\", id=0),\n",
    "                    HumanMessage(content=\"I'm looking for information on marine biology.\", name=\"Lance\", id=1)\n",
    "                   ]\n",
    "\n",
    "# New message to add\n",
    "new_message = AIMessage(content=\"Sure, I can help with that. What specifically are you interested in?\", name=\"Model\", id=2)\n",
    "\n",
    "# Test\n",
    "initial_messages = add_messages(initial_messages , new_message)"
   ]
  },
  {
   "cell_type": "markdown",
   "id": "bb7eb7d7",
   "metadata": {},
   "source": [
    "#### replace message"
   ]
  },
  {
   "cell_type": "code",
   "execution_count": 26,
   "id": "d76244d7",
   "metadata": {},
   "outputs": [
    {
     "data": {
      "text/plain": [
       "[AIMessage(content='Hello! How can I assist you?', additional_kwargs={}, response_metadata={}, name='Model', id='0'),\n",
       " HumanMessage(content=\"What's the weather like today?\", additional_kwargs={}, response_metadata={}, name='Lance', id='1'),\n",
       " AIMessage(content='Sure, I can help with that. What specifically are you interested in?', additional_kwargs={}, response_metadata={}, name='Model', id='2')]"
      ]
     },
     "execution_count": 26,
     "metadata": {},
     "output_type": "execute_result"
    }
   ],
   "source": [
    "initial_messages = add_messages(initial_messages, HumanMessage(content=\"What's the weather like today?\", name=\"Lance\", id=1))\n",
    "initial_messages"
   ]
  },
  {
   "cell_type": "markdown",
   "id": "ddb1088a",
   "metadata": {},
   "source": [
    "#### delete message"
   ]
  },
  {
   "cell_type": "code",
   "execution_count": 27,
   "id": "b86bbddb",
   "metadata": {},
   "outputs": [
    {
     "data": {
      "text/plain": [
       "[HumanMessage(content=\"What's the weather like today?\", additional_kwargs={}, response_metadata={}, name='Lance', id='1'),\n",
       " AIMessage(content='Sure, I can help with that. What specifically are you interested in?', additional_kwargs={}, response_metadata={}, name='Model', id='2')]"
      ]
     },
     "execution_count": 27,
     "metadata": {},
     "output_type": "execute_result"
    }
   ],
   "source": [
    "from langchain_core.messages import RemoveMessage\n",
    "\n",
    "initial_messages = add_messages(initial_messages, RemoveMessage(id=0))\n",
    "initial_messages\n",
    "\n",
    "\n"
   ]
  }
 ],
 "metadata": {
  "kernelspec": {
   "display_name": "lc-academy-env",
   "language": "python",
   "name": "python3"
  },
  "language_info": {
   "codemirror_mode": {
    "name": "ipython",
    "version": 3
   },
   "file_extension": ".py",
   "mimetype": "text/x-python",
   "name": "python",
   "nbconvert_exporter": "python",
   "pygments_lexer": "ipython3",
   "version": "3.11.5"
  }
 },
 "nbformat": 4,
 "nbformat_minor": 5
}
