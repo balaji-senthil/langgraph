{
 "cells": [
  {
   "cell_type": "markdown",
   "id": "7c2febc4",
   "metadata": {},
   "source": [
    "# LangGraph Agent - Python Cookbook"
   ]
  },
  {
   "cell_type": "markdown",
   "id": "dff7b6c0",
   "metadata": {},
   "source": [
    "### llm setup for LangChain"
   ]
  },
  {
   "cell_type": "code",
   "execution_count": 1,
   "id": "55e6548b",
   "metadata": {},
   "outputs": [],
   "source": [
    "from dotenv import load_dotenv\n",
    "from langchain_google_genai import ChatGoogleGenerativeAI\n",
    "load_dotenv()\n",
    "\n",
    "llm = ChatGoogleGenerativeAI(model='gemini-2.5-flash',temperature=0)\n"
   ]
  },
  {
   "cell_type": "markdown",
   "id": "f8f3baaf",
   "metadata": {},
   "source": [
    "### tools"
   ]
  },
  {
   "cell_type": "code",
   "execution_count": 2,
   "id": "6a9ca0d9",
   "metadata": {},
   "outputs": [],
   "source": [
    "from langchain_core.tools import tool\n",
    "from langchain_tavily import TavilySearch\n",
    "\n",
    "@tool\n",
    "def get_weather(city: str, unit: str = 'celsius') -> str:\n",
    "\t\"\"\"Get the weather for a city.\"\"\"\n",
    "\treturn f\"The weather in {city} is 25 degrees {unit}.\"\n",
    "\n",
    "@tool\n",
    "def web_search(query: str) -> str:\n",
    "\t\"\"\"Search the web for a query.\"\"\"\n",
    "\ttavily_search_tool = TavilySearch(\n",
    "\t\tmax_results=5,\n",
    "\t\ttopic=\"general\",\n",
    "\t)\n",
    "\treturn tavily_search_tool.invoke(query)\n",
    "\n",
    "TOOL_MAP = {\n",
    "\t\"get_weather\": get_weather,\n",
    "\t\"web_search\": web_search,\n",
    "}"
   ]
  },
  {
   "cell_type": "markdown",
   "id": "648a20fd",
   "metadata": {},
   "source": [
    "### Add tools to the llm"
   ]
  },
  {
   "cell_type": "code",
   "execution_count": 3,
   "id": "08cfe61c",
   "metadata": {},
   "outputs": [],
   "source": [
    "llm = llm.bind_tools([get_weather, web_search])"
   ]
  },
  {
   "cell_type": "markdown",
   "id": "a67d368c",
   "metadata": {},
   "source": [
    "### State - Message from Langchain"
   ]
  },
  {
   "cell_type": "markdown",
   "id": "3860ee1a",
   "metadata": {},
   "source": [
    "### Reducers\n",
    "\n",
    "##### What? - Reducers are functions to apply updates from nodes to state"
   ]
  },
  {
   "cell_type": "code",
   "execution_count": 4,
   "id": "15e78631",
   "metadata": {},
   "outputs": [],
   "source": [
    "from typing import Annotated, TypedDict\n",
    "from langchain_core.messages import AnyMessage, HumanMessage, AIMessage\n",
    "\n",
    "from langgraph.graph.message import add_messages # add_messages is the reducer to add messages to the state\n",
    "\n",
    "class MessagesState(TypedDict):\n",
    "    messages: Annotated[list[AnyMessage], add_messages]"
   ]
  },
  {
   "cell_type": "code",
   "execution_count": 5,
   "id": "c82902ca",
   "metadata": {},
   "outputs": [
    {
     "data": {
      "text/plain": [
       "[AIMessage(content='Hello! How can I assist you?', additional_kwargs={}, response_metadata={}, name='Model', id='8d404f27-6ea1-4779-ab07-c9cd7914931f'),\n",
       " HumanMessage(content=\"I'm looking for information on marine biology.\", additional_kwargs={}, response_metadata={}, name='Lance', id='4124ace2-92d1-408b-9fed-80e30e0aaa24'),\n",
       " AIMessage(content='Sure, I can help with that. What specifically are you interested in?', additional_kwargs={}, response_metadata={}, name='Model', id='e6e96af2-08cf-4ccb-bb1a-9f99af07489a')]"
      ]
     },
     "execution_count": 5,
     "metadata": {},
     "output_type": "execute_result"
    }
   ],
   "source": [
    "# BTS of add_messages - reference: https://github.com/langchain-ai/langchain-academy/blob/main/module-1/chain.ipynb \n",
    "\n",
    "initial_messages = [AIMessage(content=\"Hello! How can I assist you?\", name=\"Model\"),\n",
    "                    HumanMessage(content=\"I'm looking for information on marine biology.\", name=\"Lance\")\n",
    "                   ]\n",
    "\n",
    "# New message to add\n",
    "new_message = AIMessage(content=\"Sure, I can help with that. What specifically are you interested in?\", name=\"Model\")\n",
    "\n",
    "# Test\n",
    "add_messages(initial_messages , new_message)"
   ]
  },
  {
   "cell_type": "markdown",
   "id": "9fc71471",
   "metadata": {},
   "source": [
    "### Node"
   ]
  },
  {
   "cell_type": "code",
   "execution_count": 13,
   "id": "dd24a276",
   "metadata": {},
   "outputs": [],
   "source": [
    "from langchain_core.messages import SystemMessage\n",
    "\n",
    "sys_msg = SystemMessage(\n",
    "\t\tcontent=\"You are a helpful tour planning assistant that can help users for making itinerary. You can plan the trip from checking the weather, searching for rooms and searching interesitng things and places to go out for.\",\n",
    "\t)\n",
    "\n",
    "def react_agent(state: MessagesState):\n",
    "\tllm_output = llm.invoke([sys_msg] + state[\"messages\"])\n",
    "\treturn {\"messages\": [llm_output]}"
   ]
  },
  {
   "cell_type": "markdown",
   "id": "22e6bdf5",
   "metadata": {},
   "source": [
    "### Build Graph"
   ]
  },
  {
   "cell_type": "code",
   "execution_count": 14,
   "id": "7335d55a",
   "metadata": {},
   "outputs": [
    {
     "data": {
      "image/png": "[encoded data removed]",
      "text/plain": [
       "<IPython.core.display.Image object>"
      ]
     },
     "metadata": {},
     "output_type": "display_data"
    }
   ],
   "source": [
    "from IPython.display import Image, display\n",
    "from langgraph.graph import StateGraph, START\n",
    "from langgraph.prebuilt import ToolNode\n",
    "from langgraph.prebuilt import tools_condition\n",
    "\n",
    "\n",
    "builder = StateGraph(MessagesState)\n",
    "builder.add_node(\"react_agent\", react_agent)\n",
    "builder.add_node(\"tools\", ToolNode([get_weather, web_search]))\n",
    "builder.add_edge(START, \"react_agent\")\n",
    "builder.add_conditional_edges(\n",
    "\t\"react_agent\",\n",
    "\ttools_condition\n",
    ")\n",
    "builder.add_edge(\"tools\", \"react_agent\")\n",
    "graph = builder.compile()\n",
    "\n",
    "\n",
    "display(Image(graph.get_graph().draw_mermaid_png()))"
   ]
  },
  {
   "cell_type": "markdown",
   "id": "15d4b86b",
   "metadata": {},
   "source": [
    "### Invoke Graph"
   ]
  },
  {
   "cell_type": "markdown",
   "id": "bfba7080",
   "metadata": {},
   "source": [
    "#### a. simple message - requring no tools"
   ]
  },
  {
   "cell_type": "code",
   "execution_count": 11,
   "id": "9d005139",
   "metadata": {},
   "outputs": [
    {
     "name": "stdout",
     "output_type": "stream",
     "text": [
      "================================\u001b[1m Human Message \u001b[0m=================================\n",
      "\n",
      "What up!\n",
      "==================================\u001b[1m Ai Message \u001b[0m==================================\n",
      "\n",
      "Hello! I'm here to help you plan your next adventure. What can I do for you?\n"
     ]
    }
   ],
   "source": [
    "messages = graph.invoke({\"messages\": [HumanMessage(content=\"What up!\")]})\n",
    "for m in messages['messages']:\n",
    "    m.pretty_print()"
   ]
  },
  {
   "cell_type": "markdown",
   "id": "cc385948",
   "metadata": {},
   "source": [
    "#### b. tool calling - invoking all tools"
   ]
  },
  {
   "cell_type": "code",
   "execution_count": 17,
   "id": "777a89b6",
   "metadata": {},
   "outputs": [
    {
     "name": "stdout",
     "output_type": "stream",
     "text": [
      "================================\u001b[1m Human Message \u001b[0m=================================\n",
      "\n",
      "Plan a trip to San Francisco, for next weekend\n",
      "==================================\u001b[1m Ai Message \u001b[0m==================================\n",
      "Tool Calls:\n",
      "  get_weather (3b0f9fbb-c246-4f95-8353-0f20132f56b9)\n",
      " Call ID: 3b0f9fbb-c246-4f95-8353-0f20132f56b9\n",
      "  Args:\n",
      "    city: San Francisco\n",
      "=================================\u001b[1m Tool Message \u001b[0m=================================\n",
      "Name: get_weather\n",
      "\n",
      "The weather in San Francisco is 25 degrees celsius.\n",
      "==================================\u001b[1m Ai Message \u001b[0m==================================\n",
      "Tool Calls:\n",
      "  web_search (8b7e78f9-c6d1-4115-9f36-37528189c60f)\n",
      " Call ID: 8b7e78f9-c6d1-4115-9f36-37528189c60f\n",
      "  Args:\n",
      "    query: Things to do in San Francisco next weekend\n",
      "=================================\u001b[1m Tool Message \u001b[0m=================================\n",
      "Name: web_search\n",
      "\n",
      "{\"query\": \"Things to do in San Francisco next weekend\", \"follow_up_questions\": null, \"answer\": null, \"images\": [], \"results\": [{\"url\": \"https://sf.funcheap.com/weekend/\", \"title\": \"This Weekend: Free Things to Do in San Francisco - SF Funcheap\", \"content\": \"This Weekend: Free Things to Do in San Francisco =============== [! Assassins combines Sondheim’s signature blend of intelligently stunning lyrics and beautiful music with a panoramic story of our nation’s culture of celebrity and the violent means some will ... [Laugh GPT: SF’s First AI-Powered Stand-up Comedy Show (2025)](https://sf.funcheap.com/laugh-gpt-sfs-first-ai-powered-stand-up-comedy-show-2025-24/ \\\"Laugh GPT: SF’s First AI-Powered Stand-up Comedy Show (2025)\\\") Friday, May 30 – 7:00 pm - Ends at 10:30 pm | Cost:FREE* *Use secret code HUMAN for comp tickets, otherwise, $10 off with secret code FUNCHEAP | Mayes Oyster House [! Join us for “Laugh GPT,” the AI-powered comedy show that might just be humanity’s last stand-up hurrah. Come to San Francisco’s premiere cannabis club Moe Greens every Friday night for a night of laughter and, well, getting stoned.\", \"score\": 0.88444936, \"raw_content\": null}, {\"url\": \"https://www.eventbrite.com/d/ca--san-francisco/events--next-week/\", \"title\": \"Things to Do in San Francisco, CA Next Week - Events & Activities\", \"content\": \"Events next week in San Francisco, CA · Business · Science & Tech · Music · Film & Media · Performing & Visual Arts · Fashion · Health · Sports & Fitness\", \"score\": 0.6388584, \"raw_content\": null}, {\"url\": \"https://www.thesanfranciscopeninsula.com/events/\", \"title\": \"Events on The San Francisco Peninsula | Festivals & Fairs\", \"content\": \"Find things to do from family friendly events, live music, fairs, and festivals in Silicon Valley. Find things to do in the bay area, things to do this weekend\", \"score\": 0.5015387, \"raw_content\": null}, {\"url\": \"https://www.sftravel.com/things-to-do/events\", \"title\": \"Events | San Francisco Travel\", \"content\": \"San Francisco is a city for the bold; the creative; the loud, proud, and iconoclastic. No matter when you visit, there will be events happening across the city that offer you the chance to unleash your inner San Franciscan. Festivals + Events Freedom to Celebrate The Festivals of San Francisco San Francisco has always embodied a welcoming culture, and its annual festivals and events are a perfect representation of that. These uniquely San Francisco festivals represent the city's expressions of pride, diversity, and individuality.\", \"score\": 0.2592818, \"raw_content\": null}, {\"url\": \"https://dothebay.com/\", \"title\": \"DoTheBay | What to do in The Bay Area\", \"content\": \"What to do in The Bay Area Today ; STERN GROVE FESTIVAL 2025 GIRL TALK, CHROMEO · Stern Grove ; of Montreal · The UC Theatre ; KALX presents Mosswood Meltdown 2025.\", \"score\": 0.19719735, \"raw_content\": null}], \"response_time\": 1.05}\n",
      "==================================\u001b[1m Ai Message \u001b[0m==================================\n",
      "\n",
      "The weather in San Francisco next weekend will be 25 degrees Celsius.\n",
      "\n",
      "Here are some things you could do:\n",
      "\n",
      "*   **Laugh GPT: SF's First AI-Powered Stand-up Comedy Show (May 30th):** If you're looking for something unique and free (with a secret code!), this AI-powered comedy show sounds interesting. It's at Mayes Oyster House.\n",
      "*   **Explore San Francisco's Festivals and Events:** San Francisco is known for its diverse and welcoming culture, reflected in its many festivals. You can check out sftravel.com/things-to-do/events for more information on what might be happening next weekend.\n",
      "*   **Check Eventbrite or DoTheBay:** These websites (eventbrite.com/d/ca--san-francisco/events--next-week/ and dothebay.com) are good resources for finding a variety of events, including business, science & tech, music, film & media, performing & visual arts, fashion, health, and sports & fitness.\n",
      "\n",
      "To make your trip even better, would you like me to search for hotels or specific types of activities?\n"
     ]
    }
   ],
   "source": [
    "messages = graph.invoke({\"messages\": [HumanMessage(content=\"Plan a trip to San Francisco, for next weekend\")]})\n",
    "for m in messages['messages']:\n",
    "\tm.pretty_print()"
   ]
  },
  {
   "cell_type": "markdown",
   "id": "b50bef16",
   "metadata": {},
   "source": [
    "#### c. tool calling - with web_search tool"
   ]
  },
  {
   "cell_type": "code",
   "execution_count": 16,
   "id": "422986fe",
   "metadata": {},
   "outputs": [
    {
     "name": "stdout",
     "output_type": "stream",
     "text": [
      "================================\u001b[1m Human Message \u001b[0m=================================\n",
      "\n",
      "What is the current news in NY?\n",
      "==================================\u001b[1m Ai Message \u001b[0m==================================\n",
      "Tool Calls:\n",
      "  web_search (fac76acf-5884-4a00-9f59-91c07bea5faf)\n",
      " Call ID: fac76acf-5884-4a00-9f59-91c07bea5faf\n",
      "  Args:\n",
      "    query: current news in NY\n",
      "=================================\u001b[1m Tool Message \u001b[0m=================================\n",
      "Name: web_search\n",
      "\n",
      "{\"query\": \"current news in NY\", \"follow_up_questions\": null, \"answer\": null, \"images\": [], \"results\": [{\"url\": \"https://www.cbsnews.com/newyork/local-news/new-york/\", \"title\": \"New York News\", \"content\": \"Amber Alert issued for missing child in Lake George, N.Y. · 2H ago ; High humidity and chance of severe storms around NYC area today · 3H ago ; Off-duty law\", \"score\": 0.54594, \"raw_content\": null}, {\"url\": \"https://www.nbcnewyork.com/\", \"title\": \"NBC 4 New York – NY local news, breaking news, weather\", \"content\": \"Manhattan · Off-duty border patrol officer shot in face at NYC park in apparent botched robbery · politics · 'Uganda Miss Me': Mamdani pokes fun at critics while\", \"score\": 0.49260366, \"raw_content\": null}, {\"url\": \"https://nypost.com/\", \"title\": \"New York Post – Breaking News, Top Headlines, Photos & Videos\", \"content\": \"Your source for breaking news, photos, and videos about New York, sports, business, entertainment, opinion, real estate, culture, fashion, and more.\", \"score\": 0.43122545, \"raw_content\": null}, {\"url\": \"https://abc7ny.com/\", \"title\": \"ABC7 Eyewitness News - WABC-TV New York\", \"content\": \"Adams announces city communications collaboration with Citizen app · Man stabs wife, toddler to death, injures self in Queens home: police · Car strikes, kills\", \"score\": 0.379241, \"raw_content\": null}, {\"url\": \"https://www.nytimes.com/\", \"title\": \"The New York Times - Breaking News, US News, World News and ...\", \"content\": \"More News · Trump Sends Envoy to Belarus, Courting Ties With Russia's Close Ally · Air India C.E.O.'s Remarks After Plane Crash Draw Scrutiny · Suspect in\", \"score\": 0.32094952, \"raw_content\": null}], \"response_time\": 0.93}\n",
      "==================================\u001b[1m Ai Message \u001b[0m==================================\n",
      "\n",
      "Here are some of the current news headlines in New York:\n",
      "\n",
      "*   An Amber Alert has been issued for a missing child in Lake George, N.Y.\n",
      "*   There is high humidity and a chance of severe storms around the NYC area today.\n",
      "*   An off-duty border patrol officer was shot in the face at an NYC park in an apparent botched robbery.\n",
      "*   Mayor Adams announced a city communications collaboration with the Citizen app.\n",
      "*   A man stabbed his wife and toddler to death, injuring himself in a Queens home.\n",
      "*   A car struck and killed someone.\n"
     ]
    }
   ],
   "source": [
    "messages = graph.invoke({\"messages\": [HumanMessage(content=\"What is the current news in NY?\")]})\n",
    "for m in messages['messages']:\n",
    "    m.pretty_print()"
   ]
  }
 ],
 "metadata": {
  "kernelspec": {
   "display_name": "lc-academy-env",
   "language": "python",
   "name": "python3"
  },
  "language_info": {
   "codemirror_mode": {
    "name": "ipython",
    "version": 3
   },
   "file_extension": ".py",
   "mimetype": "text/x-python",
   "name": "python",
   "nbconvert_exporter": "python",
   "pygments_lexer": "ipython3",
   "version": "3.11.5"
  }
 },
 "nbformat": 4,
 "nbformat_minor": 5
}
