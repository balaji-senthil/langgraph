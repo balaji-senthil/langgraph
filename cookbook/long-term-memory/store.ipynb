{
 "cells": [
  {
   "cell_type": "markdown",
   "metadata": {},
   "source": [
    "# Chatbot with Long-Term Memory(LTM) and STM\n",
    "\n",
    "## Long term memory (LTM)\n",
    "- LTM is used for storing inter session information - eg: User preferences, profile, etc.\n",
    "- Types: \n",
    "  - Semantic memory - Eg: profile info, \n",
    "  - Episodic memory - Eg: Previous agent actions\n",
    "  - Procedural memory - Eg: System instructions\n",
    "- **LG concept**: `Store`\n",
    "\n",
    "## STM \n",
    "- thread wide memory like history of conversations\n",
    "- **LG concept**: `Checkpointers and config`\n"
   ]
  },
  {
   "cell_type": "markdown",
   "metadata": {},
   "source": [
    "## Introduction to the LangGraph Store\n",
    "\n",
    "The [LangGraph Memory Store](https://langchain-ai.github.io/langgraph/reference/store/#langgraph.store.base.BaseStore) provides a way to store and retrieve information *across threads* in LangGraph.\n",
    "\n",
    "This is an  [open source base class](https://blog.langchain.dev/launching-long-term-memory-support-in-langgraph/) for persistent `key-value` stores."
   ]
  },
  {
   "cell_type": "code",
   "execution_count": 1,
   "metadata": {},
   "outputs": [],
   "source": [
    "from dotenv import load_dotenv\n",
    "load_dotenv()\n",
    "import uuid\n",
    "from langgraph.store.memory import InMemoryStore\n",
    "in_memory_store = InMemoryStore()"
   ]
  },
  {
   "cell_type": "markdown",
   "metadata": {},
   "source": [
    "### store setup"
   ]
  },
  {
   "cell_type": "code",
   "execution_count": 2,
   "metadata": {},
   "outputs": [],
   "source": [
    "user_id = \"1\"\n",
    "namespace_for_memory = (user_id, \"memories\")\n",
    "\n",
    "# Save a memory to namespace as key and value\n",
    "key = str(uuid.uuid4())\n",
    "\n",
    "# The value needs to be a dictionary  \n",
    "value = {\"food_preference\" : \"I like biryani\"}\n",
    "\n",
    "# Save the memory\n",
    "in_memory_store.put(namespace_for_memory, key, value)"
   ]
  },
  {
   "cell_type": "markdown",
   "metadata": {},
   "source": [
    "We use [search](https://langchain-ai.github.io/langgraph/reference/store/#langgraph.store.base.BaseStore.search) to retrieve objects from the store by `namespace`.\n",
    "\n",
    "This returns a list."
   ]
  },
  {
   "cell_type": "code",
   "execution_count": 6,
   "metadata": {},
   "outputs": [
    {
     "data": {
      "text/plain": [
       "[Item(namespace=['1', 'memories'], key='828bb111-3408-4504-9322-b45ab4391497', value={'food_preference': 'I like biryani'}, created_at='2025-07-30T02:10:08.631571+00:00', updated_at='2025-07-30T02:10:08.631573+00:00', score=None)]"
      ]
     },
     "execution_count": 6,
     "metadata": {},
     "output_type": "execute_result"
    }
   ],
   "source": [
    "# Search \n",
    "memories = in_memory_store.search(namespace_for_memory)\n",
    "memories # list"
   ]
  },
  {
   "cell_type": "markdown",
   "metadata": {},
   "source": [
    "We can also use [get](https://langchain-ai.github.io/langgraph/reference/store/#langgraph.store.base.BaseStore.get) to retrieve an object by `namespace` and `key`."
   ]
  },
  {
   "cell_type": "code",
   "execution_count": 3,
   "metadata": {},
   "outputs": [
    {
     "data": {
      "text/plain": [
       "{'namespace': ['1', 'memories'],\n",
       " 'key': 'fb601ebe-313c-4c44-8d64-49ba04193109',\n",
       " 'value': {'food_preference': 'I like biryani'},\n",
       " 'created_at': '2025-07-30T02:52:45.352775+00:00',\n",
       " 'updated_at': '2025-07-30T02:52:45.352777+00:00'}"
      ]
     },
     "execution_count": 3,
     "metadata": {},
     "output_type": "execute_result"
    }
   ],
   "source": [
    "# Get the memory by namespace and key\n",
    "memory = in_memory_store.get(namespace_for_memory, key)\n",
    "memory.dict()"
   ]
  },
  {
   "cell_type": "markdown",
   "metadata": {},
   "source": [
    "### Adding LTM to chatbot"
   ]
  },
  {
   "cell_type": "code",
   "execution_count": 85,
   "metadata": {},
   "outputs": [],
   "source": [
    "from langchain_google_genai import ChatGoogleGenerativeAI\n",
    "\n",
    "\n",
    "llm = ChatGoogleGenerativeAI(model='gemini-2.5-pro',temperature=0)"
   ]
  },
  {
   "cell_type": "code",
   "execution_count": 91,
   "metadata": {},
   "outputs": [],
   "source": [
    "LTM_SYS_INSTRUCTION = \"\"\"You are a helpful assistant with memory that provides information about the user. \n",
    "If you have memory for this user, use it to personalize your responses.\n",
    "Here is the memory (it may be empty): {memory}\"\"\"\n",
    "\n",
    "CREATE_MEMORY_INSTRUCTION = \"\"\"You are collecting information about the user to personalize your responses.\n",
    "\n",
    "CURRENT USER INFORMATION:\n",
    "{memory}\n",
    "\n",
    "INSTRUCTIONS:\n",
    "1. Review the chat history below carefully\n",
    "2. Identify new information about the user, such as:\n",
    "    - Personal details (name, location)\n",
    "    - Preferences (likes, dislikes)\n",
    "    - Interests and hobbies\n",
    "    - Past experiences\n",
    "    - Goals or future plans\n",
    "    - Keep adding attributes to the profile as you discover things\n",
    "3. Merge any new information with existing memory\n",
    "4. Format the memory as a clear, bulleted list\n",
    "5. If new information conflicts with existing memory, keep the most recent version\n",
    "\n",
    "Remember: \n",
    "1. The goal is to create/update user profile information and not to answer the questions based on chat history.\n",
    "2. Only include factual information directly stated by the user. Do not make assumptions or inferences.\n",
    "\n",
    "Example Output: \"**User Information:**\\n- User's name is Bob.\\n- Likes to code and bike around San Francisco.\"\n",
    "\n",
    "please update the user information based on the chat history:\n",
    "\"\"\""
   ]
  },
  {
   "cell_type": "code",
   "execution_count": 92,
   "metadata": {},
   "outputs": [],
   "source": [
    "from pydantic import BaseModel, Field\n",
    "\n",
    "class Memory(BaseModel):\n",
    "    memory: str = Field(description='The updated memory for the user profile')"
   ]
  },
  {
   "cell_type": "markdown",
   "metadata": {},
   "source": [
    "### nodes"
   ]
  },
  {
   "cell_type": "code",
   "execution_count": 96,
   "metadata": {},
   "outputs": [],
   "source": [
    "from langgraph.store.base import BaseStore\n",
    "from langgraph.graph import MessagesState\n",
    "from langchain_core.messages import HumanMessage, SystemMessage\n",
    "from langchain_core.runnables.config import RunnableConfig\n",
    "\n",
    "def invoke_llm_node(state: MessagesState, config: RunnableConfig, store: BaseStore) -> dict:\n",
    "\n",
    "    user_id = config[\"configurable\"][\"user_id\"]\n",
    "    namespace = (\"memory\", user_id)\n",
    "    key = \"user_memory\"\n",
    "    existing_memory = store.get(namespace, key)\n",
    "\n",
    "    if existing_memory:\n",
    "        existing_memory_content = existing_memory.value.get('memory')\n",
    "    else:\n",
    "        existing_memory_content = \"No memory found.\"\n",
    "\n",
    "    system_msg = LTM_SYS_INSTRUCTION.format(memory=existing_memory_content)\n",
    "    \n",
    "    response = llm.invoke([SystemMessage(content=system_msg)]+state[\"messages\"])\n",
    "\n",
    "    return {\"messages\": response}\n",
    "\n",
    "def update_memory_node(state: MessagesState, config: RunnableConfig, store: BaseStore) -> None:\n",
    "    print('🧠 Updating Memory...')\n",
    "    user_id = config[\"configurable\"][\"user_id\"]\n",
    "\n",
    "    namespace = (\"memory\", user_id)\n",
    "    existing_memory = store.get(namespace, \"user_memory\")\n",
    "    print('exising mem: ', existing_memory)   \n",
    "    if existing_memory:\n",
    "        existing_memory_content = existing_memory.value.get('memory')\n",
    "    else:\n",
    "        print('No mem')\n",
    "        existing_memory_content = \"No existing memory found.\"\n",
    "    llm_with_st_op = llm.with_structured_output(Memory)\n",
    "    system_msg = CREATE_MEMORY_INSTRUCTION.format(memory=existing_memory_content)\n",
    "    new_memory = llm_with_st_op.invoke([SystemMessage(content=system_msg)]+state['messages'])\n",
    "    # Update existing memory in the store \n",
    "    key = \"user_memory\"\n",
    "    store.put(namespace, key, {\"memory\": new_memory.memory})"
   ]
  },
  {
   "cell_type": "code",
   "execution_count": 97,
   "metadata": {},
   "outputs": [
    {
     "data": {
      "image/png": "[encoded data removed]",
      "text/plain": [
       "<IPython.core.display.Image object>"
      ]
     },
     "metadata": {},
     "output_type": "display_data"
    }
   ],
   "source": [
    "from IPython.display import Image, display\n",
    "\n",
    "from langgraph.checkpoint.memory import MemorySaver\n",
    "from langgraph.graph import StateGraph, MessagesState, START, END\n",
    "\n",
    "builder = StateGraph(MessagesState)\n",
    "builder.add_node(\"invoke_llm\", invoke_llm_node)\n",
    "builder.add_node(\"update_memory\", update_memory_node)\n",
    "builder.add_edge(START, \"invoke_llm\")\n",
    "builder.add_edge(\"invoke_llm\", \"update_memory\")\n",
    "builder.add_edge(\"update_memory\", END)\n",
    "\n",
    "ltm = InMemoryStore() # long term memory - pertained across threads\n",
    "\n",
    "stm = MemorySaver() # short term memory - used to pause, resume and for thread wide context\n",
    "\n",
    "graph = builder.compile(checkpointer=stm, store=ltm)\n",
    "\n",
    "display(Image(graph.get_graph(xray=True).draw_mermaid_png()))"
   ]
  },
  {
   "cell_type": "code",
   "execution_count": 98,
   "metadata": {},
   "outputs": [
    {
     "name": "stdout",
     "output_type": "stream",
     "text": [
      "================================\u001b[1m Human Message \u001b[0m=================================\n",
      "\n",
      "Hi, my name is Alice\n",
      "==================================\u001b[1m Ai Message \u001b[0m==================================\n",
      "\n",
      "Hi Alice! It's nice to meet you.\n",
      "\n",
      "I'll remember your name for our future conversations. How can I help you today?\n",
      "🧠 Updating Memory...\n",
      "exising mem:  None\n",
      "No mem\n"
     ]
    }
   ],
   "source": [
    "config = {\"configurable\": {\"thread_id\": \"1\", \"user_id\": \"1\"}} # thread_id for stm; user_id for ltm\n",
    "\n",
    "input_messages = [HumanMessage(content=\"Hi, my name is Alice\")]\n",
    "\n",
    "# Run the graph\n",
    "for chunk in graph.stream({\"messages\": input_messages}, config, stream_mode=\"values\"):\n",
    "    chunk[\"messages\"][-1].pretty_print()"
   ]
  },
  {
   "cell_type": "markdown",
   "metadata": {},
   "source": [
    "#### peek memory 👀"
   ]
  },
  {
   "cell_type": "code",
   "execution_count": 99,
   "metadata": {},
   "outputs": [
    {
     "data": {
      "text/plain": [
       "{'namespace': ['memory', '1'],\n",
       " 'key': 'user_memory',\n",
       " 'value': {'memory': \"- User's name is Alice.\"},\n",
       " 'created_at': '2025-07-30T03:30:22.845274+00:00',\n",
       " 'updated_at': '2025-07-30T03:30:22.845278+00:00'}"
      ]
     },
     "execution_count": 99,
     "metadata": {},
     "output_type": "execute_result"
    }
   ],
   "source": [
    "# Namespace for the memory to save\n",
    "user_id = \"1\"\n",
    "namespace = (\"memory\", user_id)\n",
    "existing_memory = ltm.get(namespace, \"user_memory\")\n",
    "existing_memory.dict()"
   ]
  },
  {
   "cell_type": "code",
   "execution_count": 100,
   "metadata": {},
   "outputs": [
    {
     "name": "stdout",
     "output_type": "stream",
     "text": [
      "================================\u001b[1m Human Message \u001b[0m=================================\n",
      "\n",
      "I like to camp around upstate\n",
      "==================================\u001b[1m Ai Message \u001b[0m==================================\n",
      "\n",
      "That's great to know, Alice! Camping upstate is a fantastic way to connect with nature. I'll add that to my memory so I can give you better recommendations in the future.\n",
      "\n",
      "When you say \"upstate,\" which state are you usually referring to? Upstate New York is a popular destination, but many states have an \"upstate\" region.\n",
      "\n",
      "Knowing that, I can help you find new campgrounds, suggest hiking trails, or check the weather for your trips. Do you have any favorite spots you've been to?\n",
      "🧠 Updating Memory...\n",
      "exising mem:  Item(namespace=['memory', '1'], key='user_memory', value={'memory': \"- User's name is Alice.\"}, created_at='2025-07-30T03:30:22.845274+00:00', updated_at='2025-07-30T03:30:22.845278+00:00')\n"
     ]
    }
   ],
   "source": [
    "# User input \n",
    "input_messages = [HumanMessage(content=\"I like to camp around upstate\")]\n",
    "\n",
    "# Run the graph\n",
    "for chunk in graph.stream({\"messages\": input_messages}, config, stream_mode=\"values\"):\n",
    "    chunk[\"messages\"][-1].pretty_print()"
   ]
  },
  {
   "cell_type": "markdown",
   "metadata": {},
   "source": [
    "We're using the `MemorySaver` checkpointer for within-thread memory.\n",
    "\n",
    "This saves the chat history to the thread.\n",
    "\n",
    "We can look at the chat history saved to the thread."
   ]
  },
  {
   "cell_type": "code",
   "execution_count": 101,
   "metadata": {},
   "outputs": [
    {
     "name": "stdout",
     "output_type": "stream",
     "text": [
      "================================\u001b[1m Human Message \u001b[0m=================================\n",
      "\n",
      "Hi, my name is Alice\n",
      "==================================\u001b[1m Ai Message \u001b[0m==================================\n",
      "\n",
      "Hi Alice! It's nice to meet you.\n",
      "\n",
      "I'll remember your name for our future conversations. How can I help you today?\n",
      "================================\u001b[1m Human Message \u001b[0m=================================\n",
      "\n",
      "I like to camp around upstate\n",
      "==================================\u001b[1m Ai Message \u001b[0m==================================\n",
      "\n",
      "That's great to know, Alice! Camping upstate is a fantastic way to connect with nature. I'll add that to my memory so I can give you better recommendations in the future.\n",
      "\n",
      "When you say \"upstate,\" which state are you usually referring to? Upstate New York is a popular destination, but many states have an \"upstate\" region.\n",
      "\n",
      "Knowing that, I can help you find new campgrounds, suggest hiking trails, or check the weather for your trips. Do you have any favorite spots you've been to?\n"
     ]
    }
   ],
   "source": [
    "thread = {\"configurable\": {\"thread_id\": \"1\"}}\n",
    "state = graph.get_state(thread).values\n",
    "for m in state[\"messages\"]: \n",
    "    m.pretty_print()"
   ]
  },
  {
   "cell_type": "code",
   "execution_count": 102,
   "metadata": {},
   "outputs": [
    {
     "data": {
      "text/plain": [
       "{'namespace': ['memory', '1'],\n",
       " 'key': 'user_memory',\n",
       " 'value': {'memory': \"- User's name is Alice.\\n- Likes to camp around upstate.\"},\n",
       " 'created_at': '2025-07-30T03:30:44.480316+00:00',\n",
       " 'updated_at': '2025-07-30T03:30:44.480326+00:00'}"
      ]
     },
     "execution_count": 102,
     "metadata": {},
     "output_type": "execute_result"
    }
   ],
   "source": [
    "# Namespace for the memory to save\n",
    "user_id = \"1\"\n",
    "namespace = (\"memory\", user_id)\n",
    "existing_memory = ltm.get(namespace, \"user_memory\")\n",
    "existing_memory.dict()"
   ]
  },
  {
   "cell_type": "markdown",
   "metadata": {},
   "source": [
    "Now, let's kick off a *new thread* with the *same user ID*.\n",
    "\n",
    "We should see that the chatbot remembered the user's profile and used it to personalize the response."
   ]
  },
  {
   "cell_type": "code",
   "execution_count": 103,
   "metadata": {},
   "outputs": [
    {
     "name": "stdout",
     "output_type": "stream",
     "text": [
      "================================\u001b[1m Human Message \u001b[0m=================================\n",
      "\n",
      "Hi! Where would you recommend that I go camping?\n",
      "==================================\u001b[1m Ai Message \u001b[0m==================================\n",
      "\n",
      "Hi Alice! It's great to hear from you.\n",
      "\n",
      "Since I know you enjoy camping around upstate, I have a few recommendations that you might love, depending on the kind of vibe you're looking for:\n",
      "\n",
      "**1. For a classic Adirondacks experience: Fish Creek Pond Campground**\n",
      "This is one of the most popular spots for a reason. Nearly every site is on the water, making it perfect for kayaking, canoeing, or just relaxing by the shore. It's very well-equipped and great for both families and groups of friends.\n",
      "\n",
      "**2. For stunning gorges and waterfalls: Watkins Glen State Park**\n",
      "Located in the Finger Lakes region, this park is famous for its incredible gorge trail that takes you past 19 waterfalls. It's a truly magical hike. The campground is lovely and gives you easy access to the gorge and the nearby Seneca Lake Wine Trail.\n",
      "\n",
      "**3. For mountain views and history: North-South Lake Campground**\n",
      "This is one of the most popular campgrounds in the Catskills. It offers breathtaking views of the Hudson River Valley from the site of the old Catskill Mountain House. There are plenty of hiking trails, including a walk to the beautiful Kaaterskill Falls.\n",
      "\n",
      "To help me narrow it down even more, could you tell me a bit about the trip you're planning? For instance, are you looking for rugged hiking, water activities, or something more relaxed?\n",
      "\n",
      "Happy planning\n",
      "🧠 Updating Memory...\n",
      "exising mem:  Item(namespace=['memory', '1'], key='user_memory', value={'memory': \"- User's name is Alice.\\n- Likes to camp around upstate.\"}, created_at='2025-07-30T03:30:44.480316+00:00', updated_at='2025-07-30T03:30:44.480326+00:00')\n"
     ]
    }
   ],
   "source": [
    "# We supply a user ID for across-thread memory as well as a new thread ID\n",
    "config = {\"configurable\": {\"thread_id\": \"2\", \"user_id\": \"1\"}}\n",
    "\n",
    "# User input \n",
    "input_messages = [HumanMessage(content=\"Hi! Where would you recommend that I go camping?\")]\n",
    "\n",
    "# Run the graph\n",
    "for chunk in graph.stream({\"messages\": input_messages}, config, stream_mode=\"values\"):\n",
    "    chunk[\"messages\"][-1].pretty_print()"
   ]
  },
  {
   "cell_type": "code",
   "execution_count": 104,
   "metadata": {},
   "outputs": [
    {
     "name": "stdout",
     "output_type": "stream",
     "text": [
      "================================\u001b[1m Human Message \u001b[0m=================================\n",
      "\n",
      "Great, are there any good spots to dine nearby, to feel the smack\n",
      "==================================\u001b[1m Ai Message \u001b[0m==================================\n",
      "\n",
      "Absolutely, Alice! Finding a spot with food that really hits the spot—or \"feels the smack\"—after a day of camping is one of the best parts of the trip.\n",
      "\n",
      "Here are some fantastic dining options near the campgrounds we talked about, perfect for satisfying a post-hike appetite:\n",
      "\n",
      "**1. Near Fish Creek Pond (Saranac Lake / Tupper Lake Area):**\n",
      "\n",
      "*   **For a Hearty Meal & Great Beer:** **Raquette River Brewing** (Tupper Lake). This is a classic Adirondack stop. They have a fantastic selection of craft beers and usually have a food truck on-site serving up delicious, no-fuss food like wood-fired pizza or gourmet tacos. The vibe is super relaxed and perfect for campers.\n",
      "*   **For a Cozy Cafe Vibe:** **The Blue Moon Cafe** (Saranac Lake). A beloved local spot known for its amazing sandwiches, soups, and baked goods. It's perfect for a hearty lunch or a casual dinner. It’s the kind of place that feels like a warm hug.\n",
      "*   **For a \"Treat Yourself\" Dinner:** **The Fiddlehead Bistro** (Saranac Lake). If you want to clean up a bit for a truly \"smack\" meal, this is the place. It's a farm-to-table restaurant with a creative, delicious menu that changes with the seasons.\n",
      "\n",
      "**2. Near Watkins Glen State Park (Finger Lakes Area):**\n",
      "\n",
      "*   **For Epic BBQ & Lake Views:** **Grist Iron Brewing Company** (Burdett). This place is a must-visit. It's a short drive from the park, but the combination of their excellent craft beer, killer BBQ (the brisket is amazing), and stunning views over Seneca Lake is unbeatable.\n",
      "*   **For a Classic Local Favorite:** **The Elf in the Oak** (Watkins Glen). Located right near the park entrance, this quirky, cozy spot is famous for its incredible sandwiches and homemade bread. It's the perfect place to refuel right after your hike through the gorge.\n",
      "*   **For Dinner on the Water:** **Seneca Harbor Station** (Watkins Glen). Dine in a beautifully restored 19th-century train station right on the waterfront. They have a great menu of American classics and seafood. The atmosphere is fantastic, especially at sunset.\n",
      "\n",
      "**3. Near North-South Lake Campground (Catskills / Tannersville Area):**\n",
      "\n",
      "*   **For the Ultimate Diner Experience:** **Phoenicia Diner** (Phoenicia). This is an iconic spot and worth the scenic drive. It's a modern take on the classic American diner with an incredible menu using locally sourced ingredients. It's famous for a reason—the food is consistently fantastic.\n",
      "*   **For a Unique & Cozy Meal:** **Last Chance Antiques & Cafe** (Tannersville). This place is a Catskills institution. It's a combination of an antique store and a restaurant with a massive menu, an incredible cheese selection, and a great tap list. It's quirky, fun, and the food is pure comfort.\n",
      "*   **For a Quick & Delicious Burger:** **Mama's Boy Burgers** (Tannersville). Sometimes you just need a phenomenal burger, fries, and a shake. Mama's Boy delivers exactly that with high-quality ingredients and a fun, retro vibe.\n",
      "\n",
      "Hope this helps you find a meal that truly \"smacks\" on your next upstate adventure, Alice! Enjoy\n",
      "🧠 Updating Memory...\n",
      "exising mem:  Item(namespace=['memory', '1'], key='user_memory', value={'memory': \"- User's name is Alice.\\n- Likes to camp around upstate.\"}, created_at='2025-07-30T03:31:37.494855+00:00', updated_at='2025-07-30T03:31:37.494863+00:00')\n"
     ]
    }
   ],
   "source": [
    "# User input \n",
    "input_messages = [HumanMessage(content=\"Great, are there any good spots to dine nearby, to feel the smack\")]\n",
    "\n",
    "# Run the graph\n",
    "for chunk in graph.stream({\"messages\": input_messages}, config, stream_mode=\"values\"):\n",
    "    chunk[\"messages\"][-1].pretty_print()"
   ]
  },
  {
   "cell_type": "markdown",
   "metadata": {},
   "source": [
    "#### peek memory 👀"
   ]
  },
  {
   "cell_type": "code",
   "execution_count": 105,
   "metadata": {},
   "outputs": [
    {
     "data": {
      "text/plain": [
       "{'namespace': ['memory', '1'],\n",
       " 'key': 'user_memory',\n",
       " 'value': {'memory': '- User\\'s name is Alice.\\n- Likes to camp around upstate.\\n- Appreciates flavorful and satisfying food (uses the phrase \"feel the smack\").'},\n",
       " 'created_at': '2025-07-30T03:34:04.615766+00:00',\n",
       " 'updated_at': '2025-07-30T03:34:04.615771+00:00'}"
      ]
     },
     "execution_count": 105,
     "metadata": {},
     "output_type": "execute_result"
    }
   ],
   "source": [
    "# Namespace for the memory to save\n",
    "user_id = \"1\"\n",
    "namespace = (\"memory\", user_id)\n",
    "existing_memory = ltm.get(namespace, \"user_memory\")\n",
    "existing_memory.dict()"
   ]
  }
 ],
 "metadata": {
  "kernelspec": {
   "display_name": "lc-academy-env",
   "language": "python",
   "name": "python3"
  },
  "language_info": {
   "codemirror_mode": {
    "name": "ipython",
    "version": 3
   },
   "file_extension": ".py",
   "mimetype": "text/x-python",
   "name": "python",
   "nbconvert_exporter": "python",
   "pygments_lexer": "ipython3",
   "version": "3.11.5"
  }
 },
 "nbformat": 4,
 "nbformat_minor": 4
}
