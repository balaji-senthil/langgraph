{
 "cells": [
  {
   "cell_type": "markdown",
   "id": "d04c7853",
   "metadata": {},
   "source": [
    "# Langgraph Controllability Concepts"
   ]
  },
  {
   "cell_type": "code",
   "execution_count": 103,
   "id": "42119612",
   "metadata": {},
   "outputs": [
    {
     "data": {
      "text/plain": [
       "True"
      ]
     },
     "execution_count": 103,
     "metadata": {},
     "output_type": "execute_result"
    }
   ],
   "source": [
    "from dotenv import load_dotenv\n",
    "\n",
    "load_dotenv()"
   ]
  },
  {
   "cell_type": "code",
   "execution_count": 104,
   "id": "bbb00345",
   "metadata": {},
   "outputs": [],
   "source": [
    "from langchain_google_genai import GoogleGenerativeAI\n",
    "llm = GoogleGenerativeAI(model=\"gemini-2.5-flash\")"
   ]
  },
  {
   "cell_type": "code",
   "execution_count": 105,
   "id": "bfac7bc4",
   "metadata": {},
   "outputs": [],
   "source": [
    "from typing import TypedDict\n",
    "\n",
    "class State(TypedDict):\n",
    "    state: str"
   ]
  },
  {
   "cell_type": "code",
   "execution_count": 106,
   "id": "41d3cf6a",
   "metadata": {},
   "outputs": [],
   "source": [
    "def node_a(state: State) -> State:\n",
    "    print('--Node A--')\n",
    "    state['state']+='a'\n",
    "\n",
    "def node_b(state: State) -> State:\n",
    "    print('--Node B--')\n",
    "    state['state']+='b'\n",
    "\n",
    "def node_c(state: State) -> State:\n",
    "    print('--Node C--')\n",
    "    state['state']+='c'\n",
    "\n",
    "def node_d(state: State) -> State:\n",
    "    print('--Node D--')\n",
    "    state['state']+='d'"
   ]
  },
  {
   "cell_type": "code",
   "execution_count": 107,
   "id": "da0803da",
   "metadata": {},
   "outputs": [
    {
     "data": {
      "image/png": "[encoded data removed]",
      "text/plain": [
       "<IPython.core.display.Image object>"
      ]
     },
     "metadata": {},
     "output_type": "display_data"
    }
   ],
   "source": [
    "from langgraph.graph import StateGraph, START, END\n",
    "from IPython.display import Image, display\n",
    "f_builder = StateGraph(State)\n",
    "\n",
    "class ReturnNodeValue:\n",
    "    def __init__(self, node_secret: str):\n",
    "        self._value = node_secret\n",
    "\n",
    "    def __call__(self, state: State):\n",
    "        print(f\"Adding {self._value} to {state['state']}\")\n",
    "        return {\"state\": [self._value]}\n",
    "\n",
    "# Add nodes\n",
    "f_builder = StateGraph(State)\n",
    "\n",
    "# Initialize each node with node_secret \n",
    "f_builder.add_node(\"a\", ReturnNodeValue(\"I'm A\"))\n",
    "f_builder.add_node(\"b\", ReturnNodeValue(\"I'm B\"))\n",
    "f_builder.add_node(\"c\", ReturnNodeValue(\"I'm C\"))\n",
    "f_builder.add_node(\"d\", ReturnNodeValue(\"I'm D\"))\n",
    "\n",
    "f_builder.add_edge(START, 'a')\n",
    "f_builder.add_edge('a', 'b')\n",
    "f_builder.add_edge('b', 'c')\n",
    "f_builder.add_edge('c', 'd')\n",
    "f_builder.add_edge('d', END)\n",
    "\n",
    "graph = f_builder.compile()\n",
    "\n",
    "display(Image(graph.get_graph().draw_mermaid_png()))"
   ]
  },
  {
   "cell_type": "code",
   "execution_count": 108,
   "id": "b94d3778",
   "metadata": {},
   "outputs": [
    {
     "name": "stdout",
     "output_type": "stream",
     "text": [
      "Adding I'm A to []\n",
      "Adding I'm B to [\"I'm A\"]\n",
      "Adding I'm C to [\"I'm B\"]\n",
      "Adding I'm D to [\"I'm C\"]\n"
     ]
    },
    {
     "data": {
      "text/plain": [
       "{'state': [\"I'm D\"]}"
      ]
     },
     "execution_count": 108,
     "metadata": {},
     "output_type": "execute_result"
    }
   ],
   "source": [
    "graph.invoke({\"state\": []})"
   ]
  },
  {
   "cell_type": "code",
   "execution_count": 109,
   "id": "a73adb31",
   "metadata": {},
   "outputs": [
    {
     "data": {
      "image/png": "[encoded data removed]",
      "text/plain": [
       "<IPython.core.display.Image object>"
      ]
     },
     "metadata": {},
     "output_type": "display_data"
    }
   ],
   "source": [
    "f_builder = StateGraph(State)\n",
    "\n",
    "# Initialize each node with node_secret \n",
    "f_builder.add_node(\"a\", ReturnNodeValue(\"I'm A\"))\n",
    "f_builder.add_node(\"b\", ReturnNodeValue(\"I'm B\"))\n",
    "f_builder.add_node(\"c\", ReturnNodeValue(\"I'm C\"))\n",
    "f_builder.add_node(\"d\", ReturnNodeValue(\"I'm D\"))\n",
    "\n",
    "# Flow\n",
    "f_builder.add_edge(START, \"a\")\n",
    "f_builder.add_edge(\"a\", \"b\")\n",
    "f_builder.add_edge(\"a\", \"c\")\n",
    "f_builder.add_edge(\"b\", \"d\")\n",
    "f_builder.add_edge(\"c\", \"d\")\n",
    "f_builder.add_edge(\"d\", END)\n",
    "graph = f_builder.compile()\n",
    "\n",
    "display(Image(graph.get_graph().draw_mermaid_png()))"
   ]
  },
  {
   "cell_type": "code",
   "execution_count": 110,
   "id": "fa85b23a",
   "metadata": {},
   "outputs": [
    {
     "name": "stdout",
     "output_type": "stream",
     "text": [
      "Adding I'm A to []\n",
      "Adding I'm B to [\"I'm A\"]\n",
      "Adding I'm C to [\"I'm A\"]\n"
     ]
    },
    {
     "ename": "InvalidUpdateError",
     "evalue": "At key 'state': Can receive only one value per step. Use an Annotated key to handle multiple values.\nFor troubleshooting, visit: https://python.langchain.com/docs/troubleshooting/errors/INVALID_CONCURRENT_GRAPH_UPDATE",
     "output_type": "error",
     "traceback": [
      "\u001b[31m---------------------------------------------------------------------------\u001b[39m",
      "\u001b[31mInvalidUpdateError\u001b[39m                        Traceback (most recent call last)",
      "\u001b[36mCell\u001b[39m\u001b[36m \u001b[39m\u001b[32mIn[110]\u001b[39m\u001b[32m, line 1\u001b[39m\n\u001b[32m----> \u001b[39m\u001b[32m1\u001b[39m \u001b[43mgraph\u001b[49m\u001b[43m.\u001b[49m\u001b[43minvoke\u001b[49m\u001b[43m(\u001b[49m\u001b[43m{\u001b[49m\u001b[33;43m'\u001b[39;49m\u001b[33;43mstate\u001b[39;49m\u001b[33;43m'\u001b[39;49m\u001b[43m:\u001b[49m\u001b[43m \u001b[49m\u001b[43m[\u001b[49m\u001b[43m]\u001b[49m\u001b[43m}\u001b[49m\u001b[43m)\u001b[49m\n",
      "\u001b[36mFile \u001b[39m\u001b[32m~/code-machine/Gen AI/langgraph/lc-academy-env/lib/python3.11/site-packages/langgraph/pregel/__init__.py:2844\u001b[39m, in \u001b[36mPregel.invoke\u001b[39m\u001b[34m(self, input, config, stream_mode, print_mode, output_keys, interrupt_before, interrupt_after, **kwargs)\u001b[39m\n\u001b[32m   2841\u001b[39m chunks: \u001b[38;5;28mlist\u001b[39m[\u001b[38;5;28mdict\u001b[39m[\u001b[38;5;28mstr\u001b[39m, Any] | Any] = []\n\u001b[32m   2842\u001b[39m interrupts: \u001b[38;5;28mlist\u001b[39m[Interrupt] = []\n\u001b[32m-> \u001b[39m\u001b[32m2844\u001b[39m \u001b[43m\u001b[49m\u001b[38;5;28;43;01mfor\u001b[39;49;00m\u001b[43m \u001b[49m\u001b[43mchunk\u001b[49m\u001b[43m \u001b[49m\u001b[38;5;129;43;01min\u001b[39;49;00m\u001b[43m \u001b[49m\u001b[38;5;28;43mself\u001b[39;49m\u001b[43m.\u001b[49m\u001b[43mstream\u001b[49m\u001b[43m(\u001b[49m\n\u001b[32m   2845\u001b[39m \u001b[43m    \u001b[49m\u001b[38;5;28;43minput\u001b[39;49m\u001b[43m,\u001b[49m\n\u001b[32m   2846\u001b[39m \u001b[43m    \u001b[49m\u001b[43mconfig\u001b[49m\u001b[43m,\u001b[49m\n\u001b[32m   2847\u001b[39m \u001b[43m    \u001b[49m\u001b[43mstream_mode\u001b[49m\u001b[43m=\u001b[49m\u001b[43m[\u001b[49m\u001b[33;43m\"\u001b[39;49m\u001b[33;43mupdates\u001b[39;49m\u001b[33;43m\"\u001b[39;49m\u001b[43m,\u001b[49m\u001b[43m \u001b[49m\u001b[33;43m\"\u001b[39;49m\u001b[33;43mvalues\u001b[39;49m\u001b[33;43m\"\u001b[39;49m\u001b[43m]\u001b[49m\n\u001b[32m   2848\u001b[39m \u001b[43m    \u001b[49m\u001b[38;5;28;43;01mif\u001b[39;49;00m\u001b[43m \u001b[49m\u001b[43mstream_mode\u001b[49m\u001b[43m \u001b[49m\u001b[43m==\u001b[49m\u001b[43m \u001b[49m\u001b[33;43m\"\u001b[39;49m\u001b[33;43mvalues\u001b[39;49m\u001b[33;43m\"\u001b[39;49m\n\u001b[32m   2849\u001b[39m \u001b[43m    \u001b[49m\u001b[38;5;28;43;01melse\u001b[39;49;00m\u001b[43m \u001b[49m\u001b[43mstream_mode\u001b[49m\u001b[43m,\u001b[49m\n\u001b[32m   2850\u001b[39m \u001b[43m    \u001b[49m\u001b[43mprint_mode\u001b[49m\u001b[43m=\u001b[49m\u001b[43mprint_mode\u001b[49m\u001b[43m,\u001b[49m\n\u001b[32m   2851\u001b[39m \u001b[43m    \u001b[49m\u001b[43moutput_keys\u001b[49m\u001b[43m=\u001b[49m\u001b[43moutput_keys\u001b[49m\u001b[43m,\u001b[49m\n\u001b[32m   2852\u001b[39m \u001b[43m    \u001b[49m\u001b[43minterrupt_before\u001b[49m\u001b[43m=\u001b[49m\u001b[43minterrupt_before\u001b[49m\u001b[43m,\u001b[49m\n\u001b[32m   2853\u001b[39m \u001b[43m    \u001b[49m\u001b[43minterrupt_after\u001b[49m\u001b[43m=\u001b[49m\u001b[43minterrupt_after\u001b[49m\u001b[43m,\u001b[49m\n\u001b[32m   2854\u001b[39m \u001b[43m    \u001b[49m\u001b[43m*\u001b[49m\u001b[43m*\u001b[49m\u001b[43mkwargs\u001b[49m\u001b[43m,\u001b[49m\n\u001b[32m   2855\u001b[39m \u001b[43m\u001b[49m\u001b[43m)\u001b[49m\u001b[43m:\u001b[49m\n\u001b[32m   2856\u001b[39m \u001b[43m    \u001b[49m\u001b[38;5;28;43;01mif\u001b[39;49;00m\u001b[43m \u001b[49m\u001b[43mstream_mode\u001b[49m\u001b[43m \u001b[49m\u001b[43m==\u001b[49m\u001b[43m \u001b[49m\u001b[33;43m\"\u001b[39;49m\u001b[33;43mvalues\u001b[39;49m\u001b[33;43m\"\u001b[39;49m\u001b[43m:\u001b[49m\n\u001b[32m   2857\u001b[39m \u001b[43m        \u001b[49m\u001b[38;5;28;43;01mif\u001b[39;49;00m\u001b[43m \u001b[49m\u001b[38;5;28;43mlen\u001b[39;49m\u001b[43m(\u001b[49m\u001b[43mchunk\u001b[49m\u001b[43m)\u001b[49m\u001b[43m \u001b[49m\u001b[43m==\u001b[49m\u001b[43m \u001b[49m\u001b[32;43m2\u001b[39;49m\u001b[43m:\u001b[49m\n",
      "\u001b[36mFile \u001b[39m\u001b[32m~/code-machine/Gen AI/langgraph/lc-academy-env/lib/python3.11/site-packages/langgraph/pregel/__init__.py:2544\u001b[39m, in \u001b[36mPregel.stream\u001b[39m\u001b[34m(self, input, config, stream_mode, print_mode, output_keys, interrupt_before, interrupt_after, checkpoint_during, debug, subgraphs)\u001b[39m\n\u001b[32m   2534\u001b[39m         \u001b[38;5;28;01mfor\u001b[39;00m _ \u001b[38;5;129;01min\u001b[39;00m runner.tick(\n\u001b[32m   2535\u001b[39m             [t \u001b[38;5;28;01mfor\u001b[39;00m t \u001b[38;5;129;01min\u001b[39;00m loop.tasks.values() \u001b[38;5;28;01mif\u001b[39;00m \u001b[38;5;129;01mnot\u001b[39;00m t.writes],\n\u001b[32m   2536\u001b[39m             timeout=\u001b[38;5;28mself\u001b[39m.step_timeout,\n\u001b[32m   (...)\u001b[39m\u001b[32m   2539\u001b[39m         ):\n\u001b[32m   2540\u001b[39m             \u001b[38;5;66;03m# emit output\u001b[39;00m\n\u001b[32m   2541\u001b[39m             \u001b[38;5;28;01myield from\u001b[39;00m _output(\n\u001b[32m   2542\u001b[39m                 stream_mode, print_mode, subgraphs, stream.get, queue.Empty\n\u001b[32m   2543\u001b[39m             )\n\u001b[32m-> \u001b[39m\u001b[32m2544\u001b[39m         \u001b[43mloop\u001b[49m\u001b[43m.\u001b[49m\u001b[43mafter_tick\u001b[49m\u001b[43m(\u001b[49m\u001b[43m)\u001b[49m\n\u001b[32m   2545\u001b[39m \u001b[38;5;66;03m# emit output\u001b[39;00m\n\u001b[32m   2546\u001b[39m \u001b[38;5;28;01myield from\u001b[39;00m _output(\n\u001b[32m   2547\u001b[39m     stream_mode, print_mode, subgraphs, stream.get, queue.Empty\n\u001b[32m   2548\u001b[39m )\n",
      "\u001b[36mFile \u001b[39m\u001b[32m~/code-machine/Gen AI/langgraph/lc-academy-env/lib/python3.11/site-packages/langgraph/pregel/loop.py:526\u001b[39m, in \u001b[36mPregelLoop.after_tick\u001b[39m\u001b[34m(self)\u001b[39m\n\u001b[32m    524\u001b[39m writes = [w \u001b[38;5;28;01mfor\u001b[39;00m t \u001b[38;5;129;01min\u001b[39;00m \u001b[38;5;28mself\u001b[39m.tasks.values() \u001b[38;5;28;01mfor\u001b[39;00m w \u001b[38;5;129;01min\u001b[39;00m t.writes]\n\u001b[32m    525\u001b[39m \u001b[38;5;66;03m# all tasks have finished\u001b[39;00m\n\u001b[32m--> \u001b[39m\u001b[32m526\u001b[39m \u001b[38;5;28mself\u001b[39m.updated_channels = \u001b[43mapply_writes\u001b[49m\u001b[43m(\u001b[49m\n\u001b[32m    527\u001b[39m \u001b[43m    \u001b[49m\u001b[38;5;28;43mself\u001b[39;49m\u001b[43m.\u001b[49m\u001b[43mcheckpoint\u001b[49m\u001b[43m,\u001b[49m\n\u001b[32m    528\u001b[39m \u001b[43m    \u001b[49m\u001b[38;5;28;43mself\u001b[39;49m\u001b[43m.\u001b[49m\u001b[43mchannels\u001b[49m\u001b[43m,\u001b[49m\n\u001b[32m    529\u001b[39m \u001b[43m    \u001b[49m\u001b[38;5;28;43mself\u001b[39;49m\u001b[43m.\u001b[49m\u001b[43mtasks\u001b[49m\u001b[43m.\u001b[49m\u001b[43mvalues\u001b[49m\u001b[43m(\u001b[49m\u001b[43m)\u001b[49m\u001b[43m,\u001b[49m\n\u001b[32m    530\u001b[39m \u001b[43m    \u001b[49m\u001b[38;5;28;43mself\u001b[39;49m\u001b[43m.\u001b[49m\u001b[43mcheckpointer_get_next_version\u001b[49m\u001b[43m,\u001b[49m\n\u001b[32m    531\u001b[39m \u001b[43m    \u001b[49m\u001b[38;5;28;43mself\u001b[39;49m\u001b[43m.\u001b[49m\u001b[43mtrigger_to_nodes\u001b[49m\u001b[43m,\u001b[49m\n\u001b[32m    532\u001b[39m \u001b[43m\u001b[49m\u001b[43m)\u001b[49m\n\u001b[32m    533\u001b[39m \u001b[38;5;66;03m# produce values output\u001b[39;00m\n\u001b[32m    534\u001b[39m \u001b[38;5;28;01mif\u001b[39;00m \u001b[38;5;129;01mnot\u001b[39;00m \u001b[38;5;28mself\u001b[39m.updated_channels.isdisjoint(\n\u001b[32m    535\u001b[39m     (\u001b[38;5;28mself\u001b[39m.output_keys,)\n\u001b[32m    536\u001b[39m     \u001b[38;5;28;01mif\u001b[39;00m \u001b[38;5;28misinstance\u001b[39m(\u001b[38;5;28mself\u001b[39m.output_keys, \u001b[38;5;28mstr\u001b[39m)\n\u001b[32m    537\u001b[39m     \u001b[38;5;28;01melse\u001b[39;00m \u001b[38;5;28mself\u001b[39m.output_keys\n\u001b[32m    538\u001b[39m ):\n",
      "\u001b[36mFile \u001b[39m\u001b[32m~/code-machine/Gen AI/langgraph/lc-academy-env/lib/python3.11/site-packages/langgraph/pregel/algo.py:299\u001b[39m, in \u001b[36mapply_writes\u001b[39m\u001b[34m(checkpoint, channels, tasks, get_next_version, trigger_to_nodes)\u001b[39m\n\u001b[32m    297\u001b[39m \u001b[38;5;28;01mfor\u001b[39;00m chan, vals \u001b[38;5;129;01min\u001b[39;00m pending_writes_by_channel.items():\n\u001b[32m    298\u001b[39m     \u001b[38;5;28;01mif\u001b[39;00m chan \u001b[38;5;129;01min\u001b[39;00m channels:\n\u001b[32m--> \u001b[39m\u001b[32m299\u001b[39m         \u001b[38;5;28;01mif\u001b[39;00m \u001b[43mchannels\u001b[49m\u001b[43m[\u001b[49m\u001b[43mchan\u001b[49m\u001b[43m]\u001b[49m\u001b[43m.\u001b[49m\u001b[43mupdate\u001b[49m\u001b[43m(\u001b[49m\u001b[43mvals\u001b[49m\u001b[43m)\u001b[49m \u001b[38;5;129;01mand\u001b[39;00m next_version \u001b[38;5;129;01mis\u001b[39;00m \u001b[38;5;129;01mnot\u001b[39;00m \u001b[38;5;28;01mNone\u001b[39;00m:\n\u001b[32m    300\u001b[39m             checkpoint[\u001b[33m\"\u001b[39m\u001b[33mchannel_versions\u001b[39m\u001b[33m\"\u001b[39m][chan] = next_version\n\u001b[32m    301\u001b[39m             \u001b[38;5;66;03m# unavailable channels can't trigger tasks, so don't add them\u001b[39;00m\n",
      "\u001b[36mFile \u001b[39m\u001b[32m~/code-machine/Gen AI/langgraph/lc-academy-env/lib/python3.11/site-packages/langgraph/channels/last_value.py:58\u001b[39m, in \u001b[36mLastValue.update\u001b[39m\u001b[34m(self, values)\u001b[39m\n\u001b[32m     53\u001b[39m \u001b[38;5;28;01mif\u001b[39;00m \u001b[38;5;28mlen\u001b[39m(values) != \u001b[32m1\u001b[39m:\n\u001b[32m     54\u001b[39m     msg = create_error_message(\n\u001b[32m     55\u001b[39m         message=\u001b[33mf\u001b[39m\u001b[33m\"\u001b[39m\u001b[33mAt key \u001b[39m\u001b[33m'\u001b[39m\u001b[38;5;132;01m{\u001b[39;00m\u001b[38;5;28mself\u001b[39m.key\u001b[38;5;132;01m}\u001b[39;00m\u001b[33m'\u001b[39m\u001b[33m: Can receive only one value per step. Use an Annotated key to handle multiple values.\u001b[39m\u001b[33m\"\u001b[39m,\n\u001b[32m     56\u001b[39m         error_code=ErrorCode.INVALID_CONCURRENT_GRAPH_UPDATE,\n\u001b[32m     57\u001b[39m     )\n\u001b[32m---> \u001b[39m\u001b[32m58\u001b[39m     \u001b[38;5;28;01mraise\u001b[39;00m InvalidUpdateError(msg)\n\u001b[32m     60\u001b[39m \u001b[38;5;28mself\u001b[39m.value = values[-\u001b[32m1\u001b[39m]\n\u001b[32m     61\u001b[39m \u001b[38;5;28;01mreturn\u001b[39;00m \u001b[38;5;28;01mTrue\u001b[39;00m\n",
      "\u001b[31mInvalidUpdateError\u001b[39m: At key 'state': Can receive only one value per step. Use an Annotated key to handle multiple values.\nFor troubleshooting, visit: https://python.langchain.com/docs/troubleshooting/errors/INVALID_CONCURRENT_GRAPH_UPDATE"
     ]
    }
   ],
   "source": [
    "graph.invoke({'state': []})"
   ]
  },
  {
   "cell_type": "markdown",
   "id": "fb303367",
   "metadata": {},
   "source": [
    "### use reducers to overcome this"
   ]
  },
  {
   "cell_type": "code",
   "execution_count": 111,
   "id": "f64ffae9",
   "metadata": {},
   "outputs": [
    {
     "data": {
      "image/png": "[encoded data removed]",
      "text/plain": [
       "<IPython.core.display.Image object>"
      ]
     },
     "metadata": {},
     "output_type": "display_data"
    }
   ],
   "source": [
    "import operator\n",
    "from typing import Annotated\n",
    "\n",
    "class State(TypedDict):\n",
    "    # The operator.add reducer fn makes this append-only\n",
    "    state: Annotated[list, operator.add]\n",
    "\n",
    "# Add nodes\n",
    "f_builder = StateGraph(State)\n",
    "\n",
    "# Initialize each node with node_secret \n",
    "f_builder.add_node(\"a\", ReturnNodeValue(\"I'm A\"))\n",
    "f_builder.add_node(\"b\", ReturnNodeValue(\"I'm B\"))\n",
    "f_builder.add_node(\"c\", ReturnNodeValue(\"I'm C\"))\n",
    "f_builder.add_node(\"d\", ReturnNodeValue(\"I'm D\"))\n",
    "\n",
    "# Flow\n",
    "f_builder.add_edge(START, \"a\")\n",
    "f_builder.add_edge(\"a\", \"b\")\n",
    "f_builder.add_edge(\"a\", \"c\")\n",
    "f_builder.add_edge(\"b\", \"d\")\n",
    "f_builder.add_edge(\"c\", \"d\")\n",
    "f_builder.add_edge(\"d\", END)\n",
    "graph = f_builder.compile()\n",
    "\n",
    "display(Image(graph.get_graph().draw_mermaid_png()))"
   ]
  },
  {
   "cell_type": "code",
   "execution_count": 112,
   "id": "a434a6a2",
   "metadata": {},
   "outputs": [
    {
     "name": "stdout",
     "output_type": "stream",
     "text": [
      "Adding I'm A to []\n",
      "Adding I'm B to [\"I'm A\"]\n",
      "Adding I'm C to [\"I'm A\"]\n",
      "Adding I'm D to [\"I'm A\", \"I'm B\", \"I'm C\"]\n"
     ]
    },
    {
     "data": {
      "text/plain": [
       "{'state': [\"I'm A\", \"I'm B\", \"I'm C\", \"I'm D\"]}"
      ]
     },
     "execution_count": 112,
     "metadata": {},
     "output_type": "execute_result"
    }
   ],
   "source": [
    "graph.invoke({'state': []})"
   ]
  },
  {
   "cell_type": "markdown",
   "id": "88164aa8",
   "metadata": {},
   "source": [
    "### wait for nodes to settle"
   ]
  },
  {
   "cell_type": "code",
   "execution_count": 113,
   "id": "070d4791",
   "metadata": {},
   "outputs": [
    {
     "data": {
      "image/png": "[encoded data removed]",
      "text/plain": [
       "<IPython.core.display.Image object>"
      ]
     },
     "metadata": {},
     "output_type": "display_data"
    }
   ],
   "source": [
    "f_builder = StateGraph(State)\n",
    "\n",
    "# Initialize each node with node_secret \n",
    "f_builder.add_node(\"a\", ReturnNodeValue(\"I'm A\"))\n",
    "f_builder.add_node(\"b\", ReturnNodeValue(\"I'm B\"))\n",
    "f_builder.add_node(\"b2\", ReturnNodeValue(\"I'm B2\"))\n",
    "f_builder.add_node(\"c\", ReturnNodeValue(\"I'm C\"))\n",
    "f_builder.add_node(\"d\", ReturnNodeValue(\"I'm D\"))\n",
    "\n",
    "# Flow\n",
    "f_builder.add_edge(START, \"a\")\n",
    "f_builder.add_edge(\"a\", \"b\")\n",
    "f_builder.add_edge(\"a\", \"c\")\n",
    "f_builder.add_edge(\"b\", \"b2\")\n",
    "f_builder.add_edge([\"b2\", \"c\"], \"d\")\n",
    "f_builder.add_edge(\"d\", END)\n",
    "graph = f_builder.compile()\n",
    "\n",
    "display(Image(graph.get_graph().draw_mermaid_png()))"
   ]
  },
  {
   "cell_type": "code",
   "execution_count": 114,
   "id": "5304376b",
   "metadata": {},
   "outputs": [
    {
     "name": "stdout",
     "output_type": "stream",
     "text": [
      "Adding I'm A to []\n",
      "Adding I'm B to [\"I'm A\"]\n",
      "Adding I'm C to [\"I'm A\"]\n",
      "Adding I'm B2 to [\"I'm A\", \"I'm B\", \"I'm C\"]\n",
      "Adding I'm D to [\"I'm A\", \"I'm B\", \"I'm C\", \"I'm B2\"]\n"
     ]
    },
    {
     "data": {
      "text/plain": [
       "{'state': [\"I'm A\", \"I'm B\", \"I'm C\", \"I'm B2\", \"I'm D\"]}"
      ]
     },
     "execution_count": 114,
     "metadata": {},
     "output_type": "execute_result"
    }
   ],
   "source": [
    "graph.invoke({\"state\": []})"
   ]
  },
  {
   "cell_type": "markdown",
   "id": "676d5459",
   "metadata": {},
   "source": [
    "### set custom order of execution"
   ]
  },
  {
   "cell_type": "markdown",
   "id": "e135cf74",
   "metadata": {},
   "source": [
    "#### how? using custom reducer"
   ]
  },
  {
   "cell_type": "code",
   "execution_count": 115,
   "id": "a2931002",
   "metadata": {},
   "outputs": [
    {
     "data": {
      "image/png": "[encoded data removed]",
      "text/plain": [
       "<IPython.core.display.Image object>"
      ]
     },
     "metadata": {},
     "output_type": "display_data"
    }
   ],
   "source": [
    "def asc_sort_reducer(left, right):\n",
    "    if not isinstance(left, list):\n",
    "        left = [left]\n",
    "\n",
    "    if not isinstance(right, list):\n",
    "        right = [right]\n",
    "    \n",
    "    return sorted(left + right, reverse=False)\n",
    "\n",
    "class State(TypedDict):\n",
    "    state: Annotated[list, asc_sort_reducer]\n",
    "\n",
    "f_builder = StateGraph(State)\n",
    "\n",
    "f_builder.add_node(\"a\", ReturnNodeValue(\"I'm A\"))\n",
    "f_builder.add_node(\"b\", ReturnNodeValue(\"I'm B\"))\n",
    "f_builder.add_node(\"b2\", ReturnNodeValue(\"I'm B2\"))\n",
    "f_builder.add_node(\"c\", ReturnNodeValue(\"I'm C\"))\n",
    "f_builder.add_node(\"d\", ReturnNodeValue(\"I'm D\"))\n",
    "\n",
    "f_builder.add_edge(START, \"a\")\n",
    "f_builder.add_edge(\"a\", \"b\")\n",
    "f_builder.add_edge(\"a\", \"c\")\n",
    "f_builder.add_edge(\"b\", \"b2\")\n",
    "f_builder.add_edge([\"b2\", \"c\"], \"d\")\n",
    "f_builder.add_edge(\"d\", END)\n",
    "graph = f_builder.compile()\n",
    "\n",
    "display(Image(graph.get_graph().draw_mermaid_png()))"
   ]
  },
  {
   "cell_type": "code",
   "execution_count": 116,
   "id": "1fb8dd33",
   "metadata": {},
   "outputs": [
    {
     "name": "stdout",
     "output_type": "stream",
     "text": [
      "Adding I'm A to []\n",
      "Adding I'm B to [\"I'm A\"]\n",
      "Adding I'm C to [\"I'm A\"]\n",
      "Adding I'm B2 to [\"I'm A\", \"I'm B\", \"I'm C\"]\n",
      "Adding I'm D to [\"I'm A\", \"I'm B\", \"I'm B2\", \"I'm C\"]\n"
     ]
    },
    {
     "data": {
      "text/plain": [
       "{'state': [\"I'm A\", \"I'm B\", \"I'm B2\", \"I'm C\", \"I'm D\"]}"
      ]
     },
     "execution_count": 116,
     "metadata": {},
     "output_type": "execute_result"
    }
   ],
   "source": [
    "graph.invoke({'state': []})"
   ]
  },
  {
   "cell_type": "markdown",
   "id": "4abf9c82",
   "metadata": {},
   "source": [
    "### With LLM"
   ]
  },
  {
   "cell_type": "code",
   "execution_count": 117,
   "id": "6c9d7310",
   "metadata": {},
   "outputs": [
    {
     "data": {
      "image/png": "[encoded data removed]",
      "text/plain": [
       "<IPython.core.display.Image object>"
      ]
     },
     "metadata": {},
     "output_type": "display_data"
    }
   ],
   "source": [
    "from IPython.display import Image, display\n",
    "class State(TypedDict):\n",
    "    question: str\n",
    "    answer: str\n",
    "    context: Annotated[list, operator.add]\n",
    "\n",
    "\n",
    "from langchain_core.messages import HumanMessage, SystemMessage\n",
    "\n",
    "from langchain_community.document_loaders import WikipediaLoader\n",
    "from langchain_community.tools import TavilySearchResults\n",
    "\n",
    "def search_web(state):\n",
    "    \n",
    "    \"\"\" Retrieve docs from web search \"\"\"\n",
    "    print('--Search Web--')\n",
    "\n",
    "    tavily_search = TavilySearchResults(max_results=3)\n",
    "    search_docs = tavily_search.invoke(state['question'])\n",
    "\n",
    "    return {\"context\": [''.join([\n",
    "        f'<Document href=\"{doc[\"url\"]}\">\\n{doc[\"content\"]}\\n</Document>'\n",
    "        for doc in search_docs\n",
    "    ])]} \n",
    "\n",
    "def search_wiki(state):\n",
    "    print('--Search Wikipedia--')\n",
    "\n",
    "    search_docs = WikipediaLoader(query=state['question'], load_max_docs=3).load()\n",
    "\n",
    "    return {\"context\": [''.join([\n",
    "        f'<Document source=\"{doc.metadata[\"source\"]}\" page=\"{doc.metadata.get(\"page\", \"\")}\">\\n{doc.page_content}\\n</Document>'\n",
    "        for doc in search_docs\n",
    "    ])]} \n",
    "\n",
    "\n",
    "def generate_answer(state):\n",
    "    \n",
    "    print('--Generate Answer--')\n",
    "\n",
    "    context = state[\"context\"]\n",
    "    question = state[\"question\"]\n",
    "\n",
    "    answer_template = \"\"\"Upon searching the web and Wikipedia for {question}, I have gathered some context: {context}.\"\"\"\n",
    "    answer_instructions = answer_template.format(question=question, context=context)\n",
    "\n",
    "    answer = llm.invoke([SystemMessage(content=answer_instructions)]+[HumanMessage(content=f\"Answer the question.\")])\n",
    "    \n",
    "    return {\"answer\": answer}\n",
    "\n",
    "\n",
    "f_builder = StateGraph(State)\n",
    "\n",
    "\n",
    "f_builder.add_node(\"search_web\",search_web)\n",
    "f_builder.add_node(\"search_wiki\", search_wiki)\n",
    "f_builder.add_node(\"generate_answer\", generate_answer)\n",
    "\n",
    "\n",
    "f_builder.add_edge(START, \"search_wiki\")\n",
    "f_builder.add_edge(START, \"search_web\")\n",
    "f_builder.add_edge(\"search_wiki\", \"generate_answer\")\n",
    "f_builder.add_edge(\"search_web\", \"generate_answer\")\n",
    "f_builder.add_edge(\"generate_answer\", END)\n",
    "f_builder.set_entry_point(\"search_wiki\")\n",
    "graph = f_builder.compile()\n",
    "\n",
    "display(Image(graph.get_graph().draw_mermaid_png()))\n"
   ]
  },
  {
   "cell_type": "code",
   "execution_count": 120,
   "id": "1675a23d",
   "metadata": {},
   "outputs": [
    {
     "name": "stdout",
     "output_type": "stream",
     "text": [
      "--Search Web--\n",
      "--Search Wikipedia--\n",
      "--Generate Answer--\n"
     ]
    },
    {
     "data": {
      "text/markdown": [
       "As of July 2025, OpenAI has released or made improvements to the following models:\n",
       "\n",
       "**Released in 2024:**\n",
       "*   **OpenAI o1:** A reasoning model that generates long chains of thought before returning a final answer.\n",
       "\n",
       "**Released in 2025:**\n",
       "*   **OpenAI o3-mini:** Released on January 31, 2025.\n",
       "*   **GPT-4.5:** Released on February 27, 2025. After July 2025, it will only be available through ChatGPT for Plus and Pro subscribers. It is noted as OpenAI's best GPT model, outperforming GPT-4o.\n",
       "*   **OpenAI o3 and o4-mini:** Released on April 16, 2025.\n",
       "*   **Latest image generation model in the API:** Released on April 23, 2025.\n",
       "*   **Improvements to GPT-4o:** Released on April 25, 2025, optimizing memory saving and enhancing STEM problem-solving capabilities, making it more proactive and intuitive.\n",
       "*   **Codex:** Released on May 16, 2025.\n",
       "*   **OpenAI o3-pro:** Launched on June 10, 2025, available for Pro users in ChatGPT and the API.\n",
       "\n",
       "Other models mentioned as existing but without specific 2025 release notes in the provided context include **GPT-4** (released 2023) and **GPT-4.1**."
      ],
      "text/plain": [
       "<IPython.core.display.Markdown object>"
      ]
     },
     "execution_count": 120,
     "metadata": {},
     "output_type": "execute_result"
    }
   ],
   "source": [
    "from IPython.display import Markdown\n",
    "result = graph.invoke({\"question\": \"What are OpenAI's models and release notes as of Jul 2025?\"})\n",
    "Markdown(result['answer'])"
   ]
  },
  {
   "cell_type": "markdown",
   "id": "27081f68",
   "metadata": {},
   "source": [
    "### Subgraphs"
   ]
  },
  {
   "cell_type": "code",
   "execution_count": 121,
   "id": "bd382782",
   "metadata": {},
   "outputs": [],
   "source": [
    "from typing import TypedDict\n",
    "from datetime import datetime\n",
    "\n",
    "class News(TypedDict):\n",
    "    field: str\n",
    "    reports: list[str]\n",
    "    is_breaking: bool"
   ]
  },
  {
   "cell_type": "code",
   "execution_count": 122,
   "id": "904ec184",
   "metadata": {},
   "outputs": [
    {
     "data": {
      "image/png": "[encoded data removed]",
      "text/plain": [
       "<IPython.core.display.Image object>"
      ]
     },
     "metadata": {},
     "output_type": "display_data"
    }
   ],
   "source": [
    "# Graph1: Sports News\n",
    "\n",
    "# state\n",
    "class SportsNewsState(TypedDict):\n",
    "    news: list[News]\n",
    "    air_date: datetime\n",
    "\n",
    "# nodes\n",
    "def get_latest_sports_news_node(state: SportsNewsState) -> SportsNewsState:\n",
    "    state['news'] = [\n",
    "        {\n",
    "        'field': 'cricket',\n",
    "        'reports': ['IND vs ENG 🏏...', '🏏 Test 3, day 3...'],\n",
    "        'is_breaking': True\n",
    "        }, \n",
    "        {\n",
    "        'field': 'football',\n",
    "        'reports': ['🏈 some news...', '⚽️...'],\n",
    "        'is_breaking': False\n",
    "        }\n",
    "    ]\n",
    "    state['air_date'] = datetime.now()\n",
    "    return state\n",
    "\n",
    "\n",
    "def get_breaking_news_node(state: SportsNewsState) -> SportsNewsState:\n",
    "    breaking_news: list[News] = []\n",
    "    print('--Get Breaking News--')\n",
    "    print(f'All Sports News: {state[\"news\"]}')\n",
    "    for _ in state['news']:\n",
    "        if _['is_breaking']:\n",
    "            breaking_news.append(_)\n",
    "    print(f\"Sports Breaking news: {breaking_news}\")\n",
    "    state['news'] = breaking_news\n",
    "    return state\n",
    "\n",
    "\n",
    "# graph\n",
    "s_builder = StateGraph(SportsNewsState)\n",
    "\n",
    "\n",
    "s_builder.add_node(\"get_sports_news\", get_latest_sports_news_node)\n",
    "s_builder.add_node(\"get_breaking_news\", get_breaking_news_node)\n",
    "\n",
    "\n",
    "s_builder.add_edge(START, \"get_sports_news\")\n",
    "s_builder.add_edge(\"get_sports_news\", \"get_breaking_news\")\n",
    "s_builder.add_edge(\"get_breaking_news\", END)\n",
    "graph = s_builder.compile()\n",
    "\n",
    "display(Image(graph.get_graph().draw_mermaid_png()))"
   ]
  },
  {
   "cell_type": "code",
   "execution_count": 123,
   "id": "460209c5",
   "metadata": {},
   "outputs": [
    {
     "data": {
      "image/png": "[encoded data removed]",
      "text/plain": [
       "<IPython.core.display.Image object>"
      ]
     },
     "metadata": {},
     "output_type": "display_data"
    }
   ],
   "source": [
    "# Graph2: Finance News\n",
    "\n",
    "# state\n",
    "class FinanceNewsState(TypedDict):\n",
    "    news: list[News]\n",
    "    source: str\n",
    "\n",
    "# nodes\n",
    "def get_latest_finance_news_node(state: FinanceNewsState) -> FinanceNewsState:\n",
    "    state['news'] = [\n",
    "        {\n",
    "        'field': 'stock',\n",
    "        'reports': ['📉🐻...', '🐂📈...'],\n",
    "        'is_breaking': True\n",
    "        }, \n",
    "        {\n",
    "        'field': 'trades',\n",
    "        'reports': ['💰💶...', '💵💲...'],\n",
    "        'is_breaking': False\n",
    "        }\n",
    "    ]\n",
    "    state['source'] = 'WSJ'\n",
    "    return state\n",
    "\n",
    "\n",
    "def get_breaking_news_node(state: FinanceNewsState) -> FinanceNewsState:\n",
    "    breaking_news: list[News] = []\n",
    "    print('--Get Breaking News--')\n",
    "    print(f'All Finance News: {state[\"news\"]}')\n",
    "    for _ in state['news']:\n",
    "        if _['is_breaking']:\n",
    "            breaking_news.append(_)\n",
    "    print(f\" Finance Breaking news: {breaking_news}\")\n",
    "    state['news'] = breaking_news\n",
    "    return state\n",
    "\n",
    "\n",
    "# graph\n",
    "f_builder = StateGraph(FinanceNewsState)\n",
    "\n",
    "\n",
    "f_builder.add_node(\"get_finance_news\", get_latest_finance_news_node)\n",
    "f_builder.add_node(\"get_breaking_news\", get_breaking_news_node)\n",
    "\n",
    "\n",
    "f_builder.add_edge(START, \"get_finance_news\")\n",
    "f_builder.add_edge(\"get_finance_news\", \"get_breaking_news\")\n",
    "f_builder.add_edge(\"get_breaking_news\", END)\n",
    "graph = f_builder.compile()\n",
    "\n",
    "display(Image(graph.get_graph().draw_mermaid_png()))"
   ]
  },
  {
   "cell_type": "markdown",
   "id": "99255f90",
   "metadata": {},
   "source": [
    "#### Combine Graphs to Parent Graph"
   ]
  },
  {
   "cell_type": "code",
   "execution_count": 124,
   "id": "d1230950",
   "metadata": {},
   "outputs": [
    {
     "data": {
      "image/png": "[encoded data removed]",
      "text/plain": [
       "<IPython.core.display.Image object>"
      ]
     },
     "metadata": {},
     "output_type": "display_data"
    }
   ],
   "source": [
    "from typing import Annotated\n",
    "from operator import add\n",
    "class EntryGraphState(TypedDict):\n",
    "    raw_news: list[News]\n",
    "    cleaned_news: list[News]\n",
    "    air_date: datetime # This will only be generated in the FA sub-graph\n",
    "    source: str # This will only be generated in the QS sub-graph\n",
    "    news:  Annotated[list[News], add] # This will be generated in BOTH sub-graphs\n",
    "\n",
    "def clean_news(state):\n",
    "    # Get logs\n",
    "    raw_news = state[\"raw_news\"]\n",
    "    # Data cleaning raw_logs -> docs \n",
    "    cleaned_news = raw_news\n",
    "    return {\"cleaned_news\": cleaned_news}\n",
    "\n",
    "entry_builder = StateGraph(EntryGraphState)\n",
    "entry_builder.add_node(\"clean_news\", clean_news)\n",
    "entry_builder.add_node(\"sports_news\", s_builder.compile())\n",
    "entry_builder.add_node(\"finance_news\", f_builder.compile())\n",
    "\n",
    "entry_builder.add_edge(START, \"clean_news\")\n",
    "entry_builder.add_edge(\"clean_news\", \"sports_news\")\n",
    "entry_builder.add_edge(\"clean_news\", \"finance_news\")\n",
    "entry_builder.add_edge(\"finance_news\", END)\n",
    "entry_builder.add_edge(\"sports_news\", END)\n",
    "\n",
    "graph = entry_builder.compile()\n",
    "\n",
    "from IPython.display import Image, display\n",
    "\n",
    "# Setting xray to 1 will show the internal structure of the nested graph\n",
    "display(Image(graph.get_graph(xray=1).draw_mermaid_png()))"
   ]
  },
  {
   "cell_type": "code",
   "execution_count": 125,
   "id": "ad540d8f",
   "metadata": {},
   "outputs": [],
   "source": [
    "### create dummy sports news and finance news\n",
    "\n",
    "sports_news = [\n",
    "    {\n",
    "        'field': 'cricket',\n",
    "        'reports': ['IND vs ENG 🏏...', '🏏 Test Series 2023', '🏏 IPL 2023'],\n",
    "        'is_breaking': True,\n",
    "    },\n",
    "    {\n",
    "        'field': 'football',\n",
    "        'reports': ['Champions League Final ⚽...', '⚽ Premier League Highlights', '⚽ La Liga Updates'],\n",
    "        'is_breaking': False,\n",
    "    },\n",
    "    {\n",
    "        'field': 'finance',\n",
    "        'reports': ['Stock Market Crash 📉...', '📈 Cryptocurrency Trends', '📊 Economic Outlook 2023'],\n",
    "        'is_breaking': False,\n",
    "    },\n",
    "]\n",
    "\n",
    "finance_news = [\n",
    "    {\n",
    "        'field': 'stock',\n",
    "        'reports': ['📉🐻 Bear Market Trends', '🐂📈 Bull Market Predictions', '💰💶 Investment Strategies'],\n",
    "        'is_breaking': True,\n",
    "    },\n",
    "    {\n",
    "        'field': 'trades',\n",
    "        'reports': ['💵💲 Forex Trading Tips', '📊 Stock Analysis Tools', '📈 Market News'],\n",
    "        'is_breaking': False,\n",
    "    },\n",
    "]\n",
    "\n",
    "raw_news = sports_news + finance_news"
   ]
  },
  {
   "cell_type": "code",
   "execution_count": 126,
   "id": "9fb87048",
   "metadata": {},
   "outputs": [
    {
     "name": "stdout",
     "output_type": "stream",
     "text": [
      "--Get Breaking News--\n",
      "All Finance News: [{'field': 'stock', 'reports': ['📉🐻...', '🐂📈...'], 'is_breaking': True}, {'field': 'trades', 'reports': ['💰💶...', '💵💲...'], 'is_breaking': False}]\n",
      " Finance Breaking news: [{'field': 'stock', 'reports': ['📉🐻...', '🐂📈...'], 'is_breaking': True}]\n",
      "--Get Breaking News--\n",
      "All Sports News: [{'field': 'cricket', 'reports': ['IND vs ENG 🏏...', '🏏 Test 3, day 3...'], 'is_breaking': True}, {'field': 'football', 'reports': ['🏈 some news...', '⚽️...'], 'is_breaking': False}]\n",
      "Sports Breaking news: [{'field': 'cricket', 'reports': ['IND vs ENG 🏏...', '🏏 Test 3, day 3...'], 'is_breaking': True}]\n"
     ]
    },
    {
     "data": {
      "text/plain": [
       "{'raw_news': [{'field': 'cricket',\n",
       "   'reports': ['IND vs ENG 🏏...', '🏏 Test Series 2023', '🏏 IPL 2023'],\n",
       "   'is_breaking': True},\n",
       "  {'field': 'football',\n",
       "   'reports': ['Champions League Final ⚽...',\n",
       "    '⚽ Premier League Highlights',\n",
       "    '⚽ La Liga Updates'],\n",
       "   'is_breaking': False},\n",
       "  {'field': 'finance',\n",
       "   'reports': ['Stock Market Crash 📉...',\n",
       "    '📈 Cryptocurrency Trends',\n",
       "    '📊 Economic Outlook 2023'],\n",
       "   'is_breaking': False},\n",
       "  {'field': 'stock',\n",
       "   'reports': ['📉🐻 Bear Market Trends',\n",
       "    '🐂📈 Bull Market Predictions',\n",
       "    '💰💶 Investment Strategies'],\n",
       "   'is_breaking': True},\n",
       "  {'field': 'trades',\n",
       "   'reports': ['💵💲 Forex Trading Tips',\n",
       "    '📊 Stock Analysis Tools',\n",
       "    '📈 Market News'],\n",
       "   'is_breaking': False}],\n",
       " 'cleaned_news': [{'field': 'cricket',\n",
       "   'reports': ['IND vs ENG 🏏...', '🏏 Test Series 2023', '🏏 IPL 2023'],\n",
       "   'is_breaking': True},\n",
       "  {'field': 'football',\n",
       "   'reports': ['Champions League Final ⚽...',\n",
       "    '⚽ Premier League Highlights',\n",
       "    '⚽ La Liga Updates'],\n",
       "   'is_breaking': False},\n",
       "  {'field': 'finance',\n",
       "   'reports': ['Stock Market Crash 📉...',\n",
       "    '📈 Cryptocurrency Trends',\n",
       "    '📊 Economic Outlook 2023'],\n",
       "   'is_breaking': False},\n",
       "  {'field': 'stock',\n",
       "   'reports': ['📉🐻 Bear Market Trends',\n",
       "    '🐂📈 Bull Market Predictions',\n",
       "    '💰💶 Investment Strategies'],\n",
       "   'is_breaking': True},\n",
       "  {'field': 'trades',\n",
       "   'reports': ['💵💲 Forex Trading Tips',\n",
       "    '📊 Stock Analysis Tools',\n",
       "    '📈 Market News'],\n",
       "   'is_breaking': False}],\n",
       " 'air_date': datetime.datetime(2025, 7, 26, 22, 8, 6, 761746),\n",
       " 'source': 'WSJ',\n",
       " 'news': [{'field': 'stock',\n",
       "   'reports': ['📉🐻...', '🐂📈...'],\n",
       "   'is_breaking': True},\n",
       "  {'field': 'cricket',\n",
       "   'reports': ['IND vs ENG 🏏...', '🏏 Test 3, day 3...'],\n",
       "   'is_breaking': True}]}"
      ]
     },
     "execution_count": 126,
     "metadata": {},
     "output_type": "execute_result"
    }
   ],
   "source": [
    "# invoke the graph with the raw news\n",
    "res= graph.invoke({\n",
    "    \"raw_news\": raw_news\n",
    "})\n",
    "res\n"
   ]
  }
 ],
 "metadata": {
  "kernelspec": {
   "display_name": "lc-academy-env",
   "language": "python",
   "name": "python3"
  },
  "language_info": {
   "codemirror_mode": {
    "name": "ipython",
    "version": 3
   },
   "file_extension": ".py",
   "mimetype": "text/x-python",
   "name": "python",
   "nbconvert_exporter": "python",
   "pygments_lexer": "ipython3",
   "version": "3.11.5"
  }
 },
 "nbformat": 4,
 "nbformat_minor": 5
}
