{
 "cells": [
  {
   "cell_type": "markdown",
   "id": "47274c1c",
   "metadata": {},
   "source": [
    "# System Design Agent"
   ]
  },
  {
   "cell_type": "code",
   "execution_count": 1,
   "id": "0941bfbc",
   "metadata": {},
   "outputs": [],
   "source": [
    "from dotenv import load_dotenv\n",
    "\n",
    "load_dotenv()\n",
    "\n",
    "from langchain_google_genai import ChatGoogleGenerativeAI\n",
    "\n",
    "llm = ChatGoogleGenerativeAI(model='gemini-2.5-flash')"
   ]
  },
  {
   "cell_type": "markdown",
   "id": "1d0b7723",
   "metadata": {},
   "source": [
    "### State"
   ]
  },
  {
   "cell_type": "code",
   "execution_count": 2,
   "id": "8fc93833",
   "metadata": {},
   "outputs": [],
   "source": [
    "from typing import Annotated, TypedDict\n",
    "from operator import add\n",
    "from langgraph.graph import MessagesState\n",
    "from pydantic import BaseModel, Field\n",
    "\n",
    "\n",
    "class State(MessagesState):\n",
    "    query: str\n",
    "    system: str \n",
    "    plan: str\n",
    "    sources: Annotated[list[str], add]\n",
    "    context: str\n",
    "    report: str\n",
    "\n",
    "\n",
    "class ThoughtFormat(BaseModel):\n",
    "    system: str = Field(\n",
    "        description=\"Identified system from the user query.\",\n",
    "    )\n",
    "    plan: str = Field(\n",
    "        description=\"The plan for the system design\",\n",
    "    )\n",
    "\n",
    "class ResourcesFormat(BaseModel):\n",
    "    info: str\n",
    "    url: str\n",
    "    source: str"
   ]
  },
  {
   "cell_type": "markdown",
   "id": "2c122704",
   "metadata": {},
   "source": [
    "### nodes"
   ]
  },
  {
   "cell_type": "code",
   "execution_count": 3,
   "id": "e824c98b",
   "metadata": {},
   "outputs": [],
   "source": [
    "from langchain_core.messages import SystemMessage, HumanMessage, AIMessage\n",
    "from langgraph.checkpoint.memory import MemorySaver\n",
    "\n",
    "memory = MemorySaver()\n",
    "\n",
    "config = {\"configurable\": {\"thread_id\": \"1\"}}"
   ]
  },
  {
   "cell_type": "code",
   "execution_count": 4,
   "id": "3c60a946",
   "metadata": {},
   "outputs": [],
   "source": [
    "system_prompt: str = \"\"\"\n",
    "You are a helpful assistant with an expertise in System Design.\n",
    "Please derive at a system name only from this query: {query}\n",
    "Once we have a system name, lets create a step by step plan to system design guide to propose to the user.\n",
    "\"\"\""
   ]
  },
  {
   "cell_type": "code",
   "execution_count": 5,
   "id": "2a15549a",
   "metadata": {},
   "outputs": [],
   "source": [
    "def thinking_node(state: State):\n",
    "    print('--Thinking node--')\n",
    "    structured_llm = llm.with_structured_output(ThoughtFormat)\n",
    "    system_message = system_prompt.format(query=state['query'])\n",
    "    history = [SystemMessage(content=system_message)]+[HumanMessage(content=state['query'])]\n",
    "    state['messages'] = history\n",
    "    res = structured_llm.invoke(history)\n",
    "    plan = res.plan\n",
    "    return {\n",
    "        'system': res.system,\n",
    "        'plan': plan,\n",
    "        'messages': [AIMessage(content=plan)]\n",
    "    }"
   ]
  },
  {
   "cell_type": "code",
   "execution_count": 6,
   "id": "b9aabd5b",
   "metadata": {},
   "outputs": [],
   "source": [
    "from langchain_tavily import TavilySearch\n",
    "from langchain_core.tools import tool\n",
    "\n",
    "\n",
    "@tool\n",
    "def web_search(query: str) -> str:\n",
    "    \"\"\"Search the web for a query.\"\"\"\n",
    "    tavily_search_tool = TavilySearch(\n",
    "        max_results=3,\n",
    "        topic=\"general\",\n",
    "    )\n",
    "    return tavily_search_tool.invoke(query)\n"
   ]
  },
  {
   "cell_type": "code",
   "execution_count": 7,
   "id": "1eefc580",
   "metadata": {},
   "outputs": [],
   "source": [
    "def gather_resources_node(state: State):\n",
    "    print('--gather_resources_node--')\n",
    "    gather_resources_prompt = f\"\"\"\n",
    "    Given the plan: {state['plan']}, Please search for appropriate resources and list the sources\n",
    "    \"\"\"\n",
    "    res_fmt_tool_llm = llm.bind_tools([web_search]).with_structured_output(ResourcesFormat)\n",
    "    history = state['messages']\n",
    "    history+= [HumanMessage(content=gather_resources_prompt)]\n",
    "    res = res_fmt_tool_llm.invoke(history)\n",
    "    state['messages'] = history\n",
    "    ai_msg = f\"\"\"Info: {res.info}\n",
    "    URL: {res.url}\n",
    "    \"\"\"\n",
    "    print('done')\n",
    "    return {\n",
    "        'sources': [res.source],\n",
    "        'messages': [AIMessage(content=ai_msg)],\n",
    "        'context': f'System under consideration: {state[\"system\"]}' + ai_msg\n",
    "    }"
   ]
  },
  {
   "cell_type": "code",
   "execution_count": 8,
   "id": "b69c74ff",
   "metadata": {},
   "outputs": [],
   "source": [
    "def create_report(state: State):\n",
    "    print('create-report')\n",
    "    llm_with_tools = llm.bind_tools([web_search])\n",
    "    final_report_prompt: str = f\"\"\"You are an expert technical writer. \n",
    "            \n",
    "Your task is to create a short, easily digestible section of a report based on a set of source documents.\n",
    "\n",
    "1. Analyze the content of the source documents: \n",
    "- The name of each source document is at the start of the document, with the <Document tag.\n",
    "        \n",
    "2. Create a report structure using markdown formatting:\n",
    "- Use ## for the section title\n",
    "- Use ### for sub-section headers\n",
    "        \n",
    "3. Write the report following this structure:\n",
    "a. Title (## header)\n",
    "b. Summary (### header)\n",
    "c. Sources (### header)\n",
    "\n",
    "4. Make your title engaging based upon the focus area of the system: \n",
    "{state['system']}\n",
    "\n",
    "5. For the summary section:\n",
    "- Set up summary with general background / context related to the focus area of the system\n",
    "- Emphasize what is novel, interesting, or surprising about insights gathered from the interview\n",
    "- Create a numbered list of source documents, as you use them\n",
    "- Aim for approximately 400 words maximum\n",
    "- Use numbered sources in your report (e.g., [1], [2]) based on information from source documents\n",
    "        \n",
    "6. In the Sources section:\n",
    "- Include all sources used in your report\n",
    "- Provide full links to relevant websites or specific document paths\n",
    "- Separate each source by a newline. Use two spaces at the end of each line to create a newline in Markdown.\n",
    "- It will look like:\n",
    "\n",
    "### Sources\n",
    "[1] Link or Document name\n",
    "[2] Link or Document name\n",
    "\n",
    "7. Be sure to combine sources. For example this is not correct:\n",
    "\n",
    "[3] https://ai.meta.com/blog/meta-llama-3-1/\n",
    "[4] https://ai.meta.com/blog/meta-llama-3-1/\n",
    "\n",
    "There should be no redundant sources. It should simply be:\n",
    "\n",
    "[3] https://ai.meta.com/blog/meta-llama-3-1/\n",
    "        \n",
    "8. Final review:\n",
    "- Ensure the report follows the required structure\n",
    "- Include no preamble before the title of the report\n",
    "- Check that all guidelines have been followed\"\"\"\n",
    "\n",
    "    res = llm_with_tools.invoke([SystemMessage(content=final_report_prompt)]+[HumanMessage(content=f\"Use this source to write final report: {state['context']}\")])\n",
    "    print(res.content)\n",
    "    return {\n",
    "        'report': res.content,\n",
    "        'messages': [AIMessage(content=res.content)]\n",
    "    }"
   ]
  },
  {
   "cell_type": "code",
   "execution_count": 9,
   "id": "2c57525c",
   "metadata": {},
   "outputs": [
    {
     "data": {
      "image/png": "[encoded data removed]",
      "text/plain": [
       "<IPython.core.display.Image object>"
      ]
     },
     "metadata": {},
     "output_type": "display_data"
    }
   ],
   "source": [
    "from IPython.display import Image, display, Markdown\n",
    "from langgraph.graph import StateGraph, START, END\n",
    "from langgraph.prebuilt import ToolNode\n",
    "\n",
    "\n",
    "builder = StateGraph(State)\n",
    "builder.add_node(\"thinking_node\", thinking_node)\n",
    "builder.add_node(\"gather_resources_node\", gather_resources_node)\n",
    "builder.add_node(\"create_report\", create_report)\n",
    "builder.add_edge(START, \"thinking_node\")\n",
    "builder.add_edge(\"thinking_node\", \"gather_resources_node\")\n",
    "\n",
    "builder.add_edge(\"gather_resources_node\", \"create_report\")\n",
    "builder.add_conditional_edges(\n",
    "\t\"gather_resources_node\",\n",
    "\tcreate_report\n",
    ")\n",
    "builder.add_edge(\"create_report\", END)\n",
    "graph = builder.compile(interrupt_before=['gather_resources_node'], checkpointer=memory)\n",
    "\n",
    "display(Image(graph.get_graph().draw_mermaid_png()))"
   ]
  },
  {
   "cell_type": "code",
   "execution_count": 10,
   "id": "ab7ef758",
   "metadata": {},
   "outputs": [
    {
     "name": "stdout",
     "output_type": "stream",
     "text": [
      "{'messages': [], 'query': 'help me designing fb clone', 'sources': []}\n",
      "--Thinking node--\n",
      "==================================\u001b[1m Ai Message \u001b[0m==================================\n",
      "\n",
      "Step-by-step guide to design a Social Media Platform:\n",
      "1.  **Understand Requirements**: Define functional (e.g., user profiles, news feed, friending, messaging, content sharing, likes/comments) and non-functional requirements (e.g., scalability, availability, consistency, performance, security).\n",
      "2.  **High-Level Architecture**: Outline core services (e.g., User Service, Post Service, News Feed Service, Chat Service, Friendship Service, Notification Service) and choose an architectural style (e.g., Microservices).\n",
      "3.  **Data Modeling & Storage**: Design database schemas for different entities (users, posts, comments, messages, friendships). Select appropriate database types (e.g., SQL for user data, NoSQL for posts/feed, Graph DB for connections).\n",
      "4.  **API Design**: Define the APIs for services, considering RESTful or GraphQL approaches.\n",
      "5.  **Core Feature Design (Detailed)**:\n",
      "    *   **User Management**: Registration, authentication, profile management.\n",
      "    *   **News Feed**: Design feed generation (fan-out on write/read) and delivery mechanisms.\n",
      "    *   **Content Sharing**: Handle photo/video uploads, storage (CDN), and retrieval.\n",
      "    *   **Friendship/Connections**: Manage friend requests, connections, and follower graphs.\n",
      "    *   **Messaging/Chat**: Implement real-time communication (e.g., using WebSockets).\n",
      "    *   **Likes/Comments**: Design mechanisms for interactions on posts.\n",
      "6.  **Scalability & Performance**: Implement strategies such as load balancing, caching (e.g., Redis), sharding, message queues (e.g., Kafka) for asynchronous tasks, and CDN for media delivery.\n",
      "7.  **Reliability & Availability**: Plan for redundancy, replication, fault tolerance, and disaster recovery.\n",
      "8.  **Security**: Address authentication (e.g., OAuth2, JWT), authorization, data encryption, and protection against common web vulnerabilities.\n",
      "9.  **Monitoring & Deployment**: Outline monitoring strategies, logging, CI/CD pipelines, containerization (Docker, Kubernetes), and cloud infrastructure considerations.\n"
     ]
    },
    {
     "data": {
      "text/markdown": [
       "Step-by-step guide to design a Social Media Platform:\n",
       "1.  **Understand Requirements**: Define functional (e.g., user profiles, news feed, friending, messaging, content sharing, likes/comments) and non-functional requirements (e.g., scalability, availability, consistency, performance, security).\n",
       "2.  **High-Level Architecture**: Outline core services (e.g., User Service, Post Service, News Feed Service, Chat Service, Friendship Service, Notification Service) and choose an architectural style (e.g., Microservices).\n",
       "3.  **Data Modeling & Storage**: Design database schemas for different entities (users, posts, comments, messages, friendships). Select appropriate database types (e.g., SQL for user data, NoSQL for posts/feed, Graph DB for connections).\n",
       "4.  **API Design**: Define the APIs for services, considering RESTful or GraphQL approaches.\n",
       "5.  **Core Feature Design (Detailed)**:\n",
       "    *   **User Management**: Registration, authentication, profile management.\n",
       "    *   **News Feed**: Design feed generation (fan-out on write/read) and delivery mechanisms.\n",
       "    *   **Content Sharing**: Handle photo/video uploads, storage (CDN), and retrieval.\n",
       "    *   **Friendship/Connections**: Manage friend requests, connections, and follower graphs.\n",
       "    *   **Messaging/Chat**: Implement real-time communication (e.g., using WebSockets).\n",
       "    *   **Likes/Comments**: Design mechanisms for interactions on posts.\n",
       "6.  **Scalability & Performance**: Implement strategies such as load balancing, caching (e.g., Redis), sharding, message queues (e.g., Kafka) for asynchronous tasks, and CDN for media delivery.\n",
       "7.  **Reliability & Availability**: Plan for redundancy, replication, fault tolerance, and disaster recovery.\n",
       "8.  **Security**: Address authentication (e.g., OAuth2, JWT), authorization, data encryption, and protection against common web vulnerabilities.\n",
       "9.  **Monitoring & Deployment**: Outline monitoring strategies, logging, CI/CD pipelines, containerization (Docker, Kubernetes), and cloud infrastructure considerations."
      ],
      "text/plain": [
       "<IPython.core.display.Markdown object>"
      ]
     },
     "execution_count": 10,
     "metadata": {},
     "output_type": "execute_result"
    }
   ],
   "source": [
    "query='help me designing fb clone'\n",
    "\n",
    "async for event in graph.astream({'query': query}, config=config, stream_mode='values'):\n",
    "    if event['messages']:\n",
    "        event['messages'][-1].pretty_print()\n",
    "    else:\n",
    "        print(event)\n",
    "Markdown(graph.get_state(config).values['plan'])"
   ]
  },
  {
   "cell_type": "code",
   "execution_count": 11,
   "id": "4b0a2792",
   "metadata": {},
   "outputs": [
    {
     "name": "stdout",
     "output_type": "stream",
     "text": [
      "==================================\u001b[1m Ai Message \u001b[0m==================================\n",
      "\n",
      "Step-by-step guide to design a Social Media Platform:\n",
      "1.  **Understand Requirements**: Define functional (e.g., user profiles, news feed, friending, messaging, content sharing, likes/comments) and non-functional requirements (e.g., scalability, availability, consistency, performance, security).\n",
      "2.  **High-Level Architecture**: Outline core services (e.g., User Service, Post Service, News Feed Service, Chat Service, Friendship Service, Notification Service) and choose an architectural style (e.g., Microservices).\n",
      "3.  **Data Modeling & Storage**: Design database schemas for different entities (users, posts, comments, messages, friendships). Select appropriate database types (e.g., SQL for user data, NoSQL for posts/feed, Graph DB for connections).\n",
      "4.  **API Design**: Define the APIs for services, considering RESTful or GraphQL approaches.\n",
      "5.  **Core Feature Design (Detailed)**:\n",
      "    *   **User Management**: Registration, authentication, profile management.\n",
      "    *   **News Feed**: Design feed generation (fan-out on write/read) and delivery mechanisms.\n",
      "    *   **Content Sharing**: Handle photo/video uploads, storage (CDN), and retrieval.\n",
      "    *   **Friendship/Connections**: Manage friend requests, connections, and follower graphs.\n",
      "    *   **Messaging/Chat**: Implement real-time communication (e.g., using WebSockets).\n",
      "    *   **Likes/Comments**: Design mechanisms for interactions on posts.\n",
      "6.  **Scalability & Performance**: Implement strategies such as load balancing, caching (e.g., Redis), sharding, message queues (e.g., Kafka) for asynchronous tasks, and CDN for media delivery.\n",
      "7.  **Reliability & Availability**: Plan for redundancy, replication, fault tolerance, and disaster recovery.\n",
      "8.  **Security**: Address authentication (e.g., OAuth2, JWT), authorization, data encryption, and protection against common web vulnerabilities.\n",
      "9.  **Monitoring & Deployment**: Outline monitoring strategies, logging, CI/CD pipelines, containerization (Docker, Kubernetes), and cloud infrastructure considerations.\n",
      "--gather_resources_node--\n",
      "done\n",
      "create-report\n"
     ]
    },
    {
     "name": "stderr",
     "output_type": "stream",
     "text": [
      "Task gather_resources_node with path ('__pregel_pull', 'gather_resources_node') wrote to unknown channel branch:to:{'report': '## Building a Blazing Fast Social Media Feed: A Deep Dive into Scalability\\n\\n### Summary\\nThe backbone of any successful social media platform is its feed, a dynamic and constantly updated stream of content tailored to each user. Designing a scalable and responsive social media feed presents unique technical challenges, particularly as user bases grow into the millions or even billions. The core objective is to deliver relevant content quickly and efficiently, a task that necessitates sophisticated architectural choices beyond simple database queries.\\n\\nA key design consideration revolves around the \"fan-out\" mechanism, which dictates how content is distributed to users. Two primary strategies emerge: fan-out on write and fan-out on read [1]. Fan-out on write, often employed for smaller user bases or when immediate delivery is paramount, involves pushing new content directly to all followers\\' inboxes upon creation. While ensuring low read latency, this approach can become resource-intensive and prone to bottlenecks as the number of followers per user increases. Conversely, fan-out on read, more suitable for platforms with a large number of followers per user, involves dynamically fetching content from various sources when a user requests their feed. This shifts the computational burden from write-time to read-time, requiring efficient retrieval and aggregation.\\n\\nCaching plays a crucial role in enhancing performance for both fan-out strategies. By storing frequently accessed data in high-speed memory, caching significantly reduces the need to hit the primary database, thereby decreasing latency and improving throughput [1]. This is particularly vital for social media feeds, where a small subset of content might be viewed by millions of users.\\n\\nFinally, ranking algorithms are indispensable for personalizing the feed experience. Beyond simply displaying content in chronological order, sophisticated algorithms analyze user engagement, content relevance, and various other signals to determine the optimal order of posts. This ensures users see the most engaging and pertinent content first, improving overall platform stickiness and user satisfaction [1]. The interplay of these design elements—fan-out strategy, robust caching, and intelligent ranking—is critical for building a social media feed that is not only scalable but also delivers a seamless and engaging user experience.\\n\\n### Sources\\n[1] https://blog.bytebytego.com/p/how-to-design-a-social-media-feed', 'messages': [AIMessage(content='## Building a Blazing Fast Social Media Feed: A Deep Dive into Scalability\\n\\n### Summary\\nThe backbone of any successful social media platform is its feed, a dynamic and constantly updated stream of content tailored to each user. Designing a scalable and responsive social media feed presents unique technical challenges, particularly as user bases grow into the millions or even billions. The core objective is to deliver relevant content quickly and efficiently, a task that necessitates sophisticated architectural choices beyond simple database queries.\\n\\nA key design consideration revolves around the \"fan-out\" mechanism, which dictates how content is distributed to users. Two primary strategies emerge: fan-out on write and fan-out on read [1]. Fan-out on write, often employed for smaller user bases or when immediate delivery is paramount, involves pushing new content directly to all followers\\' inboxes upon creation. While ensuring low read latency, this approach can become resource-intensive and prone to bottlenecks as the number of followers per user increases. Conversely, fan-out on read, more suitable for platforms with a large number of followers per user, involves dynamically fetching content from various sources when a user requests their feed. This shifts the computational burden from write-time to read-time, requiring efficient retrieval and aggregation.\\n\\nCaching plays a crucial role in enhancing performance for both fan-out strategies. By storing frequently accessed data in high-speed memory, caching significantly reduces the need to hit the primary database, thereby decreasing latency and improving throughput [1]. This is particularly vital for social media feeds, where a small subset of content might be viewed by millions of users.\\n\\nFinally, ranking algorithms are indispensable for personalizing the feed experience. Beyond simply displaying content in chronological order, sophisticated algorithms analyze user engagement, content relevance, and various other signals to determine the optimal order of posts. This ensures users see the most engaging and pertinent content first, improving overall platform stickiness and user satisfaction [1]. The interplay of these design elements—fan-out strategy, robust caching, and intelligent ranking—is critical for building a social media feed that is not only scalable but also delivers a seamless and engaging user experience.\\n\\n### Sources\\n[1] https://blog.bytebytego.com/p/how-to-design-a-social-media-feed', additional_kwargs={}, response_metadata={})]}, ignoring it.\n"
     ]
    },
    {
     "name": "stdout",
     "output_type": "stream",
     "text": [
      "## Building a Blazing Fast Social Media Feed: A Deep Dive into Scalability\n",
      "\n",
      "### Summary\n",
      "The backbone of any successful social media platform is its feed, a dynamic and constantly updated stream of content tailored to each user. Designing a scalable and responsive social media feed presents unique technical challenges, particularly as user bases grow into the millions or even billions. The core objective is to deliver relevant content quickly and efficiently, a task that necessitates sophisticated architectural choices beyond simple database queries.\n",
      "\n",
      "A key design consideration revolves around the \"fan-out\" mechanism, which dictates how content is distributed to users. Two primary strategies emerge: fan-out on write and fan-out on read [1]. Fan-out on write, often employed for smaller user bases or when immediate delivery is paramount, involves pushing new content directly to all followers' inboxes upon creation. While ensuring low read latency, this approach can become resource-intensive and prone to bottlenecks as the number of followers per user increases. Conversely, fan-out on read, more suitable for platforms with a large number of followers per user, involves dynamically fetching content from various sources when a user requests their feed. This shifts the computational burden from write-time to read-time, requiring efficient retrieval and aggregation.\n",
      "\n",
      "Caching plays a crucial role in enhancing performance for both fan-out strategies. By storing frequently accessed data in high-speed memory, caching significantly reduces the need to hit the primary database, thereby decreasing latency and improving throughput [1]. This is particularly vital for social media feeds, where a small subset of content might be viewed by millions of users.\n",
      "\n",
      "Finally, ranking algorithms are indispensable for personalizing the feed experience. Beyond simply displaying content in chronological order, sophisticated algorithms analyze user engagement, content relevance, and various other signals to determine the optimal order of posts. This ensures users see the most engaging and pertinent content first, improving overall platform stickiness and user satisfaction [1]. The interplay of these design elements—fan-out strategy, robust caching, and intelligent ranking—is critical for building a social media feed that is not only scalable but also delivers a seamless and engaging user experience.\n",
      "\n",
      "### Sources\n",
      "[1] https://blog.bytebytego.com/p/how-to-design-a-social-media-feed\n",
      "==================================\u001b[1m Ai Message \u001b[0m==================================\n",
      "\n",
      "Info: Comprehensive guide on designing a scalable social media feed, covering fan-out on write/read, caching, and ranking algorithms.\n",
      "    URL: https://blog.bytebytego.com/p/how-to-design-a-social-media-feed\n",
      "create-report\n",
      "## Architecting the Future of Social Media: Designing Scalable Feeds\n",
      "\n",
      "### Summary\n",
      "In the dynamic landscape of social media, the user's feed is the cornerstone of engagement, serving as the primary interface for content consumption. As platforms scale to accommodate millions, or even billions, of users and posts, the underlying architecture of this feed becomes incredibly complex and critical to performance. The challenge lies in delivering a personalized, up-to-date, and highly available stream of content efficiently, a task that demands sophisticated design choices [1].\n",
      "\n",
      "One of the most interesting and often counter-intuitive insights in social media feed design revolves around the fan-out strategy. Traditionally, one might assume a \"fan-out on read\" approach, where a user's feed is constructed dynamically by querying all their friends' posts at the moment they open the app. While simpler for smaller systems, this becomes prohibitively expensive and slow at scale. The more novel and widely adopted approach for large social media platforms is \"fan-out on write\" [1]. This involves pre-generating and pushing content to users' individual inboxes (or feeds) as soon as it's posted. For instance, when a user posts an update, that update is immediately written to the feeds of all their followers. This shifts the computational burden from read-time to write-time, ensuring lightning-fast feed loading for the end-user, even if it means more complex write operations for the system.\n",
      "\n",
      "However, a pure fan-out on write strategy can be inefficient for users with an extremely high number of followers (e.g., celebrities), leading to massive write amplification. This is where a hybrid approach, combining fan-out on write for most users and fan-out on read for high-follower accounts, becomes essential [1]. Caching is another pivotal element, dramatically reducing database load by storing frequently accessed data closer to the user. Furthermore, advanced ranking algorithms are crucial not just for showing content, but for curating the most relevant and engaging content, ensuring users see what matters most to them amidst a deluge of information [1]. These combined strategies represent a sophisticated engineering feat, enabling the seamless and personalized social media experiences we've come to expect.\n",
      "\n",
      "### Sources\n",
      "[1] https://blog.bytebytego.com/p/how-to-design-a-social-media-feed\n",
      "==================================\u001b[1m Ai Message \u001b[0m==================================\n",
      "\n",
      "## Architecting the Future of Social Media: Designing Scalable Feeds\n",
      "\n",
      "### Summary\n",
      "In the dynamic landscape of social media, the user's feed is the cornerstone of engagement, serving as the primary interface for content consumption. As platforms scale to accommodate millions, or even billions, of users and posts, the underlying architecture of this feed becomes incredibly complex and critical to performance. The challenge lies in delivering a personalized, up-to-date, and highly available stream of content efficiently, a task that demands sophisticated design choices [1].\n",
      "\n",
      "One of the most interesting and often counter-intuitive insights in social media feed design revolves around the fan-out strategy. Traditionally, one might assume a \"fan-out on read\" approach, where a user's feed is constructed dynamically by querying all their friends' posts at the moment they open the app. While simpler for smaller systems, this becomes prohibitively expensive and slow at scale. The more novel and widely adopted approach for large social media platforms is \"fan-out on write\" [1]. This involves pre-generating and pushing content to users' individual inboxes (or feeds) as soon as it's posted. For instance, when a user posts an update, that update is immediately written to the feeds of all their followers. This shifts the computational burden from read-time to write-time, ensuring lightning-fast feed loading for the end-user, even if it means more complex write operations for the system.\n",
      "\n",
      "However, a pure fan-out on write strategy can be inefficient for users with an extremely high number of followers (e.g., celebrities), leading to massive write amplification. This is where a hybrid approach, combining fan-out on write for most users and fan-out on read for high-follower accounts, becomes essential [1]. Caching is another pivotal element, dramatically reducing database load by storing frequently accessed data closer to the user. Furthermore, advanced ranking algorithms are crucial not just for showing content, but for curating the most relevant and engaging content, ensuring users see what matters most to them amidst a deluge of information [1]. These combined strategies represent a sophisticated engineering feat, enabling the seamless and personalized social media experiences we've come to expect.\n",
      "\n",
      "### Sources\n",
      "[1] https://blog.bytebytego.com/p/how-to-design-a-social-media-feed\n"
     ]
    }
   ],
   "source": [
    "shall_we_proceed = input(\"Shall we proceed with the plan): \")\n",
    "\n",
    "if shall_we_proceed == \"yes\":\n",
    "    async for event in graph.astream(None, config=config, stream_mode='values'):\n",
    "        if event['messages']:\n",
    "            event['messages'][-1].pretty_print()\n",
    "        else:\n",
    "            print(event)"
   ]
  },
  {
   "cell_type": "markdown",
   "id": "70176d43",
   "metadata": {},
   "source": [
    "### final_report"
   ]
  },
  {
   "cell_type": "code",
   "execution_count": 15,
   "id": "dbca2880",
   "metadata": {},
   "outputs": [
    {
     "data": {
      "text/markdown": [
       "## Architecting the Future of Social Media: Designing Scalable Feeds\n",
       "\n",
       "### Summary\n",
       "In the dynamic landscape of social media, the user's feed is the cornerstone of engagement, serving as the primary interface for content consumption. As platforms scale to accommodate millions, or even billions, of users and posts, the underlying architecture of this feed becomes incredibly complex and critical to performance. The challenge lies in delivering a personalized, up-to-date, and highly available stream of content efficiently, a task that demands sophisticated design choices [1].\n",
       "\n",
       "One of the most interesting and often counter-intuitive insights in social media feed design revolves around the fan-out strategy. Traditionally, one might assume a \"fan-out on read\" approach, where a user's feed is constructed dynamically by querying all their friends' posts at the moment they open the app. While simpler for smaller systems, this becomes prohibitively expensive and slow at scale. The more novel and widely adopted approach for large social media platforms is \"fan-out on write\" [1]. This involves pre-generating and pushing content to users' individual inboxes (or feeds) as soon as it's posted. For instance, when a user posts an update, that update is immediately written to the feeds of all their followers. This shifts the computational burden from read-time to write-time, ensuring lightning-fast feed loading for the end-user, even if it means more complex write operations for the system.\n",
       "\n",
       "However, a pure fan-out on write strategy can be inefficient for users with an extremely high number of followers (e.g., celebrities), leading to massive write amplification. This is where a hybrid approach, combining fan-out on write for most users and fan-out on read for high-follower accounts, becomes essential [1]. Caching is another pivotal element, dramatically reducing database load by storing frequently accessed data closer to the user. Furthermore, advanced ranking algorithms are crucial not just for showing content, but for curating the most relevant and engaging content, ensuring users see what matters most to them amidst a deluge of information [1]. These combined strategies represent a sophisticated engineering feat, enabling the seamless and personalized social media experiences we've come to expect.\n",
       "\n",
       "### Sources\n",
       "[1] https://blog.bytebytego.com/p/how-to-design-a-social-media-feed"
      ],
      "text/plain": [
       "<IPython.core.display.Markdown object>"
      ]
     },
     "execution_count": 15,
     "metadata": {},
     "output_type": "execute_result"
    }
   ],
   "source": [
    "Markdown(graph.get_state(config).values['report'])"
   ]
  }
 ],
 "metadata": {
  "kernelspec": {
   "display_name": "lc-academy-env",
   "language": "python",
   "name": "python3"
  },
  "language_info": {
   "codemirror_mode": {
    "name": "ipython",
    "version": 3
   },
   "file_extension": ".py",
   "mimetype": "text/x-python",
   "name": "python",
   "nbconvert_exporter": "python",
   "pygments_lexer": "ipython3",
   "version": "3.11.5"
  }
 },
 "nbformat": 4,
 "nbformat_minor": 5
}
