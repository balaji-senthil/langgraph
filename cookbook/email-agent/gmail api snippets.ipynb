{
 "cells": [
  {
   "cell_type": "markdown",
   "id": "405dbf7b",
   "metadata": {},
   "source": [
    "# Gmail API"
   ]
  },
  {
   "cell_type": "code",
   "execution_count": 2,
   "id": "da523631",
   "metadata": {},
   "outputs": [
    {
     "name": "stdout",
     "output_type": "stream",
     "text": [
      "\n",
      "\u001b[1m[\u001b[0m\u001b[34;49mnotice\u001b[0m\u001b[1;39;49m]\u001b[0m\u001b[39;49m A new release of pip is available: \u001b[0m\u001b[31;49m23.2.1\u001b[0m\u001b[39;49m -> \u001b[0m\u001b[32;49m25.2\u001b[0m\n",
      "\u001b[1m[\u001b[0m\u001b[34;49mnotice\u001b[0m\u001b[1;39;49m]\u001b[0m\u001b[39;49m To update, run: \u001b[0m\u001b[32;49mpip install --upgrade pip\u001b[0m\n",
      "Note: you may need to restart the kernel to use updated packages.\n"
     ]
    }
   ],
   "source": [
    "%pip install -q --upgrade google-api-python-client google-auth-httplib2 google-auth-oauthlib\n"
   ]
  },
  {
   "cell_type": "markdown",
   "id": "dd35a458",
   "metadata": {},
   "source": [
    "### Service setup"
   ]
  },
  {
   "cell_type": "code",
   "execution_count": 1,
   "id": "cf141192",
   "metadata": {},
   "outputs": [],
   "source": [
    "import os\n",
    "from google.oauth2.credentials import Credentials\n",
    "from google_auth_oauthlib.flow import InstalledAppFlow\n",
    "from google.auth.transport.requests import Request\n",
    "from googleapiclient.discovery import build\n",
    "import base64"
   ]
  },
  {
   "cell_type": "code",
   "execution_count": 5,
   "id": "bddb513f",
   "metadata": {},
   "outputs": [],
   "source": [
    "\n",
    "# If modifying these SCOPES, delete the file token.json\n",
    "SCOPES = ['https://www.googleapis.com/auth/gmail.modify']\n",
    "\n",
    "def gmail_authenticate():\n",
    "    creds = None\n",
    "    if os.path.exists('token.json'):\n",
    "        creds = Credentials.from_authorized_user_file('token.json', SCOPES)\n",
    "    if not creds or not creds.valid:\n",
    "        if creds and creds.expired and creds.refresh_token:\n",
    "            creds.refresh(Request())\n",
    "        else:\n",
    "            flow = InstalledAppFlow.from_client_secrets_file('credentials.json', SCOPES)\n",
    "            creds = flow.run_local_server(port=0)\n",
    "        with open('token.json', 'w') as token:\n",
    "            token.write(creds.to_json())\n",
    "    return build('gmail', 'v1', credentials=creds)\n",
    "\n",
    "service = gmail_authenticate()\n"
   ]
  },
  {
   "cell_type": "markdown",
   "id": "08c6cc6a",
   "metadata": {},
   "source": [
    "### Get unread messages"
   ]
  },
  {
   "cell_type": "code",
   "execution_count": 13,
   "id": "d8683952",
   "metadata": {},
   "outputs": [],
   "source": [
    "def get_unread_messages(service, max_results=10, count_only=False):\n",
    "    \"\"\"\n",
    "    Get unread messages from Gmail.\n",
    "\n",
    "    Args:\n",
    "      service: Authorized Gmail API service instance.\n",
    "      max_results: Maximum number of messages to retrieve (ignored if count_only is True).\n",
    "      count_only: If True, return only the count of unread messages.\n",
    "\n",
    "    Returns:\n",
    "      If count_only is True: integer count of unread messages.\n",
    "      Else: list of dicts of unread messages with keys: 'id', 'subject', 'from', 'date, 'snippet'.\n",
    "    \"\"\"\n",
    "    results = service.users().messages().list(\n",
    "        userId='me',\n",
    "        labelIds=['UNREAD'],\n",
    "        maxResults=max_results if not count_only else None\n",
    "    ).execute()\n",
    "\n",
    "    messages = results.get('messages', [])\n",
    "    if count_only:\n",
    "        # Return total unread message count\n",
    "        # If there are more than maxResults, 'resultSizeEstimate' gives accurate count\n",
    "        count = results.get('resultSizeEstimate', len(messages))\n",
    "        return count\n",
    "\n",
    "    unread_details = []\n",
    "    for msg in messages:\n",
    "        msg_detail = service.users().messages().get(userId='me', id=msg['id'], format='metadata', metadataHeaders=['Subject', 'From', 'Date']).execute()\n",
    "        headers = msg_detail.get('payload', {}).get('headers', [])\n",
    "        subject = next((h['value'] for h in headers if h['name'] == 'Subject'), '')\n",
    "        sender = next((h['value'] for h in headers if h['name'] == 'From'), '')\n",
    "        date = next((h['value'] for h in headers if h['name']== 'Date'), '')\n",
    "        snippet = msg_detail.get('snippet', '')\n",
    "        unread_details.append({\n",
    "            'id': msg['id'],\n",
    "            'subject': subject,\n",
    "            'from': sender,\n",
    "            'date': date,\n",
    "            'snippet': snippet\n",
    "        })\n",
    "    return unread_details\n"
   ]
  },
  {
   "cell_type": "code",
   "execution_count": null,
   "id": "fc3fa164",
   "metadata": {},
   "outputs": [],
   "source": [
    "get_unread_messages(service, max_results=3)"
   ]
  },
  {
   "cell_type": "code",
   "execution_count": 14,
   "id": "920171cb",
   "metadata": {},
   "outputs": [
    {
     "data": {
      "text/plain": [
       "201"
      ]
     },
     "execution_count": 14,
     "metadata": {},
     "output_type": "execute_result"
    }
   ],
   "source": [
    "get_unread_messages(service, count_only=True)"
   ]
  },
  {
   "cell_type": "markdown",
   "id": "7efd7d5b",
   "metadata": {},
   "source": [
    "### Create draft"
   ]
  },
  {
   "cell_type": "code",
   "execution_count": null,
   "id": "93cc2294",
   "metadata": {},
   "outputs": [],
   "source": [
    "import base64\n",
    "from email.message import EmailMessage\n",
    "\n",
    "def create_draft(service, to, subject, message_text):\n",
    "    message = EmailMessage()\n",
    "    message.set_content(message_text)\n",
    "    message['To'] = to\n",
    "    message['From'] = 'me'\n",
    "    message['Subject'] = subject\n",
    "\n",
    "    raw_message = base64.urlsafe_b64encode(message.as_bytes()).decode()\n",
    "    draft_body = {'message': {'raw': raw_message}}\n",
    "    draft = service.users().drafts().create(userId='me', body=draft_body).execute()\n",
    "    return draft\n"
   ]
  },
  {
   "cell_type": "code",
   "execution_count": null,
   "id": "b6207886",
   "metadata": {},
   "outputs": [],
   "source": [
    "create_draft(service, 'a@foodotcom', 'test draft', 'hello, world!')"
   ]
  },
  {
   "cell_type": "markdown",
   "id": "99300325",
   "metadata": {},
   "source": [
    "### Send Message"
   ]
  },
  {
   "cell_type": "code",
   "execution_count": null,
   "id": "a773d13c",
   "metadata": {},
   "outputs": [],
   "source": [
    "import base64\n",
    "from email.mime.text import MIMEText\n",
    "from googleapiclient.errors import HttpError\n",
    "\n",
    "def send_message(service, to, subject, message_text):\n",
    "    \"\"\"Send an email message using Gmail API.\n",
    "\n",
    "    Args:\n",
    "      service: Authorized Gmail API service instance.\n",
    "      to: Recipient email address as string.\n",
    "      subject: Subject of the email.\n",
    "      message_text: Body text of the email.\n",
    "\n",
    "    Returns:\n",
    "      Sent message object on success, None on failure.\n",
    "    \"\"\"\n",
    "    try:\n",
    "        message = MIMEText(message_text)\n",
    "        message['to'] = to\n",
    "        message['from'] = 'me'\n",
    "        message['subject'] = subject\n",
    "        \n",
    "        # Encode message in base64url format required by Gmail API\n",
    "        raw_message = base64.urlsafe_b64encode(message.as_bytes()).decode()\n",
    "        body = {'raw': raw_message}\n",
    "        \n",
    "        # Call the Gmail API to send the message\n",
    "        sent_message = service.users().messages().send(userId='me', body=body).execute()\n",
    "        print(f\"Message sent successfully, ID: {sent_message['id']}\")\n",
    "        return sent_message\n",
    "\n",
    "    except HttpError as error:\n",
    "        print(f\"An error occurred: {error}\")\n",
    "        return None\n"
   ]
  },
  {
   "cell_type": "code",
   "execution_count": null,
   "id": "945df86e",
   "metadata": {},
   "outputs": [
    {
     "name": "stdout",
     "output_type": "stream",
     "text": [
      "Message sent successfully, ID: 19897038947a15cd\n"
     ]
    },
    {
     "data": {
      "text/plain": [
       "{'id': '19897038947a15cd',\n",
       " 'threadId': '19897038947a15cd',\n",
       " 'labelIds': ['SENT']}"
      ]
     },
     "execution_count": 50,
     "metadata": {},
     "output_type": "execute_result"
    }
   ],
   "source": [
    "send_message(service, 'a@foodot.com', 'test', 'hello, world!')"
   ]
  },
  {
   "cell_type": "markdown",
   "id": "d6163fbb",
   "metadata": {},
   "source": [
    "### Read message - with message id"
   ]
  },
  {
   "cell_type": "code",
   "execution_count": 17,
   "id": "f3f7291d",
   "metadata": {},
   "outputs": [],
   "source": [
    "import base64\n",
    "def read_message_by_id(service, message_id):\n",
    "    message = service.users().messages().get(userId='me', id=message_id, format='full').execute()\n",
    "    payload = message.get('payload', {})\n",
    "    headers = payload.get('headers', [])\n",
    "    subject = next((header['value'] for header in headers if header['name'] == 'Subject'), '')\n",
    "    date = next((header['value'] for header in headers if header['name'] == 'Date'), '')\n",
    "    from_ = next((header['value'] for header in headers if header['name'] == 'From'), '')\n",
    "    to = next((header['value'] for header in headers if header['name'] == 'To'), '')\n",
    "    snippet = message.get('snippet')\n",
    "    # To get the body, decode 'parts' if multipart, else decode 'body'\n",
    "    body = ''\n",
    "    if 'parts' in payload:\n",
    "        for part in payload['parts']:\n",
    "            if part['mimeType'] == 'text/plain':\n",
    "                body = base64.urlsafe_b64decode(part['body']['data']).decode('utf-8')\n",
    "    elif 'body' in payload and 'data' in payload['body']:\n",
    "        body = base64.urlsafe_b64decode(payload['body']['data']).decode('utf-8')\n",
    "    return {'subject': subject, 'snippet': snippet, 'body': body, 'date': date, 'from': from_, 'to': to}\n"
   ]
  },
  {
   "cell_type": "code",
   "execution_count": null,
   "id": "3aec6f35",
   "metadata": {},
   "outputs": [],
   "source": [
    "read_message_by_id(service, '1989704dda818adb')"
   ]
  }
 ],
 "metadata": {
  "kernelspec": {
   "display_name": "lc-academy-env",
   "language": "python",
   "name": "python3"
  },
  "language_info": {
   "codemirror_mode": {
    "name": "ipython",
    "version": 3
   },
   "file_extension": ".py",
   "mimetype": "text/x-python",
   "name": "python",
   "nbconvert_exporter": "python",
   "pygments_lexer": "ipython3",
   "version": "3.11.5"
  }
 },
 "nbformat": 4,
 "nbformat_minor": 5
}
