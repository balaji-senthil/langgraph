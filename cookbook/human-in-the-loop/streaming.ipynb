{
 "cells": [
  {
   "cell_type": "markdown",
   "id": "7c2febc4",
   "metadata": {},
   "source": [
    "# LangGraph Human In the Loop: \n",
    "## a. Streaming"
   ]
  },
  {
   "cell_type": "markdown",
   "id": "fedddeb7",
   "metadata": {},
   "source": [
    "### llm"
   ]
  },
  {
   "cell_type": "code",
   "execution_count": 1,
   "id": "6a0ae2cc",
   "metadata": {},
   "outputs": [],
   "source": [
    "from dotenv import load_dotenv\n",
    "from langchain_google_genai import ChatGoogleGenerativeAI\n",
    "load_dotenv()\n",
    "\n",
    "llm = ChatGoogleGenerativeAI(model='gemini-2.0-flash',temperature=0)\n"
   ]
  },
  {
   "cell_type": "markdown",
   "id": "a67d368c",
   "metadata": {},
   "source": [
    "### State - Message from Langchain"
   ]
  },
  {
   "cell_type": "code",
   "execution_count": 2,
   "id": "15e78631",
   "metadata": {},
   "outputs": [
    {
     "name": "stdout",
     "output_type": "stream",
     "text": [
      "==================================\u001b[1m Ai Message \u001b[0m==================================\n",
      "Name: Gemini\n",
      "\n",
      "Did you watch the game on 2024 IPL Final?\n",
      "================================\u001b[1m Human Message \u001b[0m=================================\n",
      "Name: Alice\n",
      "\n",
      "Not ringing a bell. Can you tell me what happened?\n"
     ]
    }
   ],
   "source": [
    "\n",
    "from langchain_core.messages import AnyMessage, HumanMessage, AIMessage, trim_messages\n",
    "\n",
    "from langgraph.graph.message import add_messages, RemoveMessage\n",
    "\n",
    "messages = [AIMessage(f\"Did you watch the game on 2024 IPL Final?\", name=\"Gemini\")]\n",
    "messages.append(HumanMessage(f\"Not ringing a bell. Can you tell me what happened?\", name=\"Alice\"))\n",
    "\n",
    "for m in messages:\n",
    "\tm.pretty_print()"
   ]
  },
  {
   "cell_type": "code",
   "execution_count": 3,
   "id": "3a51592e",
   "metadata": {},
   "outputs": [
    {
     "data": {
      "text/plain": [
       "AIMessage(content='The Kolkata Knight Riders (KKR) defeated the Sunrisers Hyderabad (SRH) in the 2024 IPL final. KKR dominated the match, winning by 8 wickets. It was a pretty one-sided affair.', additional_kwargs={}, response_metadata={'prompt_feedback': {'block_reason': 0, 'safety_ratings': []}, 'finish_reason': 'STOP', 'model_name': 'gemini-2.0-flash', 'safety_ratings': []}, id='run--f787054f-44cf-40f7-996c-c289243f17f9-0', usage_metadata={'input_tokens': 26, 'output_tokens': 50, 'total_tokens': 76, 'input_token_details': {'cache_read': 0}})"
      ]
     },
     "execution_count": 3,
     "metadata": {},
     "output_type": "execute_result"
    }
   ],
   "source": [
    "llm.invoke(messages)"
   ]
  },
  {
   "cell_type": "markdown",
   "id": "37341e98",
   "metadata": {},
   "source": [
    "### Memory management - Adding memory and managing context window - summarization"
   ]
  },
  {
   "cell_type": "code",
   "execution_count": 4,
   "id": "e2fa236f",
   "metadata": {},
   "outputs": [],
   "source": [
    "from typing import TypedDict\n",
    "from langchain_core.messages import AnyMessage, HumanMessage, AIMessage, SystemMessage\n",
    "\n",
    "from langgraph.graph import MessagesState\n",
    "class State(MessagesState):\n",
    "    summary: str"
   ]
  },
  {
   "cell_type": "code",
   "execution_count": 5,
   "id": "286bd64f",
   "metadata": {},
   "outputs": [],
   "source": [
    "from langchain_core.messages import SystemMessage, HumanMessage, RemoveMessage\n",
    "\n",
    "\n",
    "def chat_node(state: State):\n",
    "    summary = state.get(\"summary\", \"\")\n",
    "\n",
    "    if summary:\n",
    "        system_message = f\"Summary of our conversation earlier: {summary}\"\n",
    "        messages = [SystemMessage(content=system_message)] + state[\"messages\"]\n",
    "    \n",
    "    else:\n",
    "        messages = state[\"messages\"]\n",
    "    \n",
    "    response = llm.invoke(messages)\n",
    "    return {\"messages\": response}\n",
    "\n"
   ]
  },
  {
   "cell_type": "code",
   "execution_count": 6,
   "id": "85f463a1",
   "metadata": {},
   "outputs": [],
   "source": [
    "def summarize_conversation(state: State):\n",
    "    summary = state.get('summary', '')\n",
    "\n",
    "    if summary:\n",
    "        print(\"Updating summary\")\n",
    "        summary_msg = HumanMessage(\n",
    "            content=f\"This is the summary of our conversation: {summary}\"\n",
    "        )\n",
    "    else:\n",
    "        print(\"Creating summary\")\n",
    "        summary_msg = HumanMessage(\n",
    "            content=\"Create a summary of the above conversation: \"\n",
    "        )\n",
    "    all_msgs = state['messages']\n",
    "    messages = all_msgs + [summary_msg]\n",
    "    res = llm.invoke(messages)\n",
    "    return {\n",
    "        'summary': res.content,\n",
    "        'messages': [RemoveMessage(id=m.id) for m in all_msgs[:-2]]\n",
    "    }"
   ]
  },
  {
   "cell_type": "code",
   "execution_count": 7,
   "id": "a2ea7f20",
   "metadata": {},
   "outputs": [],
   "source": [
    "from langgraph.graph import END\n",
    "def should_continue(state: MessagesState):\n",
    "    \n",
    "    \"\"\"Return the next node to execute.\"\"\"\n",
    "    \n",
    "    messages = state[\"messages\"]\n",
    "    \n",
    "    # If there are more than six messages, then we summarize the conversation\n",
    "    if len(messages) > 4:\n",
    "        return \"summarize_conversation\"\n",
    "    \n",
    "    # Otherwise we can just end\n",
    "    return END"
   ]
  },
  {
   "cell_type": "code",
   "execution_count": 8,
   "id": "5193dcee",
   "metadata": {},
   "outputs": [
    {
     "data": {
      "image/png": "[encoded data removed]",
      "text/plain": [
       "<IPython.core.display.Image object>"
      ]
     },
     "metadata": {},
     "output_type": "display_data"
    }
   ],
   "source": [
    "from IPython.display import Image, display\n",
    "from langgraph.checkpoint.memory import MemorySaver\n",
    "from langgraph.graph import StateGraph, START\n",
    "\n",
    "# Define a new graph\n",
    "workflow = StateGraph(State)\n",
    "workflow.add_node(\"chat_node\", chat_node)\n",
    "workflow.add_node(\"summarize_conversation\", summarize_conversation)\n",
    "\n",
    "# Set the entrypoint as conversation\n",
    "workflow.add_edge(START, \"chat_node\")\n",
    "workflow.add_conditional_edges(\"chat_node\", should_continue, {  # Use should_continue instead of summarize_conversation\n",
    "    \"summarize_conversation\": \"summarize_conversation\",\n",
    "    END: END\n",
    "})\n",
    "workflow.add_edge(\"summarize_conversation\", \"chat_node\")  # Add edge back to chat_node after summarizing\n",
    "\n",
    "# Compile\n",
    "memory = MemorySaver()\n",
    "graph = workflow.compile(checkpointer=memory)\n",
    "display(Image(graph.get_graph().draw_mermaid_png()))"
   ]
  },
  {
   "cell_type": "markdown",
   "id": "d9337530",
   "metadata": {},
   "source": [
    "### Streaming full state"
   ]
  },
  {
   "cell_type": "markdown",
   "id": "88ce0ef9",
   "metadata": {},
   "source": [
    "#### Streaming modes\n",
    "1. values - a snapshot of state is streamed on every node\n",
    "2. updates - a diff, just streams what was updated since the prev node"
   ]
  },
  {
   "cell_type": "markdown",
   "id": "0e8b20f8",
   "metadata": {},
   "source": [
    "#### mode: values"
   ]
  },
  {
   "cell_type": "code",
   "execution_count": 9,
   "id": "9715db93",
   "metadata": {},
   "outputs": [],
   "source": [
    "config = {\"configurable\": {\"thread_id\": \"1\"}}"
   ]
  },
  {
   "cell_type": "code",
   "execution_count": null,
   "id": "28808064",
   "metadata": {},
   "outputs": [
    {
     "name": "stdout",
     "output_type": "stream",
     "text": [
      "{'messages': [HumanMessage(content=\"hi! I'm Alice\", additional_kwargs={}, response_metadata={}, id='fcfab8fb-c09b-4921-993d-2b40d8f793f7')]}\n",
      "{'messages': [HumanMessage(content=\"hi! I'm Alice\", additional_kwargs={}, response_metadata={}, id='fcfab8fb-c09b-4921-993d-2b40d8f793f7'), AIMessage(content=\"Hi Alice! It's nice to meet you. How can I help you today?\", additional_kwargs={}, response_metadata={'prompt_feedback': {'block_reason': 0, 'safety_ratings': []}, 'finish_reason': 'STOP', 'model_name': 'gemini-2.0-flash', 'safety_ratings': []}, id='run--947e2bcf-5443-4633-b7f4-da631722070f-0', usage_metadata={'input_tokens': 6, 'output_tokens': 19, 'total_tokens': 25, 'input_token_details': {'cache_read': 0}})]}\n"
     ]
    }
   ],
   "source": [
    "async for chunk in graph.astream({\"messages\": [HumanMessage(content=\"hi! I'm Alice\")]}, config=config, stream_mode='values'):\n",
    "    print(chunk) # Notice that in the first print we see the human message, in the second we see human and AI message"
   ]
  },
  {
   "cell_type": "markdown",
   "id": "5a72683c",
   "metadata": {},
   "source": [
    "#### mode: updates"
   ]
  },
  {
   "cell_type": "code",
   "execution_count": null,
   "id": "96499b28",
   "metadata": {},
   "outputs": [
    {
     "name": "stdout",
     "output_type": "stream",
     "text": [
      "{'chat_node': {'messages': AIMessage(content='You already said that! 😉 Hi Alice, it\\'s nice to \"see\" you again. What can I do for you this time?', additional_kwargs={}, response_metadata={'prompt_feedback': {'block_reason': 0, 'safety_ratings': []}, 'finish_reason': 'STOP', 'model_name': 'gemini-2.0-flash', 'safety_ratings': []}, id='run--3a14ef45-2e9e-4865-a11c-0f3daae8a7be-0', usage_metadata={'input_tokens': 30, 'output_tokens': 30, 'total_tokens': 60, 'input_token_details': {'cache_read': 0}})}}\n"
     ]
    }
   ],
   "source": [
    "async for chunk in graph.astream({\"messages\": [HumanMessage(content=\"hi! I'm Alice\")]}, config=config, stream_mode='updates'):\n",
    "    print(chunk) # here we will see the update since last state"
   ]
  },
  {
   "cell_type": "markdown",
   "id": "3c4c86b2",
   "metadata": {},
   "source": []
  },
  {
   "cell_type": "markdown",
   "id": "f9c34884",
   "metadata": {},
   "source": [
    "### Streaming Tokens"
   ]
  },
  {
   "cell_type": "code",
   "execution_count": 15,
   "id": "c592ef90",
   "metadata": {},
   "outputs": [
    {
     "name": "stdout",
     "output_type": "stream",
     "text": [
      "event['event'] = 'on_chain_start'\n",
      "\n",
      "    Node: \n",
      "    Name: LangGraph\n",
      "\n",
      "event['event'] = 'on_chain_start'\n",
      "\n",
      "    Node: chat_node\n",
      "    Name: chat_node\n",
      "\n",
      "event['event'] = 'on_chat_model_start'\n",
      "\n",
      "    Node: chat_node\n",
      "    Name: ChatGoogleGenerativeAI\n",
      "\n",
      "event['event'] = 'on_chat_model_stream'\n",
      "\n",
      "    Node: chat_node\n",
      "    Name: ChatGoogleGenerativeAI\n",
      "\n",
      "event['event'] = 'on_chat_model_stream'\n",
      "\n",
      "    Node: chat_node\n",
      "    Name: ChatGoogleGenerativeAI\n",
      "\n",
      "event['event'] = 'on_chat_model_stream'\n",
      "\n",
      "    Node: chat_node\n",
      "    Name: ChatGoogleGenerativeAI\n",
      "\n",
      "event['event'] = 'on_chat_model_end'\n",
      "\n",
      "    Node: chat_node\n",
      "    Name: ChatGoogleGenerativeAI\n",
      "\n",
      "event['event'] = 'on_chain_start'\n",
      "\n",
      "    Node: chat_node\n",
      "    Name: should_continue\n",
      "\n",
      "event['event'] = 'on_chain_end'\n",
      "\n",
      "    Node: chat_node\n",
      "    Name: should_continue\n",
      "\n",
      "event['event'] = 'on_chain_stream'\n",
      "\n",
      "    Node: chat_node\n",
      "    Name: chat_node\n",
      "\n",
      "event['event'] = 'on_chain_end'\n",
      "\n",
      "    Node: chat_node\n",
      "    Name: chat_node\n",
      "\n",
      "event['event'] = 'on_chain_stream'\n",
      "\n",
      "    Node: \n",
      "    Name: LangGraph\n",
      "\n",
      "event['event'] = 'on_chain_end'\n",
      "\n",
      "    Node: \n",
      "    Name: LangGraph\n",
      "\n"
     ]
    }
   ],
   "source": [
    "config = {\"configurable\": {\"thread_id\": \"2\"}}\n",
    "async for event in graph.astream_events({\"messages\": [HumanMessage(content=\"hi! I'm Alice\")]}, config=config, version='v2'):\n",
    "  print(f\"{event['event'] = }\")\n",
    "  print(f\"\"\"\n",
    "    Node: {event['metadata'].get('langgraph_node', '')}\n",
    "    Name: {event['name']}\n",
    "\"\"\")"
   ]
  },
  {
   "cell_type": "markdown",
   "id": "ebb277c1",
   "metadata": {},
   "source": [
    "### playing with data"
   ]
  },
  {
   "cell_type": "code",
   "execution_count": null,
   "id": "9c6b21f2",
   "metadata": {},
   "outputs": [
    {
     "name": "stdout",
     "output_type": "stream",
     "text": [
      "{'chunk': AIMessageChunk(content='Hans', additional_kwargs={}, response_metadata={'safety_ratings': []}, id='run--347f8e15-ac17-4aea-a2bf-01139f1ccdbb', usage_metadata={'input_tokens': 5, 'output_tokens': 0, 'total_tokens': 5, 'input_token_details': {'cache_read': 0}})}\n",
      "{'chunk': AIMessageChunk(content=' Zimmer has been', additional_kwargs={}, response_metadata={'safety_ratings': []}, id='run--347f8e15-ac17-4aea-a2bf-01139f1ccdbb', usage_metadata={'output_tokens': 0, 'total_tokens': 0, 'input_tokens': 0, 'input_token_details': {'cache_read': 0}})}\n",
      "{'chunk': AIMessageChunk(content=\" incredibly busy in recent years! Here's a rundown of some of his most notable\", additional_kwargs={}, response_metadata={'safety_ratings': []}, id='run--347f8e15-ac17-4aea-a2bf-01139f1ccdbb', usage_metadata={'output_tokens': 0, 'total_tokens': 0, 'input_tokens': 0, 'input_token_details': {'cache_read': 0}})}\n",
      "{'chunk': AIMessageChunk(content=' works from the past few years:\\n\\n**Film Scores:**\\n\\n*   **', additional_kwargs={}, response_metadata={'safety_ratings': []}, id='run--347f8e15-ac17-4aea-a2bf-01139f1ccdbb', usage_metadata={'output_tokens': 0, 'total_tokens': 0, 'input_tokens': 0, 'input_token_details': {'cache_read': 0}})}\n",
      "{'chunk': AIMessageChunk(content='Dune: Part Two (2024):** Continuing his Oscar-winning work from the first film, Zimmer delivers another epic and immersive score, expanding', additional_kwargs={}, response_metadata={'safety_ratings': []}, id='run--347f8e15-ac17-4aea-a2bf-01139f1ccdbb', usage_metadata={'output_tokens': 0, 'total_tokens': 0, 'input_tokens': 0, 'input_token_details': {'cache_read': 0}})}\n",
      "{'chunk': AIMessageChunk(content=' on the themes and introducing new motifs.\\n*   **The Creator (2023):** A sci-fi score that blends orchestral elements with electronic textures', additional_kwargs={}, response_metadata={'safety_ratings': []}, id='run--347f8e15-ac17-4aea-a2bf-01139f1ccdbb', usage_metadata={'output_tokens': 0, 'total_tokens': 0, 'input_tokens': 0, 'input_token_details': {'cache_read': 0}})}\n",
      "{'chunk': AIMessageChunk(content=\", creating a unique and thought-provoking soundscape.\\n*   **Dune (2021):** This score won Zimmer his second Academy Award. It's a groundbreaking work, using unconventional instruments and vocal techniques to create a\", additional_kwargs={}, response_metadata={'safety_ratings': []}, id='run--347f8e15-ac17-4aea-a2bf-01139f1ccdbb', usage_metadata={'output_tokens': 0, 'total_tokens': 0, 'input_tokens': 0, 'input_token_details': {'cache_read': 0}})}\n",
      "{'chunk': AIMessageChunk(content=\" truly alien and awe-inspiring sound.\\n*   **No Time to Die (2021):** Zimmer took over scoring duties for the latest James Bond film, delivering a powerful and emotional score that honors the franchise's legacy while adding\", additional_kwargs={}, response_metadata={'safety_ratings': []}, id='run--347f8e15-ac17-4aea-a2bf-01139f1ccdbb', usage_metadata={'output_tokens': 0, 'total_tokens': 0, 'input_tokens': 0, 'input_token_details': {'cache_read': 0}})}\n",
      "{'chunk': AIMessageChunk(content=' his own distinctive touch.\\n*   **Top Gun: Maverick (2022):** Collaborating with Harold Faltermeyer and Lorne Balfe, Zimmer helped create a score that perfectly blends nostalgia with modern action, capturing the spirit of the original while elevating the stakes.\\n*   **The SpongeBob Movie:', additional_kwargs={}, response_metadata={'safety_ratings': []}, id='run--347f8e15-ac17-4aea-a2bf-01139f1ccdbb', usage_metadata={'output_tokens': 0, 'total_tokens': 0, 'input_tokens': 0, 'input_token_details': {'cache_read': 0}})}\n",
      "{'chunk': AIMessageChunk(content=\" Sponge on the Run (2020):** A fun and whimsical score, showcasing Zimmer's versatility.\\n*   **Wonder Woman 1984 (2020):** An energetic and synth-heavy score that captures the 80s setting and the film's optimistic tone.\\n\", additional_kwargs={}, response_metadata={'safety_ratings': []}, id='run--347f8e15-ac17-4aea-a2bf-01139f1ccdbb', usage_metadata={'output_tokens': 0, 'total_tokens': 0, 'input_tokens': 0, 'input_token_details': {'cache_read': 0}})}\n",
      "{'chunk': AIMessageChunk(content='*   **The Lion King (2019):** Zimmer revisited his Oscar-winning score for the live-action remake, updating and expanding on the original themes.\\n*   **X-Men: Dark Phoenix (2019):** A darker and more dramatic score compared to previous X-Men films', additional_kwargs={}, response_metadata={'safety_ratings': []}, id='run--347f8e15-ac17-4aea-a2bf-01139f1ccdbb', usage_metadata={'output_tokens': 0, 'total_tokens': 0, 'input_tokens': 0, 'input_token_details': {'cache_read': 0}})}\n",
      "{'chunk': AIMessageChunk(content='.\\n\\n**Other Notable Works:**\\n\\n*   **Frozen Planet II (2022):** Zimmer contributed to the score for this BBC nature documentary series, creating a beautiful and evocative soundscape.\\n*   **FIFA 20 (2019):** Zimmer composed the theme music for this popular video game.', additional_kwargs={}, response_metadata={'safety_ratings': []}, id='run--347f8e15-ac17-4aea-a2bf-01139f1ccdbb', usage_metadata={'output_tokens': 0, 'total_tokens': 0, 'input_tokens': 0, 'input_token_details': {'cache_read': 0}})}\n",
      "{'chunk': AIMessageChunk(content=\"\\n\\n**Key Characteristics of Zimmer's Recent Work:**\\n\\n*   **Innovation:** He continues to experiment with new sounds, instruments, and techniques, pushing the boundaries of film scoring.\\n*   **Collaboration:** Zimmer frequently collaborates with other composers and musicians, bringing diverse perspectives and talents to his projects.\\n*   \", additional_kwargs={}, response_metadata={'safety_ratings': []}, id='run--347f8e15-ac17-4aea-a2bf-01139f1ccdbb', usage_metadata={'output_tokens': 0, 'total_tokens': 0, 'input_tokens': 0, 'input_token_details': {'cache_read': 0}})}\n",
      "{'chunk': AIMessageChunk(content='**Emotional Depth:** His scores are known for their ability to evoke a wide range of emotions, from awe and wonder to fear and sadness.\\n*   **Thematic Development:** Zimmer is a master of thematic development, creating memorable motifs that evolve and transform throughout the film.\\n*   **Blending of Genres:** He seamlessly', additional_kwargs={}, response_metadata={'safety_ratings': []}, id='run--347f8e15-ac17-4aea-a2bf-01139f1ccdbb', usage_metadata={'output_tokens': 0, 'total_tokens': 0, 'input_tokens': 0, 'input_token_details': {'cache_read': 0}})}\n",
      "{'chunk': AIMessageChunk(content=' blends orchestral, electronic, and world music elements to create unique and immersive soundscapes.\\n\\nHans Zimmer remains one of the most influential and sought-after composers in Hollywood, and his recent works demonstrate his continued creativity and innovation.', additional_kwargs={}, response_metadata={'finish_reason': 'STOP', 'model_name': 'gemini-2.0-flash', 'safety_ratings': []}, id='run--347f8e15-ac17-4aea-a2bf-01139f1ccdbb', usage_metadata={'output_tokens': 637, 'total_tokens': 636, 'input_tokens': -1, 'input_token_details': {'cache_read': 0}})}\n"
     ]
    }
   ],
   "source": [
    "node_to_stream = 'chat_node'\n",
    "config = {\"configurable\": {\"thread_id\": \"3\"}}\n",
    "input_message = HumanMessage(content=\"Hans Zimmer recent works\")\n",
    "async for event in graph.astream_events({\"messages\": [input_message]}, config, version=\"v2\"):\n",
    "    if event[\"event\"] == \"on_chat_model_stream\" and event['metadata'].get('langgraph_node','') == node_to_stream:\n",
    "        print(event[\"data\"])\n"
   ]
  },
  {
   "cell_type": "markdown",
   "id": "27f74906",
   "metadata": {},
   "source": [
    "### stream only contents"
   ]
  },
  {
   "cell_type": "code",
   "execution_count": 17,
   "id": "390b175e",
   "metadata": {},
   "outputs": [
    {
     "name": "stdout",
     "output_type": "stream",
     "text": [
      "Hans\n",
      " Zimmer has been\n",
      " incredibly busy in recent years! Here's a rundown of some of his most notable\n",
      " works from the past few years:\n",
      "\n",
      "**Film Scores:**\n",
      "\n",
      "*   **\n",
      "Dune: Part Two (2024):** Continuing his Oscar-winning work from the first film, Zimmer delivers another epic and immersive score, expanding\n",
      " on the themes and introducing new motifs.\n",
      "*   **The Creator (2023):** A sci-fi score that blends orchestral elements with electronic textures\n",
      ", creating a unique and thought-provoking soundscape.\n",
      "*   **Dune (2021):** This score won Zimmer his second Academy Award. It's a groundbreaking work, using unconventional instruments and vocal techniques to create a\n",
      " truly alien and awe-inspiring sound.\n",
      "*   **No Time to Die (2021):** Zimmer took over scoring duties for the latest James Bond film, delivering a powerful and emotional score that honors the franchise's legacy while adding\n",
      " his own distinctive touch.\n",
      "*   **Top Gun: Maverick (2022):** Collaborating with Harold Faltermeyer and Lorne Balfe, Zimmer helped create a score that perfectly blends nostalgia with modern action, capturing the spirit of the original while elevating the stakes.\n",
      "*   **The SpongeBob Movie:\n",
      " Sponge on the Run (2020):** A fun and whimsical score, showcasing Zimmer's versatility.\n",
      "*   **Wonder Woman 1984 (2020):** An energetic and synth-heavy score that captures the 80s setting and the film's optimistic tone.\n",
      "\n",
      "*   **The Lion King (2019):** Zimmer revisited his Oscar-winning score for the live-action remake, updating and expanding on the original themes.\n",
      "*   **X-Men: Dark Phoenix (2019):** A darker and more dramatic score compared to previous X-Men films\n",
      ".\n",
      "\n",
      "**Other Notable Works:**\n",
      "\n",
      "*   **Frozen Planet II (2022):** Zimmer contributed to the score for this BBC nature documentary series, creating a beautiful and evocative soundscape.\n",
      "*   **FIFA 20 (2019):** Zimmer composed the theme music for this popular video game.\n",
      "\n",
      "\n",
      "**Key Characteristics of Zimmer's Recent Work:**\n",
      "\n",
      "*   **Innovation:** He continues to experiment with new sounds, instruments, and techniques, pushing the boundaries of film scoring.\n",
      "*   **Collaboration:** Zimmer frequently collaborates with other composers and musicians, bringing diverse perspectives and talents to his projects.\n",
      "*   \n",
      "**Emotional Depth:** His scores are known for their ability to evoke a wide range of emotions, from awe and wonder to fear and sadness.\n",
      "*   **Thematic Development:** Zimmer is a master of thematic development, creating memorable motifs that evolve and transform throughout the film.\n",
      "*   **Blending of Genres:** He seamlessly\n",
      " blends orchestral, electronic, and world music elements to create unique and immersive soundscapes.\n",
      "\n",
      "Hans Zimmer remains one of the most influential and sought-after composers in Hollywood, and his recent works demonstrate his continued creativity and innovation.\n"
     ]
    }
   ],
   "source": [
    "node_to_stream = 'chat_node'\n",
    "config = {\"configurable\": {\"thread_id\": \"4\"}}\n",
    "input_message = HumanMessage(content=\"Hans Zimmer recent works\")\n",
    "async for event in graph.astream_events({\"messages\": [input_message]}, config, version=\"v2\"):\n",
    "    if event[\"event\"] == \"on_chat_model_stream\" and event['metadata'].get('langgraph_node','') == node_to_stream:\n",
    "        print(event[\"data\"]['chunk'].content)"
   ]
  }
 ],
 "metadata": {
  "kernelspec": {
   "display_name": "lc-academy-env",
   "language": "python",
   "name": "python3"
  },
  "language_info": {
   "codemirror_mode": {
    "name": "ipython",
    "version": 3
   },
   "file_extension": ".py",
   "mimetype": "text/x-python",
   "name": "python",
   "nbconvert_exporter": "python",
   "pygments_lexer": "ipython3",
   "version": "3.11.5"
  }
 },
 "nbformat": 4,
 "nbformat_minor": 5
}
