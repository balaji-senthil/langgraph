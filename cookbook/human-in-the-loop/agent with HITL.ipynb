{
 "cells": [
  {
   "cell_type": "markdown",
   "id": "7c2febc4",
   "metadata": {},
   "source": [
    "# LangGraph Agent with Human in the Loop - Breakpoints"
   ]
  },
  {
   "cell_type": "markdown",
   "id": "dff7b6c0",
   "metadata": {},
   "source": [
    "### llm setup for LangChain"
   ]
  },
  {
   "cell_type": "code",
   "execution_count": 2,
   "id": "55e6548b",
   "metadata": {},
   "outputs": [],
   "source": [
    "from dotenv import load_dotenv\n",
    "from langchain_google_genai import ChatGoogleGenerativeAI\n",
    "load_dotenv()\n",
    "\n",
    "llm = ChatGoogleGenerativeAI(model='gemini-2.5-flash',temperature=0)\n"
   ]
  },
  {
   "cell_type": "markdown",
   "id": "f8f3baaf",
   "metadata": {},
   "source": [
    "### tools"
   ]
  },
  {
   "cell_type": "code",
   "execution_count": 3,
   "id": "6a9ca0d9",
   "metadata": {},
   "outputs": [],
   "source": [
    "from langchain_core.tools import tool\n",
    "from langchain_tavily import TavilySearch\n",
    "\n",
    "@tool\n",
    "def get_weather(city: str, unit: str = 'celsius') -> str:\n",
    "\t\"\"\"Get the weather for a city.\"\"\"\n",
    "\treturn f\"The weather in {city} is 25 degrees {unit}.\"\n",
    "\n",
    "@tool\n",
    "def web_search(query: str) -> str:\n",
    "\t\"\"\"Search the web for a query.\"\"\"\n",
    "\ttavily_search_tool = TavilySearch(\n",
    "\t\tmax_results=5,\n",
    "\t\ttopic=\"general\",\n",
    "\t)\n",
    "\treturn tavily_search_tool.invoke(query)\n",
    "\n",
    "TOOL_MAP = {\n",
    "\t\"get_weather\": get_weather,\n",
    "\t\"web_search\": web_search,\n",
    "}"
   ]
  },
  {
   "cell_type": "markdown",
   "id": "648a20fd",
   "metadata": {},
   "source": [
    "### Add tools to the llm"
   ]
  },
  {
   "cell_type": "code",
   "execution_count": 4,
   "id": "08cfe61c",
   "metadata": {},
   "outputs": [],
   "source": [
    "llm = llm.bind_tools([get_weather, web_search])"
   ]
  },
  {
   "cell_type": "markdown",
   "id": "a67d368c",
   "metadata": {},
   "source": [
    "### State - Message from Langchain"
   ]
  },
  {
   "cell_type": "code",
   "execution_count": 5,
   "id": "15e78631",
   "metadata": {},
   "outputs": [],
   "source": [
    "from typing import Annotated, TypedDict\n",
    "from langchain_core.messages import AnyMessage, HumanMessage, AIMessage\n",
    "\n",
    "from langgraph.graph.message import add_messages # add_messages is the reducer to add messages to the state\n",
    "\n",
    "class MessagesState(TypedDict):\n",
    "    messages: Annotated[list[AnyMessage], add_messages]"
   ]
  },
  {
   "cell_type": "markdown",
   "id": "9fc71471",
   "metadata": {},
   "source": [
    "### Node"
   ]
  },
  {
   "cell_type": "code",
   "execution_count": 6,
   "id": "dd24a276",
   "metadata": {},
   "outputs": [],
   "source": [
    "from langchain_core.messages import SystemMessage\n",
    "\n",
    "sys_msg = SystemMessage(\n",
    "\t\tcontent=\"You are a helpful tour planning assistant that can help users for making itinerary. You can plan the trip from checking the weather, searching for rooms and searching interesitng things and places to go out for.\",\n",
    "\t)\n",
    "\n",
    "def react_agent(state: MessagesState):\n",
    "\tllm_output = llm.invoke([sys_msg] + state[\"messages\"])\n",
    "\treturn {\"messages\": [llm_output]}"
   ]
  },
  {
   "cell_type": "markdown",
   "id": "89512c1c",
   "metadata": {},
   "source": [
    "### adding memory"
   ]
  },
  {
   "cell_type": "code",
   "execution_count": 16,
   "id": "05666ee7",
   "metadata": {},
   "outputs": [],
   "source": [
    "from langgraph.checkpoint.memory import MemorySaver\n",
    "\n",
    "memory = MemorySaver()\n",
    "\n",
    "config = {\"configurable\": {\"thread_id\": \"1\"}}"
   ]
  },
  {
   "cell_type": "markdown",
   "id": "22e6bdf5",
   "metadata": {},
   "source": [
    "### Build Graph"
   ]
  },
  {
   "cell_type": "code",
   "execution_count": 17,
   "id": "7335d55a",
   "metadata": {},
   "outputs": [
    {
     "data": {
      "image/png": "[encoded data removed]",
      "text/plain": [
       "<IPython.core.display.Image object>"
      ]
     },
     "metadata": {},
     "output_type": "display_data"
    }
   ],
   "source": [
    "from IPython.display import Image, display\n",
    "from langgraph.graph import StateGraph, START\n",
    "from langgraph.prebuilt import ToolNode\n",
    "from langgraph.prebuilt import tools_condition\n",
    "\n",
    "\n",
    "builder = StateGraph(MessagesState)\n",
    "builder.add_node(\"react_agent\", react_agent)\n",
    "builder.add_node(\"tools\", ToolNode([get_weather, web_search]))\n",
    "builder.add_edge(START, \"react_agent\")\n",
    "builder.add_conditional_edges(\n",
    "\t\"react_agent\",\n",
    "\ttools_condition\n",
    ")\n",
    "builder.add_edge(\"tools\", \"react_agent\")\n",
    "graph = builder.compile(interrupt_before=['tools'], checkpointer=memory)\n",
    "\n",
    "\n",
    "display(Image(graph.get_graph().draw_mermaid_png()))"
   ]
  },
  {
   "cell_type": "markdown",
   "id": "15d4b86b",
   "metadata": {},
   "source": [
    "### Invoke Graph"
   ]
  },
  {
   "cell_type": "markdown",
   "id": "bfba7080",
   "metadata": {},
   "source": [
    "#### a. simple message - requring no tools"
   ]
  },
  {
   "cell_type": "code",
   "execution_count": 18,
   "id": "9d005139",
   "metadata": {},
   "outputs": [
    {
     "name": "stdout",
     "output_type": "stream",
     "text": [
      "================================\u001b[1m Human Message \u001b[0m=================================\n",
      "\n",
      "What up!\n",
      "==================================\u001b[1m Ai Message \u001b[0m==================================\n",
      "\n",
      "Hello! I'm here to help you plan your next trip. What can I do for you?\n"
     ]
    }
   ],
   "source": [
    "messages = graph.invoke({\"messages\": [HumanMessage(content=\"What up!\")]}, config=config)\n",
    "for m in messages['messages']:\n",
    "    m.pretty_print()"
   ]
  },
  {
   "cell_type": "markdown",
   "id": "cc385948",
   "metadata": {},
   "source": [
    "#### b. tool calling - invoking all tools"
   ]
  },
  {
   "cell_type": "code",
   "execution_count": 19,
   "id": "777a89b6",
   "metadata": {},
   "outputs": [
    {
     "name": "stdout",
     "output_type": "stream",
     "text": [
      "================================\u001b[1m Human Message \u001b[0m=================================\n",
      "\n",
      "What up!\n",
      "==================================\u001b[1m Ai Message \u001b[0m==================================\n",
      "\n",
      "Hello! I'm here to help you plan your next trip. What can I do for you?\n",
      "================================\u001b[1m Human Message \u001b[0m=================================\n",
      "\n",
      "Plan a trip to San Francisco, for next weekend\n",
      "==================================\u001b[1m Ai Message \u001b[0m==================================\n",
      "Tool Calls:\n",
      "  get_weather (a6820aaa-5bce-4548-99d3-d5e4a9881d8b)\n",
      " Call ID: a6820aaa-5bce-4548-99d3-d5e4a9881d8b\n",
      "  Args:\n",
      "    city: San Francisco\n"
     ]
    }
   ],
   "source": [
    "messages = graph.invoke({\"messages\": [HumanMessage(content=\"Plan a trip to San Francisco, for next weekend\")]}, config=config)\n",
    "for m in messages['messages']:\n",
    "\tm.pretty_print()"
   ]
  },
  {
   "cell_type": "markdown",
   "id": "69434472",
   "metadata": {},
   "source": [
    "### check the state"
   ]
  },
  {
   "cell_type": "code",
   "execution_count": 20,
   "id": "9a89c403",
   "metadata": {},
   "outputs": [
    {
     "data": {
      "text/plain": [
       "('tools',)"
      ]
     },
     "execution_count": 20,
     "metadata": {},
     "output_type": "execute_result"
    }
   ],
   "source": [
    "state = graph.get_state(config)\n",
    "state.next"
   ]
  },
  {
   "cell_type": "code",
   "execution_count": 21,
   "id": "b0f7861b",
   "metadata": {},
   "outputs": [
    {
     "data": {
      "text/plain": [
       "{'messages': [HumanMessage(content='What up!', additional_kwargs={}, response_metadata={}, id='e8495142-319a-4fa6-88b7-9407dae4fcad'),\n",
       "  AIMessage(content=\"Hello! I'm here to help you plan your next trip. What can I do for you?\", additional_kwargs={}, response_metadata={'prompt_feedback': {'block_reason': 0, 'safety_ratings': []}, 'finish_reason': 'STOP', 'model_name': 'gemini-2.5-flash', 'safety_ratings': []}, id='run--a62ed2ad-5d26-479f-95d8-3626f54624b1-0', usage_metadata={'input_tokens': 138, 'output_tokens': 21, 'total_tokens': 159, 'input_token_details': {'cache_read': 0}}),\n",
       "  HumanMessage(content='Plan a trip to San Francisco, for next weekend', additional_kwargs={}, response_metadata={}, id='6d9d471f-5852-4b5e-b418-49ac852a545b'),\n",
       "  AIMessage(content='', additional_kwargs={'function_call': {'name': 'get_weather', 'arguments': '{\"city\": \"San Francisco\"}'}}, response_metadata={'prompt_feedback': {'block_reason': 0, 'safety_ratings': []}, 'finish_reason': 'STOP', 'model_name': 'gemini-2.5-flash', 'safety_ratings': []}, id='run--f577faa8-63ef-41a4-a62d-243f8a5f3ea2-0', tool_calls=[{'name': 'get_weather', 'args': {'city': 'San Francisco'}, 'id': 'a6820aaa-5bce-4548-99d3-d5e4a9881d8b', 'type': 'tool_call'}], usage_metadata={'input_tokens': 171, 'output_tokens': 76, 'total_tokens': 247, 'input_token_details': {'cache_read': 0}, 'output_token_details': {'reasoning': 60}})]}"
      ]
     },
     "execution_count": 21,
     "metadata": {},
     "output_type": "execute_result"
    }
   ],
   "source": [
    "graph.get_state(config).values"
   ]
  },
  {
   "cell_type": "markdown",
   "id": "b50bef16",
   "metadata": {},
   "source": [
    "#### proceeding... \n",
    "`Note`: that we have two tools and only one was executed and interrupted before invoking the second tool - the web search one"
   ]
  },
  {
   "cell_type": "code",
   "execution_count": 22,
   "id": "422986fe",
   "metadata": {},
   "outputs": [
    {
     "name": "stdout",
     "output_type": "stream",
     "text": [
      "==================================\u001b[1m Ai Message \u001b[0m==================================\n",
      "Tool Calls:\n",
      "  get_weather (a6820aaa-5bce-4548-99d3-d5e4a9881d8b)\n",
      " Call ID: a6820aaa-5bce-4548-99d3-d5e4a9881d8b\n",
      "  Args:\n",
      "    city: San Francisco\n",
      "=================================\u001b[1m Tool Message \u001b[0m=================================\n",
      "Name: get_weather\n",
      "\n",
      "The weather in San Francisco is 25 degrees celsius.\n",
      "==================================\u001b[1m Ai Message \u001b[0m==================================\n",
      "Tool Calls:\n",
      "  web_search (08d901e2-959a-4da1-a472-92b4cb4bff11)\n",
      " Call ID: 08d901e2-959a-4da1-a472-92b4cb4bff11\n",
      "  Args:\n",
      "    query: things to do in San Francisco\n"
     ]
    }
   ],
   "source": [
    "async for event in graph.astream(None, config=config, stream_mode='values'):\n",
    "    event['messages'][-1].pretty_print()"
   ]
  },
  {
   "cell_type": "markdown",
   "id": "b0dcd675",
   "metadata": {},
   "source": [
    "#### lets make it invoke the next tool call..."
   ]
  },
  {
   "cell_type": "code",
   "execution_count": 23,
   "id": "123ffa30",
   "metadata": {},
   "outputs": [
    {
     "name": "stdout",
     "output_type": "stream",
     "text": [
      "==================================\u001b[1m Ai Message \u001b[0m==================================\n",
      "Tool Calls:\n",
      "  web_search (08d901e2-959a-4da1-a472-92b4cb4bff11)\n",
      " Call ID: 08d901e2-959a-4da1-a472-92b4cb4bff11\n",
      "  Args:\n",
      "    query: things to do in San Francisco\n",
      "=================================\u001b[1m Tool Message \u001b[0m=================================\n",
      "Name: web_search\n",
      "\n",
      "{\"query\": \"things to do in San Francisco\", \"follow_up_questions\": null, \"answer\": null, \"images\": [], \"results\": [{\"url\": \"https://www.tripadvisor.com/Attractions-g60713-Activities-San_Francisco_California.html\", \"title\": \"THE 15 BEST Things to Do in San Francisco (2025) - Tripadvisor\", \"content\": \"Check out must-see sights and activities: Alcatraz Island, Golden Gate Bridge, City Tours, Wine Tastings. For personalized recommendations, try our AI trip-\", \"score\": 0.8616433, \"raw_content\": null}, {\"url\": \"https://mycaliforniatravels.com/top-things-to-do-in-san-francisco/\", \"title\": \"Top 23 Things to Do in San Francisco for First-time Visitors\", \"content\": \"For first-time visitors, the city has plenty of iconic sights like Golden Gate Bridge and Alcatraz Island, popular attractions like the historic cable car and bay cruise, and unique neighborhoods like Chinatown and Little Italy that will offer you a taste of its eclectic charm and natural beauty. Image 11: Golden Gate Bridge in San Francisco on a clear day, with the iconic red structure spanning across the blue waters of the bay Image 33: Golden Gate Bridge in San Francisco on a clear day, with the iconic red structure spanning across the blue waters of the bay Image 39: Golden Gate Bridge in San Francisco on a clear day, with the iconic red structure spanning across the blue waters of the bay _Golden Gate Park in San Francisco_\", \"score\": 0.8409005, \"raw_content\": null}, {\"url\": \"https://www.sftravel.com/article/28-things-not-to-miss-san-francisco\", \"title\": \"28 Things Not to Miss in San Francisco\", \"content\": \"Cross the Golden Gate Bridge · Ride A Cable Car · Visit \\\"The Rock\\\" · See the Sea Lions · Have a Picnic in a Park · Go To An Outdoor Festival · Go On A Walking Tour.\", \"score\": 0.8131201, \"raw_content\": null}, {\"url\": \"https://www.reddit.com/r/AskSF/comments/1ins7uy/what_are_your_must_do_from_sf/\", \"title\": \"What are your must do from SF? : r/AskSF - Reddit\", \"content\": \"Reddit - The heart of the internet Open menu Open navigationGo to Reddit Home Image 1: r/AskSF icon Go to AskSF r/AskSF Image 3: r/AskSF iconr/AskSF This subreddit was created for people to be able to ask questions about the San Francisco Bay Area to residents. We strive to have /r/askSF serve as a reference to SF Bay Area resources. Best places to visit in San Francisco New to Reddit? Anyone can view, post, and comment to this community *   Reddit Meta *   Games  *   Gaming News & Discussion *   Other Games *   Action Movies & Series *   Animated Movies & Series *   Documentary Movies & Series *   Drama Movies & Series *   About Reddit *   Best of Reddit\", \"score\": 0.52802294, \"raw_content\": null}, {\"url\": \"https://www.bontraveler.com/travel-guide-to-san-francisco/\", \"title\": \"The Ultimate Local's Travel Guide to San Francisco\", \"content\": \"Image 3: Travel Guide to San Francisco After living in the city for nearly ten years, I’m excited to share a local’s travel guide to San Francisco. Image 8: Travel Guide to San Francisco Image 9: Travel Guide to San Francisco I could write several guides just on food in San Francisco, so I’m going to try to keep it short and concise for the best spots that we love. Image 12: Travel Guide to San Francisco Image 17: Travel Guide to San Francisco Image 22: Travel Guide to San Francisco *   **Yosemite National Park** — _the most popular day trip from San Francisco, it’s around 3.5 hours drive each way and totally doable (we did this all the time)._\", \"score\": 0.4787, \"raw_content\": null}], \"response_time\": 1.25}\n",
      "==================================\u001b[1m Ai Message \u001b[0m==================================\n",
      "\n",
      "Okay, I can help you plan a trip to San Francisco for next weekend!\n",
      "\n",
      "The weather in San Francisco is currently 25 degrees Celsius, so it should be pleasant for your visit.\n",
      "\n",
      "Here are some popular things to do in San Francisco:\n",
      "\n",
      "*   **Alcatraz Island:** Visit the famous former prison.\n",
      "*   **Golden Gate Bridge:** Walk or bike across this iconic landmark.\n",
      "*   **Cable Car Ride:** Experience the historic cable cars.\n",
      "*   **Fisherman's Wharf & Pier 39:** See the sea lions and enjoy the lively atmosphere.\n",
      "*   **Chinatown:** Explore the oldest Chinatown in North America.\n",
      "*   **Golden Gate Park:** A large urban park with museums, gardens, and more.\n",
      "\n",
      "To help me plan your itinerary, could you tell me:\n",
      "\n",
      "1.  **What are your interests?** (e.g., history, art, food, outdoors, nightlife)\n",
      "2.  **What's your budget like for activities?** (e.g., free, low-cost, willing to splurge)\n",
      "3.  **Are you traveling solo, with family, or friends?**\n",
      "\n",
      "Also, would you like me to search for hotels or other accommodations for you?\n"
     ]
    }
   ],
   "source": [
    "async for event in graph.astream(None, config=config, stream_mode='values'):\n",
    "    event['messages'][-1].pretty_print()"
   ]
  },
  {
   "cell_type": "markdown",
   "id": "d05ad9a7",
   "metadata": {},
   "source": [
    "#### flow of state"
   ]
  },
  {
   "cell_type": "markdown",
   "id": "f27a3755",
   "metadata": {},
   "source": [
    "![flow.jpg](https://camo.githubusercontent.com/45a2c63cc3140b3db106fa6544c2ede29fff7ea4b6a41269299585609bba09d8/68747470733a2f2f63646e2e70726f642e776562736974652d66696c65732e636f6d2f3635623863643732383335636565616364343434396135332f3636646261653739383562373437646665643637373735645f627265616b706f696e7473312e706e67)\n",
    "\n",
    "##### reference: https://camo.githubusercontent.com/45a2c63cc3140b3db106fa6544c2ede29fff7ea4b6a41269299585609bba09d8/68747470733a2f2f63646e2e70726f642e776562736974652d66696c65732e636f6d2f3635623863643732383335636565616364343434396135332f3636646261653739383562373437646665643637373735645f627265616b706f696e7473312e706e67"
   ]
  },
  {
   "cell_type": "markdown",
   "id": "a3af2366",
   "metadata": {},
   "source": [
    "### Full example"
   ]
  },
  {
   "cell_type": "code",
   "execution_count": 15,
   "id": "4c195084",
   "metadata": {},
   "outputs": [
    {
     "name": "stdout",
     "output_type": "stream",
     "text": [
      "================================\u001b[1m Human Message \u001b[0m=================================\n",
      "\n",
      "hi! I'm Alice, Plan a three day winding down vacation, end of July to up Niagra NY\n",
      "==================================\u001b[1m Ai Message \u001b[0m==================================\n",
      "\n",
      "Hi Alice! I can help you plan a relaxing three-day vacation to Niagara Falls, NY, at the end of July.\n",
      "\n",
      "To start, I'll need to check the weather for Niagara Falls, NY, around that time.\n",
      "Tool Calls:\n",
      "  get_weather (ddb7acf8-be9e-4a2f-8c01-bb7b620a7d43)\n",
      " Call ID: ddb7acf8-be9e-4a2f-8c01-bb7b620a7d43\n",
      "  Args:\n",
      "    city: Niagara Falls, NY\n",
      "==================================\u001b[1m Ai Message \u001b[0m==================================\n",
      "\n",
      "Hi Alice! I can help you plan a relaxing three-day vacation to Niagara Falls, NY, at the end of July.\n",
      "\n",
      "To start, I'll need to check the weather for Niagara Falls, NY, around that time.\n",
      "Tool Calls:\n",
      "  get_weather (ddb7acf8-be9e-4a2f-8c01-bb7b620a7d43)\n",
      " Call ID: ddb7acf8-be9e-4a2f-8c01-bb7b620a7d43\n",
      "  Args:\n",
      "    city: Niagara Falls, NY\n",
      "=================================\u001b[1m Tool Message \u001b[0m=================================\n",
      "Name: get_weather\n",
      "\n",
      "The weather in Niagara Falls, NY is 25 degrees celsius.\n",
      "==================================\u001b[1m Ai Message \u001b[0m==================================\n",
      "Tool Calls:\n",
      "  web_search (03003a3b-f5ec-4875-bf46-5013ed82b5d3)\n",
      " Call ID: 03003a3b-f5ec-4875-bf46-5013ed82b5d3\n",
      "  Args:\n",
      "    query: things to do in Niagara Falls, NY in July\n",
      "==================================\u001b[1m Ai Message \u001b[0m==================================\n",
      "Tool Calls:\n",
      "  web_search (03003a3b-f5ec-4875-bf46-5013ed82b5d3)\n",
      " Call ID: 03003a3b-f5ec-4875-bf46-5013ed82b5d3\n",
      "  Args:\n",
      "    query: things to do in Niagara Falls, NY in July\n",
      "=================================\u001b[1m Tool Message \u001b[0m=================================\n",
      "Name: web_search\n",
      "\n",
      "{\"query\": \"things to do in Niagara Falls, NY in July\", \"follow_up_questions\": null, \"answer\": null, \"images\": [], \"results\": [{\"url\": \"https://www.niagarafallsusa.com/things-to-do/\", \"title\": \"100+ Things to Do in Niagara Falls, NY\", \"content\": \"Summertime in Niagara Falls USA is packed with free outdoor concerts, festivals and events to keep you entertained. There are also many events and festivals in\", \"score\": 0.98549, \"raw_content\": null}, {\"url\": \"https://www.tripadvisor.com/Attractions-g48261-Activities-Niagara_Falls_New_York.html\", \"title\": \"THE 15 BEST Things to Do in Niagara Falls (2025) - Tripadvisor\", \"content\": \"Top Attractions in Niagara Falls · 1. Cave of the Winds · 4.8. 6,497. Caverns & Caves · 2. Niagara Falls · 4.7. 8,262. Waterfalls · 3. Niagara Falls State Park.\", \"score\": 0.98228, \"raw_content\": null}, {\"url\": \"https://www.niagarafallsstatepark.com/attractions/\", \"title\": \"Attractions - Niagara Falls State Park USA\", \"content\": \"Experience Niagara Falls State Park's signature activities ranging from Cave of the Winds and Maid of the Mist to the Niagara Aquarium and Trolley.\", \"score\": 0.9794, \"raw_content\": null}, {\"url\": \"https://www.niagarafallstourism.com/seasons/summer/\", \"title\": \"Summer in Niagara Falls\", \"content\": \"Say yesto OUTDOOR ADVENTURES · Skydive Burnaby · WildPlay Adventure Course · Cycling · Hiking Adventures · White Water Walk · Clifton Hill · Niagara Riding Stables\", \"score\": 0.97305, \"raw_content\": null}, {\"url\": \"https://www.niagarafallsusa.com/events-calendar/\", \"title\": \"Events & Festivals in Niagara Falls NY\", \"content\": \"You'll find an event or festival spanning every interest – for everyone! See a full listing of daily, weekly and monthly events below.\", \"score\": 0.96981, \"raw_content\": null}], \"response_time\": 1.28}\n",
      "==================================\u001b[1m Ai Message \u001b[0m==================================\n",
      "\n",
      "Hi Alice! A winding down vacation to Niagara Falls, NY at the end of July sounds lovely. The weather around that time is usually around 25 degrees Celsius, perfect for exploring!\n",
      "\n",
      "Here's a possible three-day itinerary for your trip:\n",
      "\n",
      "**Day 1: The Iconic Falls Experience**\n",
      "\n",
      "*   **Morning:** Start your day with the classic **Maid of the Mist** boat tour for an up-close and personal experience with the Falls.\n",
      "*   **Late Morning/Afternoon:** Explore **Niagara Falls State Park**. Walk along the pathways, visit Prospect Point, and take in the breathtaking views from various vantage points.\n",
      "*   **Afternoon:** Experience the **Cave of the Winds**. You'll descend into the Niagara Gorge and get incredibly close to the Bridal Veil Falls.\n",
      "*   **Evening:** Enjoy dinner with a view of the illuminated Falls.\n",
      "\n",
      "**Day 2: Beyond the Falls**\n",
      "\n",
      "*   **Morning:** Visit the **Niagara Aquarium** for a different kind of aquatic experience.\n",
      "*   **Late Morning/Afternoon:** Take a leisurely stroll or bike ride along the **Niagara Scenic Parkway** or explore some of the walking trails in the area.\n",
      "*   **Afternoon:** Consider a visit to a local winery if you're interested in tasting some regional wines, or perhaps the **Niagara Gorge Discovery Center** to learn more about the geology and history of the area.\n",
      "*   **Evening:** Explore the local dining scene in Niagara Falls, NY.\n",
      "\n",
      "**Day 3: Relaxed Exploration & Departure**\n",
      "\n",
      "*   **Morning:** Enjoy a relaxed breakfast. You could revisit a favorite spot in the State Park for a final view of the Falls, or perhaps take a ride on the **Niagara Scenic Trolley** for a guided tour of the park.\n",
      "*   **Late Morning:** Depending on your departure time, you might want to do some souvenir shopping or visit a local park for some quiet time.\n",
      "*   **Afternoon:** Begin your journey home, feeling refreshed and relaxed!\n",
      "\n",
      "To help you further, I can search for hotels in Niagara Falls, NY for your dates. What specific dates at the end of July are you planning to travel?\n"
     ]
    }
   ],
   "source": [
    "init_state = {\n",
    "  \"messages\": [HumanMessage(content=\"hi! I'm Alice, Plan a three day winding down vacation, end of July to up Niagra NY\")]\n",
    "}\n",
    "\n",
    "thread = {\"configurable\": {\"thread_id\": \"11\"}}\n",
    "\n",
    "async for event in graph.astream(init_state, config=thread, stream_mode='values'):\n",
    "    event['messages'][-1].pretty_print()\n",
    "\n",
    "shall_we_proceed = input(\"Shall we proceed with checking weather? (y/n): \")\n",
    "\n",
    "if shall_we_proceed == \"y\":\n",
    "    async for event in graph.astream(None, config=thread, stream_mode='values'):\n",
    "        event['messages'][-1].pretty_print()\n",
    "else:\n",
    "    print('Until next time!')\n",
    "    exit()\n",
    "\n",
    "shall_we_proceed = input(\"Shall we proceed with searching the web? (y/n): \")\n",
    "\n",
    "if shall_we_proceed == \"y\":\n",
    "    async for event in graph.astream(None, config=thread, stream_mode='values'):\n",
    "        event['messages'][-1].pretty_print()\n",
    "else:\n",
    "    print('Until next time!')\n",
    "    exit()\n",
    "\n",
    "\n"
   ]
  }
 ],
 "metadata": {
  "kernelspec": {
   "display_name": "lc-academy-env",
   "language": "python",
   "name": "python3"
  },
  "language_info": {
   "codemirror_mode": {
    "name": "ipython",
    "version": 3
   },
   "file_extension": ".py",
   "mimetype": "text/x-python",
   "name": "python",
   "nbconvert_exporter": "python",
   "pygments_lexer": "ipython3",
   "version": "3.11.5"
  }
 },
 "nbformat": 4,
 "nbformat_minor": 5
}
