{
 "cells": [
  {
   "cell_type": "markdown",
   "id": "7c2febc4",
   "metadata": {},
   "source": [
    "# LangGraph chain - Python Cookbook"
   ]
  },
  {
   "cell_type": "markdown",
   "id": "dff7b6c0",
   "metadata": {},
   "source": [
    "### llm setup for LangChain"
   ]
  },
  {
   "cell_type": "code",
   "execution_count": 53,
   "id": "55e6548b",
   "metadata": {},
   "outputs": [],
   "source": [
    "from dotenv import load_dotenv\n",
    "from langchain_google_genai import ChatGoogleGenerativeAI\n",
    "load_dotenv()\n",
    "\n",
    "llm = ChatGoogleGenerativeAI(model='gemini-2.5-flash',temperature=0)\n"
   ]
  },
  {
   "cell_type": "markdown",
   "id": "f8f3baaf",
   "metadata": {},
   "source": [
    "### tools"
   ]
  },
  {
   "cell_type": "code",
   "execution_count": 54,
   "id": "6a9ca0d9",
   "metadata": {},
   "outputs": [],
   "source": [
    "from langchain_core.tools import tool\n",
    "from langchain_tavily import TavilySearch\n",
    "\n",
    "@tool\n",
    "def get_weather(city: str, unit: str = 'celsius') -> str:\n",
    "\t\"\"\"Get the weather for a city.\"\"\"\n",
    "\treturn f\"The weather in {city} is 25 degrees {unit}.\"\n",
    "\n",
    "@tool\n",
    "def web_search(query: str) -> str:\n",
    "\t\"\"\"Search the web for a query.\"\"\"\n",
    "\ttavily_search_tool = TavilySearch(\n",
    "\t\tmax_results=5,\n",
    "\t\ttopic=\"general\",\n",
    "\t)\n",
    "\treturn tavily_search_tool.invoke(query)\n",
    "\n",
    "TOOL_MAP = {\n",
    "\t\"get_weather\": get_weather,\n",
    "\t\"web_search\": web_search,\n",
    "}"
   ]
  },
  {
   "cell_type": "markdown",
   "id": "648a20fd",
   "metadata": {},
   "source": [
    "### Add tools to the llm"
   ]
  },
  {
   "cell_type": "code",
   "execution_count": 55,
   "id": "08cfe61c",
   "metadata": {},
   "outputs": [],
   "source": [
    "llm = llm.bind_tools([get_weather, web_search])"
   ]
  },
  {
   "cell_type": "markdown",
   "id": "a67d368c",
   "metadata": {},
   "source": [
    "### State - Message from Langchain"
   ]
  },
  {
   "cell_type": "markdown",
   "id": "3860ee1a",
   "metadata": {},
   "source": [
    "### Reducers\n",
    "\n",
    "##### What? - Reducers are functions to apply updates from nodes to state"
   ]
  },
  {
   "cell_type": "code",
   "execution_count": 56,
   "id": "15e78631",
   "metadata": {},
   "outputs": [],
   "source": [
    "from typing import Annotated, TypedDict\n",
    "from langchain_core.messages import AnyMessage\n",
    "\n",
    "from langgraph.graph.message import add_messages # add_messages is the reducer to add messages to the state\n",
    "\n",
    "class MessagesState(TypedDict):\n",
    "    messages: Annotated[list[AnyMessage], add_messages]"
   ]
  },
  {
   "cell_type": "code",
   "execution_count": 57,
   "id": "c82902ca",
   "metadata": {},
   "outputs": [
    {
     "data": {
      "text/plain": [
       "[AIMessage(content='Hello! How can I assist you?', additional_kwargs={}, response_metadata={}, name='Model', id='4b079dc7-68b9-487e-8b57-9ca84712a0f4'),\n",
       " HumanMessage(content=\"I'm looking for information on marine biology.\", additional_kwargs={}, response_metadata={}, name='Lance', id='b8dbd22b-d2a6-4087-983d-80a25b070d6a'),\n",
       " AIMessage(content='Sure, I can help with that. What specifically are you interested in?', additional_kwargs={}, response_metadata={}, name='Model', id='fb8db46e-18e5-41ac-8351-66ef7971b136')]"
      ]
     },
     "execution_count": 57,
     "metadata": {},
     "output_type": "execute_result"
    }
   ],
   "source": [
    "# BTS of add_messages - reference: https://github.com/langchain-ai/langchain-academy/blob/main/module-1/chain.ipynb \n",
    "from langchain_core.messages import AIMessage, HumanMessage\n",
    "\n",
    "initial_messages = [AIMessage(content=\"Hello! How can I assist you?\", name=\"Model\"),\n",
    "                    HumanMessage(content=\"I'm looking for information on marine biology.\", name=\"Lance\")\n",
    "                   ]\n",
    "\n",
    "# New message to add\n",
    "new_message = AIMessage(content=\"Sure, I can help with that. What specifically are you interested in?\", name=\"Model\")\n",
    "\n",
    "# Test\n",
    "add_messages(initial_messages , new_message)"
   ]
  },
  {
   "cell_type": "markdown",
   "id": "9fc71471",
   "metadata": {},
   "source": [
    "### Node"
   ]
  },
  {
   "cell_type": "code",
   "execution_count": 63,
   "id": "dd24a276",
   "metadata": {},
   "outputs": [],
   "source": [
    "from langchain_core.messages import ToolMessage\n",
    "\n",
    "def main_node(state: MessagesState):\n",
    "\tllm_output = llm.invoke(state[\"messages\"])\n",
    "\t\n",
    "\tupdated_messages = state[\"messages\"] + [llm_output]\n",
    "\t\n",
    "\tfor tool_call in llm_output.tool_calls:\n",
    "\t\ttool = TOOL_MAP[tool_call[\"name\"]]\n",
    "\t\ttool_output = tool.invoke(tool_call[\"args\"])\n",
    "\t\t\n",
    "\t\ttool_message = ToolMessage(\n",
    "\t\t\tcontent=str(tool_output),\n",
    "\t\t\ttool_call_id=tool_call[\"id\"]\n",
    "\t\t)\n",
    "\t\tupdated_messages.append(tool_message)\n",
    "\t\n",
    "\treturn {\"messages\": updated_messages}"
   ]
  },
  {
   "cell_type": "markdown",
   "id": "22e6bdf5",
   "metadata": {},
   "source": [
    "### Build Graph"
   ]
  },
  {
   "cell_type": "code",
   "execution_count": 64,
   "id": "7335d55a",
   "metadata": {},
   "outputs": [
    {
     "data": {
      "image/png": "[encoded data removed]",
      "text/plain": [
       "<IPython.core.display.Image object>"
      ]
     },
     "metadata": {},
     "output_type": "display_data"
    }
   ],
   "source": [
    "from IPython.display import Image, display\n",
    "from langgraph.graph import StateGraph, START, END\n",
    "\n",
    "\n",
    "builder = StateGraph(MessagesState)\n",
    "builder.add_node(\"main_node\", main_node)\n",
    "builder.add_edge(START, \"main_node\")\n",
    "builder.add_edge(\"main_node\", END)\n",
    "graph = builder.compile()\n",
    "\n",
    "\n",
    "display(Image(graph.get_graph().draw_mermaid_png()))"
   ]
  },
  {
   "cell_type": "markdown",
   "id": "15d4b86b",
   "metadata": {},
   "source": [
    "### Invoke Graph"
   ]
  },
  {
   "cell_type": "markdown",
   "id": "bfba7080",
   "metadata": {},
   "source": [
    "#### a. simple message - requring no tools"
   ]
  },
  {
   "cell_type": "code",
   "execution_count": 66,
   "id": "9d005139",
   "metadata": {},
   "outputs": [
    {
     "name": "stdout",
     "output_type": "stream",
     "text": [
      "================================\u001b[1m Human Message \u001b[0m=================================\n",
      "\n",
      "What up!\n",
      "==================================\u001b[1m Ai Message \u001b[0m==================================\n",
      "\n",
      "Hello! How can I help you today?\n"
     ]
    }
   ],
   "source": [
    "messages = graph.invoke({\"messages\": [HumanMessage(content=\"What up!\")]})\n",
    "for m in messages['messages']:\n",
    "    m.pretty_print()"
   ]
  },
  {
   "cell_type": "markdown",
   "id": "cc385948",
   "metadata": {},
   "source": [
    "#### b. tool calling - with weather tool"
   ]
  },
  {
   "cell_type": "code",
   "execution_count": 67,
   "id": "777a89b6",
   "metadata": {},
   "outputs": [
    {
     "name": "stdout",
     "output_type": "stream",
     "text": [
      "================================\u001b[1m Human Message \u001b[0m=================================\n",
      "\n",
      "What is the weather in San Francisco?\n",
      "==================================\u001b[1m Ai Message \u001b[0m==================================\n",
      "Tool Calls:\n",
      "  get_weather (c23d68ba-b1f3-4384-a06a-e4b70a426442)\n",
      " Call ID: c23d68ba-b1f3-4384-a06a-e4b70a426442\n",
      "  Args:\n",
      "    city: San Francisco\n",
      "=================================\u001b[1m Tool Message \u001b[0m=================================\n",
      "\n",
      "The weather in San Francisco is 25 degrees celsius.\n"
     ]
    }
   ],
   "source": [
    "messages = graph.invoke({\"messages\": [HumanMessage(content=\"What is the weather in San Francisco?\")]})\n",
    "for m in messages['messages']:\n",
    "\tm.pretty_print()"
   ]
  },
  {
   "cell_type": "markdown",
   "id": "b50bef16",
   "metadata": {},
   "source": [
    "#### c. tool calling - with web_search tool"
   ]
  },
  {
   "cell_type": "code",
   "execution_count": 68,
   "id": "422986fe",
   "metadata": {},
   "outputs": [
    {
     "name": "stdout",
     "output_type": "stream",
     "text": [
      "================================\u001b[1m Human Message \u001b[0m=================================\n",
      "\n",
      "What is the current news in NY?\n",
      "==================================\u001b[1m Ai Message \u001b[0m==================================\n",
      "Tool Calls:\n",
      "  web_search (429d6ed4-b664-438d-8f26-4143306ef57c)\n",
      " Call ID: 429d6ed4-b664-438d-8f26-4143306ef57c\n",
      "  Args:\n",
      "    query: current news in NY\n",
      "=================================\u001b[1m Tool Message \u001b[0m=================================\n",
      "\n",
      "{'query': 'current news in NY', 'follow_up_questions': None, 'answer': None, 'images': [], 'results': [{'url': 'https://www.nbcnewyork.com/', 'title': 'NBC 4 New York – NY local news, breaking news, weather', 'content': 'Find New York news and weather on NBC 4. NBC New York brings you breaking news alerts, local news and weather forecasts for NY and New Jersey.', 'score': 0.4485476, 'raw_content': None}, {'url': 'https://abc7ny.com/', 'title': 'ABC7 Eyewitness News - WABC-TV New York', 'content': \"Girl injured in Harlem shooting reunites with officers who treated her · Man shot in attempted jewelry robbery in Hell's Kitchen: NYPD · Police shoot and kill dog\", 'score': 0.3804832, 'raw_content': None}, {'url': 'https://www.fox5ny.com/', 'title': 'FOX 5 New York | Local News, Weather, and Live Streams | WNYW', 'content': 'New York news, weather, traffic and sports from FOX 5 NY serving New York City, Long Island, New York, New Jersey and Westchester County. Watch breaking', 'score': 0.3679292, 'raw_content': None}, {'url': 'https://www.cbsnews.com/newyork/local-news/new-york/', 'title': 'New York News', 'content': 'Attack on Pearl Street Mall in Boulder · PHOTOS: 2024 Tompkins Square Halloween Dog Parade held in NYC · Cosplayers flock to New York Comic Con 2024. See photos.', 'score': 0.35133386, 'raw_content': None}, {'url': 'https://nypost.com/', 'title': 'New York Post – Breaking News, Top Headlines, Photos & Videos', 'content': \"Porn's tragic curse Seventh adult star dies of drug-related causes in three years · College basketball star arrested after allegedly attacking girlfriend.\", 'score': 0.32872388, 'raw_content': None}], 'response_time': 1.3}\n"
     ]
    }
   ],
   "source": [
    "messages = graph.invoke({\"messages\": [HumanMessage(content=\"What is the current news in NY?\")]})\n",
    "for m in messages['messages']:\n",
    "    m.pretty_print()"
   ]
  }
 ],
 "metadata": {
  "kernelspec": {
   "display_name": "lc-academy-env",
   "language": "python",
   "name": "python3"
  },
  "language_info": {
   "codemirror_mode": {
    "name": "ipython",
    "version": 3
   },
   "file_extension": ".py",
   "mimetype": "text/x-python",
   "name": "python",
   "nbconvert_exporter": "python",
   "pygments_lexer": "ipython3",
   "version": "3.11.5"
  }
 },
 "nbformat": 4,
 "nbformat_minor": 5
}
